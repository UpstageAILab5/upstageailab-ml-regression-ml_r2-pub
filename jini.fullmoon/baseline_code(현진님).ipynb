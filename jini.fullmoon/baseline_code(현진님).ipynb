{
 "cells": [
  {
   "cell_type": "markdown",
   "metadata": {},
   "source": [
    "### 김현진 작업내용 정리\n",
    "* wandb로 결과치 logging 추가\n",
    "* X,Y 좌표 결측치 추가\n",
    "* xy결측치 채우기 : 1_xy_concat.csv 결과 파일\n",
    "* 대중교통 가중치 : 2_xy_busSubway.csv 결과 파일\n",
    "* 전용 면적 이상치 제거 (275이상 제거)\n",
    "* 지하층 1값으로 대체\n",
    "* 건축년도 신축여부 2009 -> 2004년으로 값 변경* \n",
    "* RandomForestRegressor : model = RandomForestRegressor(n_estimators=100, criterion='squared_error', random_state=1, n_jobs=-1, warm_start=True)  \n",
    "* 수치형, 연속형 변수 : 로그변환\n",
    "  dt_train[col] = np.log1p(dt_train[col])\n",
    "  dt_test[col] = np.log1p(dt_test[col])\n",
    "* 예측값 원복 pred = np.expm1(pred)\n",
    "* 실제값 원복 y_val = np.expm1(y_val) \n",
    "* 삭제: '번지', '고용보험관리번호', 'k-전화번호', 'k-팩스번호',  'k-사용검사일-사용승인일', '청소비관리형태', 'k-관리비부과면적','k-연면적'"
   ]
  },
  {
   "cell_type": "markdown",
   "metadata": {
    "id": "92WHLz8346Yf"
   },
   "source": [
    "# **🏠 부동산 실거래가 Baseline code**\n",
    "> 부동산 실거래가 예측 대회에 오신 여러분 환영합니다! 🎉     \n",
    "> 아래 baseline에서는 RandomForest를 활용해 ML 방법론들을 실제 대회에 적용해보도록 하겠습니다.\n",
    "> 강의는 google colab으로 실행하였기에 아래의 베이스라인 코드와는 일부 차이가 있을 수 있습니다. \n",
    "\n",
    "## Contents\n",
    "- Library Import\n",
    "- Data Load\n",
    "- Data Preprocessing\n",
    "- Feature Engineering\n",
    "- Model Training\n",
    "- Inference\n",
    "- Output File Save\n"
   ]
  },
  {
   "cell_type": "markdown",
   "metadata": {
    "id": "2-DJzJjvO88V"
   },
   "source": [
    "## 1. Library Import\n",
    "- 필요한 라이브러리를 불러옵니다."
   ]
  },
  {
   "cell_type": "code",
   "execution_count": 279,
   "metadata": {
    "colab": {
     "base_uri": "https://localhost:8080/"
    },
    "id": "PKs1Mj7OcWU0",
    "outputId": "d142df48-acc5-4bca-c9be-18575aa6a6dc"
   },
   "outputs": [
    {
     "data": {
      "text/plain": [
       "'\\n!pip install eli5==0.13.0\\n\\n# 한글 폰트 사용을 위한 라이브러리입니다.\\n!apt-get install -y fonts-nanum\\n\\n# wandb 설치\\n!pip install wandb -Uq\\n\\n!pip install plotly\\n!pip install requests\\n!pip install aiohttp\\n!pip install geopy\\n!pip install geopandas\\n!pip install shapely\\n!pip install pyproj\\n!pip install pyarrow\\n!pip install lightgbm\\n'"
      ]
     },
     "execution_count": 279,
     "metadata": {},
     "output_type": "execute_result"
    }
   ],
   "source": [
    "'''\n",
    "!pip install eli5==0.13.0\n",
    "\n",
    "# 한글 폰트 사용을 위한 라이브러리입니다.\n",
    "!apt-get install -y fonts-nanum\n",
    "\n",
    "# wandb 설치\n",
    "!pip install wandb -Uq\n",
    "\n",
    "!pip install plotly\n",
    "!pip install requests\n",
    "!pip install aiohttp\n",
    "!pip install geopy\n",
    "!pip install geopandas\n",
    "!pip install shapely\n",
    "!pip install pyproj\n",
    "!pip install pyarrow\n",
    "!pip install lightgbm\n",
    "'''"
   ]
  },
  {
   "cell_type": "markdown",
   "metadata": {},
   "source": [
    "### wandb 사이트 가입 후 로그인"
   ]
  },
  {
   "cell_type": "code",
   "execution_count": 280,
   "metadata": {},
   "outputs": [],
   "source": [
    "import wandb\n",
    "\n",
    "# 상단에 뜨는 입력 상자에 자신의 키 입력\n",
    "# wandb.login()\n",
    "\n",
    "# 또는 wandb.login(key='자신의 키를 한번만 넣어서 돌려주면 file: /data/ephemeral/home/.netrc에 저장되어 내 PC에서는 자동 로그인')\n",
    "\n",
    "# 하위 주석 풀고 자신의 키 세팅\n",
    "# wandb.login(key='0b5db')"
   ]
  },
  {
   "cell_type": "code",
   "execution_count": 826,
   "metadata": {
    "id": "d-NiCLGs4ZpM"
   },
   "outputs": [],
   "source": [
    "# visualization\n",
    "import matplotlib.pyplot as plt\n",
    "import matplotlib.font_manager as fm\n",
    "fe = fm.FontEntry(\n",
    "    fname=r'/usr/share/fonts/truetype/nanum/NanumGothic.ttf', # ttf 파일이 저장되어 있는 경로\n",
    "    name='NanumBarunGothic')                        # 이 폰트의 원하는 이름 설정\n",
    "fm.fontManager.ttflist.insert(0, fe)              # Matplotlib에 폰트 추가\n",
    "plt.rcParams.update({'font.size': 10, 'font.family': 'NanumBarunGothic'}) # 폰트 설정\n",
    "plt.rc('font', family='NanumBarunGothic')\n",
    "import seaborn as sns\n",
    "\n",
    "# utils\n",
    "import pandas as pd\n",
    "import numpy as np\n",
    "from tqdm import tqdm\n",
    "import pickle\n",
    "import warnings;warnings.filterwarnings('ignore')\n",
    "\n",
    "# Model\n",
    "from sklearn.preprocessing import LabelEncoder\n",
    "from sklearn.model_selection import train_test_split\n",
    "from sklearn.metrics import mean_squared_error\n",
    "from sklearn.ensemble import RandomForestRegressor\n",
    "from sklearn import metrics\n",
    "\n",
    "import eli5\n",
    "from eli5.sklearn import PermutationImportance\n",
    "import plotly\n",
    "from sklearn.metrics import r2_score\n",
    "\n",
    "from geopy.distance import geodesic\n",
    "from shapely.geometry import Point\n",
    "import geopandas as gpd\n",
    "from geopandas.tools import sjoin\n",
    "import pyproj\n",
    "\n",
    "import pyarrow.parquet as arrow_parquet\n",
    "import pyarrow as pa\n",
    "from lightgbm import LGBMRegressor\n",
    "import re\n",
    "import math\n"
   ]
  },
  {
   "cell_type": "markdown",
   "metadata": {
    "id": "OPJvYT0OPAWS"
   },
   "source": [
    "## 2. Data Load"
   ]
  },
  {
   "cell_type": "markdown",
   "metadata": {
    "id": "vvwnwnpNJeR1"
   },
   "source": [
    "#### 2.1. 데이터 로드"
   ]
  },
  {
   "cell_type": "code",
   "execution_count": 282,
   "metadata": {
    "id": "hx6nk3N_4_Tk"
   },
   "outputs": [],
   "source": [
    "# 필요한 데이터를 load 하겠습니다. 경로는 환경에 맞게 지정해주면 됩니다.\n",
    "train_path = '../train.csv'\n",
    "test_path  = '../test.csv'\n",
    "dt = pd.read_csv(train_path)\n",
    "dt_test = pd.read_csv(test_path)"
   ]
  },
  {
   "cell_type": "code",
   "execution_count": 283,
   "metadata": {
    "colab": {
     "base_uri": "https://localhost:8080/"
    },
    "id": "O6tWMND66vT8",
    "outputId": "e0ba702b-6662-4723-c5a1-600d7236e597"
   },
   "outputs": [
    {
     "name": "stdout",
     "output_type": "stream",
     "text": [
      "Train data shape :  (1118822, 52) Test data shape :  (9272, 51)\n"
     ]
    }
   ],
   "source": [
    "# Train data와 Test data shape은 아래와 같습니다.\n",
    "print('Train data shape : ', dt.shape, 'Test data shape : ', dt_test.shape)"
   ]
  },
  {
   "cell_type": "code",
   "execution_count": 284,
   "metadata": {
    "colab": {
     "base_uri": "https://localhost:8080/",
     "height": 654
    },
    "id": "RyiVjtA2631-",
    "outputId": "993f308f-90f7-4a43-9a0c-27f23d5ae348"
   },
   "outputs": [],
   "source": [
    "# Train과 Test data를 살펴보겠습니다.\n",
    "# display(dt.head(1))\n",
    "# display(dt_test.head(1))      # 부동산 실거래가(=Target) column이 제외된 모습입니다."
   ]
  },
  {
   "cell_type": "markdown",
   "metadata": {
    "id": "KVjw5Cnz24nz"
   },
   "source": [
    "## 3. Data Preprocessing"
   ]
  },
  {
   "cell_type": "markdown",
   "metadata": {
    "id": "X24Y1OIR2_oa"
   },
   "source": [
    "- 모델링 전에 데이터 내 결측치, 이상치 등을 제거하고 범주형과 연속형 변수를 살펴보도록 하겠습니다!\n",
    "- 먼저, 용이한 전처리를 위해 train과 test data를 합친 하나의 데이터로 진행하도록 하겠습니다."
   ]
  },
  {
   "cell_type": "code",
   "execution_count": 285,
   "metadata": {
    "id": "vltXVoeRhZiI"
   },
   "outputs": [],
   "source": [
    "# train/test 구분을 위한 칼럼을 하나 만들어 줍니다.\n",
    "dt['is_test'] = 0\n",
    "dt_test['is_test'] = 1\n",
    "concat = pd.concat([dt, dt_test])     # 하나의 데이터로 만들어줍니다."
   ]
  },
  {
   "cell_type": "code",
   "execution_count": 286,
   "metadata": {
    "colab": {
     "base_uri": "https://localhost:8080/"
    },
    "id": "e-iZAY9WxQLK",
    "outputId": "ee049806-cb94-4336-f376-6a5c6947f79a"
   },
   "outputs": [
    {
     "data": {
      "text/plain": [
       "0    1118822\n",
       "1       9272\n",
       "Name: is_test, dtype: int64"
      ]
     },
     "execution_count": 286,
     "metadata": {},
     "output_type": "execute_result"
    }
   ],
   "source": [
    "concat['is_test'].value_counts()      # train과 test data가 하나로 합쳐진 것을 확인할 수 있습니다."
   ]
  },
  {
   "cell_type": "code",
   "execution_count": 287,
   "metadata": {
    "id": "ZTc6lhBhOAhu"
   },
   "outputs": [],
   "source": [
    "# 칼럼 이름을 쉽게 바꿔주겠습니다. 다른 칼럼도 사용에 따라 바꿔주셔도 됩니다!\n",
    "concat = concat.rename(columns={'전용면적(㎡)':'전용면적'})"
   ]
  },
  {
   "cell_type": "markdown",
   "metadata": {
    "id": "jQLCLZYM_vBT"
   },
   "source": [
    "### 3.1. 결측치 탐색 및 보간\n",
    "- 결측치를 처리할 때 많이 쓰는 방법은 삭제(Deletion)과 대체(Imputation) 입니다.\n",
    "- 본 Baseline에서는 결측치가 90% 이상을 차지하는 변수의 결측치는 제거하고, 나머지 결측치는 대체하도록 하겠습니다.\n",
    "  - 연속형 변수의 경우에는 선형보간(Linear interpolation)으로 대체하겠습니다.\n",
    "  - 범주형 변수의 경우에는 'NULL' 이라는 임의의 범주로 대체해주도록 하겠습니다."
   ]
  },
  {
   "cell_type": "markdown",
   "metadata": {
    "id": "e6BUATgqyhOA"
   },
   "source": [
    "- 참고 ✅\n",
    "  - 선형보간(Linear interpolation)이란 두 점의 값이 주어졌을 때 **그 사이의 값**을 추정하기 위해 직선 거리에 따라 선형적으로 계산하는 방법입니다.\n",
    "  - 아래 두개의 붉은 점 사이에 ($x$, $y$) 값을 추정하기 위해, 해당 점이 두 붉은 점을 이은 선형적인 선분에 있다고 가정하고, 단순 비례식으로 ($x$, $y$)를 추정해 보간하는 방법입니다.\n",
    "  - [참고자료](https://ko.wikipedia.org/wiki/%EC%84%A0%ED%98%95_%EB%B3%B4%EA%B0%84%EB%B2%95#:~:text=%EC%84%A0%ED%98%95%20%EB%B3%B4%EA%B0%84%EB%B2%95(%E7%B7%9A%E5%9E%8B%E8%A3%9C%E9%96%93%E6%B3%95,%EC%9C%BC%EB%A1%9C%20%EA%B3%84%EC%82%B0%ED%95%98%EB%8A%94%20%EB%B0%A9%EB%B2%95%EC%9D%B4%EB%8B%A4.)\n"
   ]
  },
  {
   "cell_type": "markdown",
   "metadata": {
    "id": "h9yESQe8yp1c"
   },
   "source": [
    "> ![image.png](data:image/png;base64,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)"
   ]
  },
  {
   "cell_type": "code",
   "execution_count": 288,
   "metadata": {
    "colab": {
     "base_uri": "https://localhost:8080/",
     "height": 232
    },
    "id": "MEHdKgjWZ8lz",
    "outputId": "a1a85968-3d94-4681-e723-e86416c1f551"
   },
   "outputs": [],
   "source": [
    "# 실제로 결측치라고 표시는 안되어있지만 아무 의미도 갖지 않는 element들이 아래와 같이 존재합니다.\n",
    "# 아래 3가지의 경우 모두 아무 의미도 갖지 않는 element가 포함되어 있습니다.\n",
    "# display(concat['등기신청일자'].value_counts())"
   ]
  },
  {
   "cell_type": "code",
   "execution_count": 289,
   "metadata": {
    "colab": {
     "base_uri": "https://localhost:8080/",
     "height": 89
    },
    "id": "OmquYhmsaZhS",
    "outputId": "b9936049-27f9-454f-d88f-07683d6163d6"
   },
   "outputs": [],
   "source": [
    "# display(concat['거래유형'].value_counts())"
   ]
  },
  {
   "cell_type": "code",
   "execution_count": 290,
   "metadata": {
    "colab": {
     "base_uri": "https://localhost:8080/",
     "height": 232
    },
    "id": "kDezmZgQaaXT",
    "outputId": "709b3873-a614-448d-f5fd-1f20ffbba1de"
   },
   "outputs": [],
   "source": [
    "# display(concat['중개사소재지'].value_counts())"
   ]
  },
  {
   "cell_type": "code",
   "execution_count": 291,
   "metadata": {
    "id": "PSC14w1WZ-5I"
   },
   "outputs": [],
   "source": [
    "# 위 처럼 아무 의미도 갖지 않는 칼럼은 결측치와 같은 역할을 하므로, np.nan으로 채워 결측치로 인식되도록 합니다.\n",
    "concat['등기신청일자'] = concat['등기신청일자'].replace(' ', np.nan)\n",
    "concat['거래유형'] = concat['거래유형'].replace('-', np.nan)\n",
    "concat['중개사소재지'] = concat['중개사소재지'].replace('-', np.nan)\n",
    "\n",
    "concat['번지'] = concat['번지'].replace(' ', np.nan)\n",
    "concat['도로명'] = concat['도로명'].replace(' ', np.nan)"
   ]
  },
  {
   "cell_type": "code",
   "execution_count": 292,
   "metadata": {
    "colab": {
     "base_uri": "https://localhost:8080/"
    },
    "id": "msOiDlOPQ8hS",
    "outputId": "4ab60461-ef7e-4037-e6f4-5de494eed5bd"
   },
   "outputs": [
    {
     "data": {
      "text/plain": [
       "시군구                             0\n",
       "번지                            227\n",
       "본번                             75\n",
       "부번                             75\n",
       "아파트명                         2136\n",
       "전용면적                            0\n",
       "계약년월                            0\n",
       "계약일                             0\n",
       "층                               0\n",
       "건축년도                            0\n",
       "도로명                          1211\n",
       "해제사유발생일                   1121899\n",
       "등기신청일자                    1111271\n",
       "거래유형                      1086451\n",
       "중개사소재지                    1090013\n",
       "k-단지분류(아파트,주상복합등등)         877273\n",
       "k-전화번호                     876850\n",
       "k-팩스번호                     879348\n",
       "단지소개기존clob                1058958\n",
       "k-세대타입(분양형태)               876125\n",
       "k-관리방식                     876125\n",
       "k-복도유형                     876454\n",
       "k-난방방식                     876125\n",
       "k-전체동수                     877207\n",
       "k-전체세대수                    876125\n",
       "k-건설사(시공사)                 877637\n",
       "k-시행사                      877834\n",
       "k-사용검사일-사용승인일              876259\n",
       "k-연면적                      876125\n",
       "k-주거전용면적                   876170\n",
       "k-관리비부과면적                  876125\n",
       "k-전용면적별세대현황(60㎡이하)         876170\n",
       "k-전용면적별세대현황(60㎡~85㎡이하)     876170\n",
       "k-85㎡~135㎡이하               876170\n",
       "k-135㎡초과                  1127765\n",
       "k-홈페이지                    1013523\n",
       "k-등록일자                    1116386\n",
       "k-수정일자                     876170\n",
       "고용보험관리번호                   920757\n",
       "경비비관리형태                    877561\n",
       "세대전기계약방법                   885389\n",
       "청소비관리형태                    877751\n",
       "건축면적                       876279\n",
       "주차대수                       876277\n",
       "기타/의무/임대/임의=1/2/3/4        876125\n",
       "단지승인일                      876854\n",
       "사용허가여부                     876125\n",
       "관리비 업로드                    876125\n",
       "좌표X                        876232\n",
       "좌표Y                        876232\n",
       "단지신청일                      876187\n",
       "target                       9272\n",
       "is_test                         0\n",
       "dtype: int64"
      ]
     },
     "metadata": {},
     "output_type": "display_data"
    },
    {
     "data": {
      "text/plain": [
       "53"
      ]
     },
     "metadata": {},
     "output_type": "display_data"
    }
   ],
   "source": [
    "# EDA에 앞서 결측치를 확인해보겠습니다.\n",
    "display(concat.isnull().sum())\n",
    "display(len(concat.columns))"
   ]
  },
  {
   "cell_type": "code",
   "execution_count": 293,
   "metadata": {
    "colab": {
     "base_uri": "https://localhost:8080/",
     "height": 452
    },
    "id": "WcJKURyma8MS",
    "outputId": "e181a5dc-04b9-41b8-be43-ad6f777048f1"
   },
   "outputs": [],
   "source": [
    "# 변수별 결측치의 비율을 plot으로 그려보면 아래와 같습니다.\n",
    "# fig = plt.figure(figsize=(13, 2))\n",
    "# missing = concat.isnull().sum() / concat.shape[0]\n",
    "# missing = missing[missing > 0]\n",
    "# missing.sort_values(inplace=True)\n",
    "# missing.plot.bar(color='orange')\n",
    "# plt.title('변수별 결측치 비율')\n",
    "# plt.show()"
   ]
  },
  {
   "cell_type": "markdown",
   "metadata": {
    "id": "yLNXVw1dysm-"
   },
   "source": [
    "- 위 그래프에서 볼 수 있다시피 결측치가 100만개 이상인 칼럼들은 결측치가 해당 칼럼의 element 중 90% 이상을 차지하는 상황이 됩니다.\n",
    "- 따라서 본 Baseline 에서는 이 칼럼은 예측에 도움이 되지 않는다고 판단해 삭제해주도록 하겠습니다."
   ]
  },
  {
   "cell_type": "code",
   "execution_count": 294,
   "metadata": {
    "colab": {
     "base_uri": "https://localhost:8080/"
    },
    "id": "41uYYfXhTWYB",
    "outputId": "e3c4d33e-56fb-4284-b1ea-3a53251c5a2c"
   },
   "outputs": [
    {
     "name": "stdout",
     "output_type": "stream",
     "text": [
      "* 결측치가 100만개 이하인 변수들 : ['시군구', '번지', '본번', '부번', '아파트명', '전용면적', '계약년월', '계약일', '층', '건축년도', '도로명', 'k-단지분류(아파트,주상복합등등)', 'k-전화번호', 'k-팩스번호', 'k-세대타입(분양형태)', 'k-관리방식', 'k-복도유형', 'k-난방방식', 'k-전체동수', 'k-전체세대수', 'k-건설사(시공사)', 'k-시행사', 'k-사용검사일-사용승인일', 'k-연면적', 'k-주거전용면적', 'k-관리비부과면적', 'k-전용면적별세대현황(60㎡이하)', 'k-전용면적별세대현황(60㎡~85㎡이하)', 'k-85㎡~135㎡이하', 'k-수정일자', '고용보험관리번호', '경비비관리형태', '세대전기계약방법', '청소비관리형태', '건축면적', '주차대수', '기타/의무/임대/임의=1/2/3/4', '단지승인일', '사용허가여부', '관리비 업로드', '좌표X', '좌표Y', '단지신청일', 'target', 'is_test']\n",
      "* 결측치가 100만개 이상인 변수들 : ['해제사유발생일', '등기신청일자', '거래유형', '중개사소재지', '단지소개기존clob', 'k-135㎡초과', 'k-홈페이지', 'k-등록일자']\n"
     ]
    }
   ],
   "source": [
    "# Null값이 100만개 이상인 칼럼은 삭제해보도록 하겠습니다.\n",
    "print('* 결측치가 100만개 이하인 변수들 :', list(concat.columns[concat.isnull().sum() <= 1000000]))     # 남겨질 변수들은 아래와 같습니다.\n",
    "print('* 결측치가 100만개 이상인 변수들 :', list(concat.columns[concat.isnull().sum() >= 1000000]))"
   ]
  },
  {
   "cell_type": "code",
   "execution_count": 295,
   "metadata": {},
   "outputs": [
    {
     "data": {
      "text/html": [
       "<div>\n",
       "<style scoped>\n",
       "    .dataframe tbody tr th:only-of-type {\n",
       "        vertical-align: middle;\n",
       "    }\n",
       "\n",
       "    .dataframe tbody tr th {\n",
       "        vertical-align: top;\n",
       "    }\n",
       "\n",
       "    .dataframe thead th {\n",
       "        text-align: right;\n",
       "    }\n",
       "</style>\n",
       "<table border=\"1\" class=\"dataframe\">\n",
       "  <thead>\n",
       "    <tr style=\"text-align: right;\">\n",
       "      <th></th>\n",
       "      <th>시군구</th>\n",
       "      <th>번지</th>\n",
       "      <th>본번</th>\n",
       "      <th>부번</th>\n",
       "      <th>아파트명</th>\n",
       "      <th>전용면적</th>\n",
       "      <th>계약년월</th>\n",
       "      <th>계약일</th>\n",
       "      <th>층</th>\n",
       "      <th>건축년도</th>\n",
       "      <th>...</th>\n",
       "      <th>주차대수</th>\n",
       "      <th>기타/의무/임대/임의=1/2/3/4</th>\n",
       "      <th>단지승인일</th>\n",
       "      <th>사용허가여부</th>\n",
       "      <th>관리비 업로드</th>\n",
       "      <th>좌표X</th>\n",
       "      <th>좌표Y</th>\n",
       "      <th>단지신청일</th>\n",
       "      <th>target</th>\n",
       "      <th>is_test</th>\n",
       "    </tr>\n",
       "  </thead>\n",
       "  <tbody>\n",
       "    <tr>\n",
       "      <th>0</th>\n",
       "      <td>서울특별시 강남구 개포동</td>\n",
       "      <td>658-1</td>\n",
       "      <td>658.0</td>\n",
       "      <td>1.0</td>\n",
       "      <td>개포6차우성</td>\n",
       "      <td>79.97</td>\n",
       "      <td>201712</td>\n",
       "      <td>8</td>\n",
       "      <td>3</td>\n",
       "      <td>1987</td>\n",
       "      <td>...</td>\n",
       "      <td>262.0</td>\n",
       "      <td>임의</td>\n",
       "      <td>2022-11-17 13:00:29.0</td>\n",
       "      <td>Y</td>\n",
       "      <td>N</td>\n",
       "      <td>127.05721</td>\n",
       "      <td>37.476763</td>\n",
       "      <td>2022-11-17 10:19:06.0</td>\n",
       "      <td>124000.0</td>\n",
       "      <td>0</td>\n",
       "    </tr>\n",
       "  </tbody>\n",
       "</table>\n",
       "<p>1 rows × 45 columns</p>\n",
       "</div>"
      ],
      "text/plain": [
       "             시군구     번지     본번   부번    아파트명   전용면적    계약년월  계약일  층  건축년도  ...  \\\n",
       "0  서울특별시 강남구 개포동  658-1  658.0  1.0  개포6차우성  79.97  201712    8  3  1987  ...   \n",
       "\n",
       "    주차대수 기타/의무/임대/임의=1/2/3/4                  단지승인일 사용허가여부 관리비 업로드        좌표X  \\\n",
       "0  262.0                  임의  2022-11-17 13:00:29.0      Y       N  127.05721   \n",
       "\n",
       "         좌표Y                  단지신청일    target  is_test  \n",
       "0  37.476763  2022-11-17 10:19:06.0  124000.0        0  \n",
       "\n",
       "[1 rows x 45 columns]"
      ]
     },
     "execution_count": 295,
     "metadata": {},
     "output_type": "execute_result"
    }
   ],
   "source": [
    "# 위에서 결측치가 100만개 이하인 변수들만 골라 새로운 concat_select 객체로 저장해줍니다.\n",
    "selected = list(concat.columns[concat.isnull().sum() <= 1000000])\n",
    "concat_select = concat[selected]\n",
    "concat_select.head(1)"
   ]
  },
  {
   "cell_type": "code",
   "execution_count": 296,
   "metadata": {
    "colab": {
     "base_uri": "https://localhost:8080/"
    },
    "id": "cOvWhZncQrO_",
    "outputId": "f73f7b51-b5dc-4635-ad5c-6a9eaa5ef1a0"
   },
   "outputs": [
    {
     "data": {
      "text/plain": [
       "시군구                            0\n",
       "번지                           227\n",
       "본번                            75\n",
       "부번                            75\n",
       "아파트명                        2136\n",
       "전용면적                           0\n",
       "계약년월                           0\n",
       "계약일                            0\n",
       "층                              0\n",
       "건축년도                           0\n",
       "도로명                         1211\n",
       "k-단지분류(아파트,주상복합등등)        877273\n",
       "k-전화번호                    876850\n",
       "k-팩스번호                    879348\n",
       "k-세대타입(분양형태)              876125\n",
       "k-관리방식                    876125\n",
       "k-복도유형                    876454\n",
       "k-난방방식                    876125\n",
       "k-전체동수                    877207\n",
       "k-전체세대수                   876125\n",
       "k-건설사(시공사)                877637\n",
       "k-시행사                     877834\n",
       "k-사용검사일-사용승인일             876259\n",
       "k-연면적                     876125\n",
       "k-주거전용면적                  876170\n",
       "k-관리비부과면적                 876125\n",
       "k-전용면적별세대현황(60㎡이하)        876170\n",
       "k-전용면적별세대현황(60㎡~85㎡이하)    876170\n",
       "k-85㎡~135㎡이하              876170\n",
       "k-수정일자                    876170\n",
       "고용보험관리번호                  920757\n",
       "경비비관리형태                   877561\n",
       "세대전기계약방법                  885389\n",
       "청소비관리형태                   877751\n",
       "건축면적                      876279\n",
       "주차대수                      876277\n",
       "기타/의무/임대/임의=1/2/3/4       876125\n",
       "단지승인일                     876854\n",
       "사용허가여부                    876125\n",
       "관리비 업로드                   876125\n",
       "좌표X                       876232\n",
       "좌표Y                       876232\n",
       "단지신청일                     876187\n",
       "target                      9272\n",
       "is_test                        0\n",
       "dtype: int64"
      ]
     },
     "metadata": {},
     "output_type": "display_data"
    },
    {
     "data": {
      "text/plain": [
       "45"
      ]
     },
     "metadata": {},
     "output_type": "display_data"
    }
   ],
   "source": [
    "# 결측치가 100만개 초과인 칼럼이 제거된 모습은 아래와 같습니다.\n",
    "display(concat_select.isnull().sum())\n",
    "display(len(concat_select.columns))\n",
    "# target변수는 test dataset 개수만큼(9272) 결측치가 존재함을 확인할 수 있습니다."
   ]
  },
  {
   "cell_type": "markdown",
   "metadata": {},
   "source": [
    "### 좌표x, 좌표y 결측치 처리"
   ]
  },
  {
   "cell_type": "code",
   "execution_count": 297,
   "metadata": {},
   "outputs": [],
   "source": [
    "# 외부 데이터로 좌표x, 좌표y 결측치 채운 파일 로드\n",
    "xy_path = '../outputFinal.csv'\n",
    "dt_xy = pd.read_csv(xy_path)"
   ]
  },
  {
   "cell_type": "code",
   "execution_count": 298,
   "metadata": {},
   "outputs": [
    {
     "data": {
      "text/html": [
       "<div>\n",
       "<style scoped>\n",
       "    .dataframe tbody tr th:only-of-type {\n",
       "        vertical-align: middle;\n",
       "    }\n",
       "\n",
       "    .dataframe tbody tr th {\n",
       "        vertical-align: top;\n",
       "    }\n",
       "\n",
       "    .dataframe thead th {\n",
       "        text-align: right;\n",
       "    }\n",
       "</style>\n",
       "<table border=\"1\" class=\"dataframe\">\n",
       "  <thead>\n",
       "    <tr style=\"text-align: right;\">\n",
       "      <th></th>\n",
       "      <th>좌표X</th>\n",
       "      <th>좌표Y</th>\n",
       "      <th>주소</th>\n",
       "    </tr>\n",
       "  </thead>\n",
       "  <tbody>\n",
       "    <tr>\n",
       "      <th>0</th>\n",
       "      <td>127.05721</td>\n",
       "      <td>37.476763</td>\n",
       "      <td>서울특별시 강남구 개포동 언주로 3</td>\n",
       "    </tr>\n",
       "    <tr>\n",
       "      <th>1</th>\n",
       "      <td>127.05721</td>\n",
       "      <td>37.476763</td>\n",
       "      <td>서울특별시 강남구 개포동 언주로 3</td>\n",
       "    </tr>\n",
       "  </tbody>\n",
       "</table>\n",
       "</div>"
      ],
      "text/plain": [
       "         좌표X        좌표Y                   주소\n",
       "0  127.05721  37.476763  서울특별시 강남구 개포동 언주로 3\n",
       "1  127.05721  37.476763  서울특별시 강남구 개포동 언주로 3"
      ]
     },
     "metadata": {},
     "output_type": "display_data"
    },
    {
     "data": {
      "text/html": [
       "<div>\n",
       "<style scoped>\n",
       "    .dataframe tbody tr th:only-of-type {\n",
       "        vertical-align: middle;\n",
       "    }\n",
       "\n",
       "    .dataframe tbody tr th {\n",
       "        vertical-align: top;\n",
       "    }\n",
       "\n",
       "    .dataframe thead th {\n",
       "        text-align: right;\n",
       "    }\n",
       "</style>\n",
       "<table border=\"1\" class=\"dataframe\">\n",
       "  <thead>\n",
       "    <tr style=\"text-align: right;\">\n",
       "      <th></th>\n",
       "      <th>좌표X</th>\n",
       "      <th>좌표Y</th>\n",
       "      <th>주소</th>\n",
       "    </tr>\n",
       "  </thead>\n",
       "  <tbody>\n",
       "    <tr>\n",
       "      <th>1128092</th>\n",
       "      <td>127.063356</td>\n",
       "      <td>37.501358</td>\n",
       "      <td>서울특별시 중랑구 신내동 신내역로1길 85</td>\n",
       "    </tr>\n",
       "    <tr>\n",
       "      <th>1128093</th>\n",
       "      <td>127.063356</td>\n",
       "      <td>37.501358</td>\n",
       "      <td>서울특별시 중랑구 신내동 신내역로1길 85</td>\n",
       "    </tr>\n",
       "  </tbody>\n",
       "</table>\n",
       "</div>"
      ],
      "text/plain": [
       "                좌표X        좌표Y                       주소\n",
       "1128092  127.063356  37.501358  서울특별시 중랑구 신내동 신내역로1길 85\n",
       "1128093  127.063356  37.501358  서울특별시 중랑구 신내동 신내역로1길 85"
      ]
     },
     "metadata": {},
     "output_type": "display_data"
    }
   ],
   "source": [
    "# 외부 데이터에서 필요한 데이터 컬럼만 남김\n",
    "dt_xy_selected = dt_xy.drop(axis=1, columns=['시군구','번지','도로명'])\n",
    "display(dt_xy_selected.head(2))\n",
    "display(dt_xy_selected.tail(2))"
   ]
  },
  {
   "cell_type": "code",
   "execution_count": 299,
   "metadata": {},
   "outputs": [
    {
     "data": {
      "text/plain": [
       "'인텍스가 동일하게 변경되었습니다.'"
      ]
     },
     "metadata": {},
     "output_type": "display_data"
    },
    {
     "data": {
      "text/plain": [
       "Int64Index([   0,    1,    2,    3,    4,    5,    6,    7,    8,    9,\n",
       "            ...\n",
       "            9262, 9263, 9264, 9265, 9266, 9267, 9268, 9269, 9270, 9271],\n",
       "           dtype='int64', length=1128094)"
      ]
     },
     "metadata": {},
     "output_type": "display_data"
    },
    {
     "data": {
      "text/plain": [
       "Int64Index([   0,    1,    2,    3,    4,    5,    6,    7,    8,    9,\n",
       "            ...\n",
       "            9262, 9263, 9264, 9265, 9266, 9267, 9268, 9269, 9270, 9271],\n",
       "           dtype='int64', length=1128094)"
      ]
     },
     "metadata": {},
     "output_type": "display_data"
    },
    {
     "data": {
      "text/html": [
       "<div>\n",
       "<style scoped>\n",
       "    .dataframe tbody tr th:only-of-type {\n",
       "        vertical-align: middle;\n",
       "    }\n",
       "\n",
       "    .dataframe tbody tr th {\n",
       "        vertical-align: top;\n",
       "    }\n",
       "\n",
       "    .dataframe thead th {\n",
       "        text-align: right;\n",
       "    }\n",
       "</style>\n",
       "<table border=\"1\" class=\"dataframe\">\n",
       "  <thead>\n",
       "    <tr style=\"text-align: right;\">\n",
       "      <th></th>\n",
       "      <th>좌표X</th>\n",
       "      <th>좌표Y</th>\n",
       "      <th>주소</th>\n",
       "    </tr>\n",
       "  </thead>\n",
       "  <tbody>\n",
       "    <tr>\n",
       "      <th>0</th>\n",
       "      <td>127.05721</td>\n",
       "      <td>37.476763</td>\n",
       "      <td>서울특별시 강남구 개포동 언주로 3</td>\n",
       "    </tr>\n",
       "  </tbody>\n",
       "</table>\n",
       "</div>"
      ],
      "text/plain": [
       "         좌표X        좌표Y                   주소\n",
       "0  127.05721  37.476763  서울특별시 강남구 개포동 언주로 3"
      ]
     },
     "execution_count": 299,
     "metadata": {},
     "output_type": "execute_result"
    }
   ],
   "source": [
    "# 두 데이터 프레임의 인덱스를 동일하게 만듭니다. \n",
    "# 이렇게 하면 두 데이터 프레임을 병합하거나 다른 연산을 수행할 때 인덱스가 일치하게 됩니다.\n",
    "# 좌표 데이터 프레임 인덱스 == train + test 데이터 프레임 인덱스\n",
    "dt_xy_selected.index = concat_select.index\n",
    "\n",
    "display(\"인텍스가 동일하게 변경되었습니다.\")\n",
    "display(concat_select.index)\n",
    "display(dt_xy_selected.index)\n",
    "\n",
    "dt_xy_selected.head(1)"
   ]
  },
  {
   "cell_type": "code",
   "execution_count": 300,
   "metadata": {},
   "outputs": [
    {
     "data": {
      "text/html": [
       "<div>\n",
       "<style scoped>\n",
       "    .dataframe tbody tr th:only-of-type {\n",
       "        vertical-align: middle;\n",
       "    }\n",
       "\n",
       "    .dataframe tbody tr th {\n",
       "        vertical-align: top;\n",
       "    }\n",
       "\n",
       "    .dataframe thead th {\n",
       "        text-align: right;\n",
       "    }\n",
       "</style>\n",
       "<table border=\"1\" class=\"dataframe\">\n",
       "  <thead>\n",
       "    <tr style=\"text-align: right;\">\n",
       "      <th></th>\n",
       "      <th>시군구</th>\n",
       "      <th>본번</th>\n",
       "      <th>도로명</th>\n",
       "      <th>좌표X</th>\n",
       "      <th>좌표Y</th>\n",
       "    </tr>\n",
       "  </thead>\n",
       "  <tbody>\n",
       "    <tr>\n",
       "      <th>975</th>\n",
       "      <td>서울특별시 강남구 개포동</td>\n",
       "      <td>189.0</td>\n",
       "      <td>삼성로 14</td>\n",
       "      <td>NaN</td>\n",
       "      <td>NaN</td>\n",
       "    </tr>\n",
       "  </tbody>\n",
       "</table>\n",
       "</div>"
      ],
      "text/plain": [
       "               시군구     본번     도로명  좌표X  좌표Y\n",
       "975  서울특별시 강남구 개포동  189.0  삼성로 14  NaN  NaN"
      ]
     },
     "metadata": {},
     "output_type": "display_data"
    },
    {
     "data": {
      "text/html": [
       "<div>\n",
       "<style scoped>\n",
       "    .dataframe tbody tr th:only-of-type {\n",
       "        vertical-align: middle;\n",
       "    }\n",
       "\n",
       "    .dataframe tbody tr th {\n",
       "        vertical-align: top;\n",
       "    }\n",
       "\n",
       "    .dataframe thead th {\n",
       "        text-align: right;\n",
       "    }\n",
       "</style>\n",
       "<table border=\"1\" class=\"dataframe\">\n",
       "  <thead>\n",
       "    <tr style=\"text-align: right;\">\n",
       "      <th></th>\n",
       "      <th>좌표X</th>\n",
       "      <th>좌표Y</th>\n",
       "      <th>주소</th>\n",
       "    </tr>\n",
       "  </thead>\n",
       "  <tbody>\n",
       "    <tr>\n",
       "      <th>975</th>\n",
       "      <td>127.063356</td>\n",
       "      <td>37.501358</td>\n",
       "      <td>서울특별시 강남구 개포동 삼성로 14</td>\n",
       "    </tr>\n",
       "  </tbody>\n",
       "</table>\n",
       "</div>"
      ],
      "text/plain": [
       "            좌표X        좌표Y                    주소\n",
       "975  127.063356  37.501358  서울특별시 강남구 개포동 삼성로 14"
      ]
     },
     "metadata": {},
     "output_type": "display_data"
    }
   ],
   "source": [
    "#좌표 데이터 NaN 데이터\n",
    "display(concat_select[['시군구','본번','도로명','좌표X','좌표Y']][975:976])\n",
    "display(dt_xy_selected[975:976])"
   ]
  },
  {
   "cell_type": "code",
   "execution_count": 301,
   "metadata": {},
   "outputs": [],
   "source": [
    "# concat 좌표 컬럼의 비어있는 값을 dt_xy_selected 컬럼 '좌표X','좌표Y' 값으로 채우기\n",
    "concat_select['좌표X'] = concat_select['좌표X'].combine_first(dt_xy_selected['좌표X'])\n",
    "concat_select['좌표Y'] = concat_select['좌표Y'].combine_first(dt_xy_selected['좌표Y'])\n"
   ]
  },
  {
   "cell_type": "code",
   "execution_count": 302,
   "metadata": {},
   "outputs": [
    {
     "data": {
      "text/html": [
       "<div>\n",
       "<style scoped>\n",
       "    .dataframe tbody tr th:only-of-type {\n",
       "        vertical-align: middle;\n",
       "    }\n",
       "\n",
       "    .dataframe tbody tr th {\n",
       "        vertical-align: top;\n",
       "    }\n",
       "\n",
       "    .dataframe thead th {\n",
       "        text-align: right;\n",
       "    }\n",
       "</style>\n",
       "<table border=\"1\" class=\"dataframe\">\n",
       "  <thead>\n",
       "    <tr style=\"text-align: right;\">\n",
       "      <th></th>\n",
       "      <th>시군구</th>\n",
       "      <th>본번</th>\n",
       "      <th>부번</th>\n",
       "      <th>도로명</th>\n",
       "      <th>좌표X</th>\n",
       "      <th>좌표Y</th>\n",
       "    </tr>\n",
       "  </thead>\n",
       "  <tbody>\n",
       "    <tr>\n",
       "      <th>975</th>\n",
       "      <td>서울특별시 강남구 개포동</td>\n",
       "      <td>189.0</td>\n",
       "      <td>0.0</td>\n",
       "      <td>삼성로 14</td>\n",
       "      <td>127.063356</td>\n",
       "      <td>37.501358</td>\n",
       "    </tr>\n",
       "  </tbody>\n",
       "</table>\n",
       "</div>"
      ],
      "text/plain": [
       "               시군구     본번   부번     도로명         좌표X        좌표Y\n",
       "975  서울특별시 강남구 개포동  189.0  0.0  삼성로 14  127.063356  37.501358"
      ]
     },
     "metadata": {},
     "output_type": "display_data"
    },
    {
     "data": {
      "text/html": [
       "<div>\n",
       "<style scoped>\n",
       "    .dataframe tbody tr th:only-of-type {\n",
       "        vertical-align: middle;\n",
       "    }\n",
       "\n",
       "    .dataframe tbody tr th {\n",
       "        vertical-align: top;\n",
       "    }\n",
       "\n",
       "    .dataframe thead th {\n",
       "        text-align: right;\n",
       "    }\n",
       "</style>\n",
       "<table border=\"1\" class=\"dataframe\">\n",
       "  <thead>\n",
       "    <tr style=\"text-align: right;\">\n",
       "      <th></th>\n",
       "      <th>좌표X</th>\n",
       "      <th>좌표Y</th>\n",
       "      <th>주소</th>\n",
       "    </tr>\n",
       "  </thead>\n",
       "  <tbody>\n",
       "    <tr>\n",
       "      <th>975</th>\n",
       "      <td>127.063356</td>\n",
       "      <td>37.501358</td>\n",
       "      <td>서울특별시 강남구 개포동 삼성로 14</td>\n",
       "    </tr>\n",
       "  </tbody>\n",
       "</table>\n",
       "</div>"
      ],
      "text/plain": [
       "            좌표X        좌표Y                    주소\n",
       "975  127.063356  37.501358  서울특별시 강남구 개포동 삼성로 14"
      ]
     },
     "metadata": {},
     "output_type": "display_data"
    }
   ],
   "source": [
    "#좌표 데이터 채워진 데이터 확인\n",
    "display(concat_select[['시군구','본번','부번','도로명','좌표X','좌표Y']][975:976])\n",
    "display(dt_xy_selected[975:976])"
   ]
  },
  {
   "cell_type": "code",
   "execution_count": 303,
   "metadata": {},
   "outputs": [
    {
     "data": {
      "text/plain": [
       "0"
      ]
     },
     "metadata": {},
     "output_type": "display_data"
    },
    {
     "data": {
      "text/plain": [
       "0"
      ]
     },
     "metadata": {},
     "output_type": "display_data"
    }
   ],
   "source": [
    "# 결측치가 모두 채워졌는지 확인\n",
    "display(concat_select['좌표X'].isna().sum())\n",
    "display(concat_select['좌표Y'].isna().sum())"
   ]
  },
  {
   "cell_type": "code",
   "execution_count": 304,
   "metadata": {},
   "outputs": [
    {
     "data": {
      "text/plain": [
       "45"
      ]
     },
     "metadata": {},
     "output_type": "display_data"
    }
   ],
   "source": [
    "display(len(concat_select.columns))\n",
    "concat_select.to_csv('../1_xy_concat.csv', index=False)"
   ]
  },
  {
   "cell_type": "markdown",
   "metadata": {},
   "source": [
    "# 여기 이후부터 1_xy_concat.csv 로 Run 가능"
   ]
  },
  {
   "cell_type": "code",
   "execution_count": 305,
   "metadata": {},
   "outputs": [
    {
     "data": {
      "text/html": [
       "<div>\n",
       "<style scoped>\n",
       "    .dataframe tbody tr th:only-of-type {\n",
       "        vertical-align: middle;\n",
       "    }\n",
       "\n",
       "    .dataframe tbody tr th {\n",
       "        vertical-align: top;\n",
       "    }\n",
       "\n",
       "    .dataframe thead th {\n",
       "        text-align: right;\n",
       "    }\n",
       "</style>\n",
       "<table border=\"1\" class=\"dataframe\">\n",
       "  <thead>\n",
       "    <tr style=\"text-align: right;\">\n",
       "      <th></th>\n",
       "      <th>시군구</th>\n",
       "      <th>번지</th>\n",
       "      <th>본번</th>\n",
       "      <th>부번</th>\n",
       "      <th>아파트명</th>\n",
       "      <th>전용면적</th>\n",
       "      <th>계약년월</th>\n",
       "      <th>계약일</th>\n",
       "      <th>층</th>\n",
       "      <th>건축년도</th>\n",
       "      <th>...</th>\n",
       "      <th>주차대수</th>\n",
       "      <th>기타/의무/임대/임의=1/2/3/4</th>\n",
       "      <th>단지승인일</th>\n",
       "      <th>사용허가여부</th>\n",
       "      <th>관리비 업로드</th>\n",
       "      <th>좌표X</th>\n",
       "      <th>좌표Y</th>\n",
       "      <th>단지신청일</th>\n",
       "      <th>target</th>\n",
       "      <th>is_test</th>\n",
       "    </tr>\n",
       "  </thead>\n",
       "  <tbody>\n",
       "    <tr>\n",
       "      <th>0</th>\n",
       "      <td>서울특별시 강남구 개포동</td>\n",
       "      <td>658-1</td>\n",
       "      <td>658.0</td>\n",
       "      <td>1.0</td>\n",
       "      <td>개포6차우성</td>\n",
       "      <td>79.97</td>\n",
       "      <td>201712</td>\n",
       "      <td>8</td>\n",
       "      <td>3</td>\n",
       "      <td>1987</td>\n",
       "      <td>...</td>\n",
       "      <td>262.0</td>\n",
       "      <td>임의</td>\n",
       "      <td>2022-11-17 13:00:29.0</td>\n",
       "      <td>Y</td>\n",
       "      <td>N</td>\n",
       "      <td>127.05721</td>\n",
       "      <td>37.476763</td>\n",
       "      <td>2022-11-17 10:19:06.0</td>\n",
       "      <td>124000.0</td>\n",
       "      <td>0</td>\n",
       "    </tr>\n",
       "  </tbody>\n",
       "</table>\n",
       "<p>1 rows × 45 columns</p>\n",
       "</div>"
      ],
      "text/plain": [
       "             시군구     번지     본번   부번    아파트명   전용면적    계약년월  계약일  층  건축년도  ...  \\\n",
       "0  서울특별시 강남구 개포동  658-1  658.0  1.0  개포6차우성  79.97  201712    8  3  1987  ...   \n",
       "\n",
       "    주차대수 기타/의무/임대/임의=1/2/3/4                  단지승인일 사용허가여부 관리비 업로드        좌표X  \\\n",
       "0  262.0                  임의  2022-11-17 13:00:29.0      Y       N  127.05721   \n",
       "\n",
       "         좌표Y                  단지신청일    target  is_test  \n",
       "0  37.476763  2022-11-17 10:19:06.0  124000.0        0  \n",
       "\n",
       "[1 rows x 45 columns]"
      ]
     },
     "execution_count": 305,
     "metadata": {},
     "output_type": "execute_result"
    }
   ],
   "source": [
    "# 여기 이후부터 run 시키기 위해 파일로 한번 저장 후 데이터 리로드\n",
    "concat_select = pd.read_csv('../1_xy_concat.csv')\n",
    "concat_select.head(1)"
   ]
  },
  {
   "cell_type": "markdown",
   "metadata": {},
   "source": [
    "### 대중교통 가중치 적용"
   ]
  },
  {
   "cell_type": "code",
   "execution_count": 306,
   "metadata": {},
   "outputs": [],
   "source": [
    "### 아파트와 지하철 역의 위치 데이터를 사용하여 밀도를 계산하는 함수\n",
    "# bus-station density, subway-station density\n",
    "\n",
    "#1. 아파트 위도와 경도 정보를 UTM-K 좌표계로 변환하고, 이를 기반으로 지오메트리 컬럼을 생성합니다.\n",
    "def preprocess_data(df, x_col, y_col):\n",
    "    wgs84 = pyproj.CRS('EPSG:4326')  # WGS84 좌표계 (위도, 경도)\n",
    "    utm_k = pyproj.CRS('EPSG:5179')  # UTM-K 좌표계 (한국)\n",
    "    project = pyproj.Transformer.from_crs(wgs84, utm_k, always_xy=True).transform\n",
    "    \n",
    "    df['geometry'] = df.apply(lambda row: Point(project(row[x_col], row[y_col])), axis=1)\n",
    "    return gpd.GeoDataFrame(df, geometry='geometry', crs=utm_k)\n",
    "\n",
    "# 2. 위치 데이터를 사용하여 주어진 반경 내의 밀도를 계산합니다.\n",
    "def calculate_density(gdf_real_estate, gdf_locations, radius):\n",
    "    gdf_real_estate['buffer'] = gdf_real_estate.geometry.buffer(radius)\n",
    "    \n",
    "    joined = sjoin(gdf_locations, gdf_real_estate.set_geometry('buffer'), how='inner', predicate='within')\n",
    "    \n",
    "    density = joined.groupby(joined.index_right).size().rename('density')\n",
    "    \n",
    "    return gdf_real_estate.join(density, how='left').fillna(0)['density']\n",
    "\n",
    "\n",
    "# 큰 데이터프레임을 작은 청크로 나누어 처리하여 메모리 사용을 최적화\n",
    "def process_in_chunks(df, locations_gdf, radius, chunk_size=10000):\n",
    "    results = []\n",
    "    for i in tqdm(range(0, len(df), chunk_size)):\n",
    "        chunk = df.iloc[i:i+chunk_size]\n",
    "        chunk_gdf = preprocess_data(chunk, '좌표X', '좌표Y')\n",
    "        density = calculate_density(chunk_gdf, locations_gdf, radius)\n",
    "        results.append(density)\n",
    "    return pd.concat(results)"
   ]
  },
  {
   "cell_type": "code",
   "execution_count": 307,
   "metadata": {},
   "outputs": [],
   "source": [
    "# 버스, 지하철 데이터\n",
    "bus_path  = '../bus_feature.csv'\n",
    "subway_path  = '../subway_feature.csv'\n",
    "\n",
    "#버스\n",
    "dt_bus = pd.read_csv(bus_path)\n",
    "#지하철\n",
    "dt_subway = pd.read_csv(subway_path)"
   ]
  },
  {
   "cell_type": "code",
   "execution_count": 308,
   "metadata": {},
   "outputs": [
    {
     "data": {
      "text/html": [
       "<div>\n",
       "<style scoped>\n",
       "    .dataframe tbody tr th:only-of-type {\n",
       "        vertical-align: middle;\n",
       "    }\n",
       "\n",
       "    .dataframe tbody tr th {\n",
       "        vertical-align: top;\n",
       "    }\n",
       "\n",
       "    .dataframe thead th {\n",
       "        text-align: right;\n",
       "    }\n",
       "</style>\n",
       "<table border=\"1\" class=\"dataframe\">\n",
       "  <thead>\n",
       "    <tr style=\"text-align: right;\">\n",
       "      <th></th>\n",
       "      <th>시군구</th>\n",
       "      <th>본번</th>\n",
       "      <th>좌표X</th>\n",
       "      <th>좌표Y</th>\n",
       "    </tr>\n",
       "  </thead>\n",
       "  <tbody>\n",
       "    <tr>\n",
       "      <th>0</th>\n",
       "      <td>서울특별시 강남구 개포동</td>\n",
       "      <td>658.0</td>\n",
       "      <td>127.05721</td>\n",
       "      <td>37.476763</td>\n",
       "    </tr>\n",
       "  </tbody>\n",
       "</table>\n",
       "</div>"
      ],
      "text/plain": [
       "             시군구     본번        좌표X        좌표Y\n",
       "0  서울특별시 강남구 개포동  658.0  127.05721  37.476763"
      ]
     },
     "metadata": {},
     "output_type": "display_data"
    },
    {
     "data": {
      "text/plain": [
       "45"
      ]
     },
     "metadata": {},
     "output_type": "display_data"
    },
    {
     "data": {
      "text/html": [
       "<div>\n",
       "<style scoped>\n",
       "    .dataframe tbody tr th:only-of-type {\n",
       "        vertical-align: middle;\n",
       "    }\n",
       "\n",
       "    .dataframe tbody tr th {\n",
       "        vertical-align: top;\n",
       "    }\n",
       "\n",
       "    .dataframe thead th {\n",
       "        text-align: right;\n",
       "    }\n",
       "</style>\n",
       "<table border=\"1\" class=\"dataframe\">\n",
       "  <thead>\n",
       "    <tr style=\"text-align: right;\">\n",
       "      <th></th>\n",
       "      <th>노드 ID</th>\n",
       "      <th>정류소번호</th>\n",
       "      <th>정류소명</th>\n",
       "      <th>X좌표</th>\n",
       "      <th>Y좌표</th>\n",
       "      <th>정류소 타입</th>\n",
       "    </tr>\n",
       "  </thead>\n",
       "  <tbody>\n",
       "    <tr>\n",
       "      <th>0</th>\n",
       "      <td>100000001</td>\n",
       "      <td>1001</td>\n",
       "      <td>종로2가사거리</td>\n",
       "      <td>126.987752</td>\n",
       "      <td>37.569808</td>\n",
       "      <td>중앙차로</td>\n",
       "    </tr>\n",
       "  </tbody>\n",
       "</table>\n",
       "</div>"
      ],
      "text/plain": [
       "       노드 ID  정류소번호     정류소명         X좌표        Y좌표 정류소 타입\n",
       "0  100000001   1001  종로2가사거리  126.987752  37.569808   중앙차로"
      ]
     },
     "metadata": {},
     "output_type": "display_data"
    },
    {
     "data": {
      "text/html": [
       "<div>\n",
       "<style scoped>\n",
       "    .dataframe tbody tr th:only-of-type {\n",
       "        vertical-align: middle;\n",
       "    }\n",
       "\n",
       "    .dataframe tbody tr th {\n",
       "        vertical-align: top;\n",
       "    }\n",
       "\n",
       "    .dataframe thead th {\n",
       "        text-align: right;\n",
       "    }\n",
       "</style>\n",
       "<table border=\"1\" class=\"dataframe\">\n",
       "  <thead>\n",
       "    <tr style=\"text-align: right;\">\n",
       "      <th></th>\n",
       "      <th>역사_ID</th>\n",
       "      <th>역사명</th>\n",
       "      <th>호선</th>\n",
       "      <th>위도</th>\n",
       "      <th>경도</th>\n",
       "    </tr>\n",
       "  </thead>\n",
       "  <tbody>\n",
       "    <tr>\n",
       "      <th>0</th>\n",
       "      <td>9996</td>\n",
       "      <td>미사</td>\n",
       "      <td>5호선</td>\n",
       "      <td>37.560927</td>\n",
       "      <td>127.193877</td>\n",
       "    </tr>\n",
       "  </tbody>\n",
       "</table>\n",
       "</div>"
      ],
      "text/plain": [
       "   역사_ID 역사명   호선         위도          경도\n",
       "0   9996  미사  5호선  37.560927  127.193877"
      ]
     },
     "metadata": {},
     "output_type": "display_data"
    }
   ],
   "source": [
    "display(concat_select[['시군구','본번', '좌표X', '좌표Y']].head(1))\n",
    "display(len(concat_select.columns))\n",
    "display(dt_bus.head(1))\n",
    "display(dt_subway.head(1))"
   ]
  },
  {
   "cell_type": "code",
   "execution_count": 309,
   "metadata": {},
   "outputs": [
    {
     "data": {
      "text/html": [
       "<div>\n",
       "<style scoped>\n",
       "    .dataframe tbody tr th:only-of-type {\n",
       "        vertical-align: middle;\n",
       "    }\n",
       "\n",
       "    .dataframe tbody tr th {\n",
       "        vertical-align: top;\n",
       "    }\n",
       "\n",
       "    .dataframe thead th {\n",
       "        text-align: right;\n",
       "    }\n",
       "</style>\n",
       "<table border=\"1\" class=\"dataframe\">\n",
       "  <thead>\n",
       "    <tr style=\"text-align: right;\">\n",
       "      <th></th>\n",
       "      <th>노드 ID</th>\n",
       "      <th>정류소번호</th>\n",
       "      <th>정류소명</th>\n",
       "      <th>X좌표</th>\n",
       "      <th>Y좌표</th>\n",
       "      <th>정류소 타입</th>\n",
       "      <th>geometry</th>\n",
       "    </tr>\n",
       "  </thead>\n",
       "  <tbody>\n",
       "    <tr>\n",
       "      <th>0</th>\n",
       "      <td>100000001</td>\n",
       "      <td>1001</td>\n",
       "      <td>종로2가사거리</td>\n",
       "      <td>126.987752</td>\n",
       "      <td>37.569808</td>\n",
       "      <td>중앙차로</td>\n",
       "      <td>POINT (954764.39 1952394.348)</td>\n",
       "    </tr>\n",
       "    <tr>\n",
       "      <th>1</th>\n",
       "      <td>100000002</td>\n",
       "      <td>1002</td>\n",
       "      <td>창경궁.서울대학교병원</td>\n",
       "      <td>126.996566</td>\n",
       "      <td>37.579183</td>\n",
       "      <td>중앙차로</td>\n",
       "      <td>POINT (955548.315 1953430.255)</td>\n",
       "    </tr>\n",
       "  </tbody>\n",
       "</table>\n",
       "</div>"
      ],
      "text/plain": [
       "       노드 ID  정류소번호         정류소명         X좌표        Y좌표 정류소 타입  \\\n",
       "0  100000001   1001      종로2가사거리  126.987752  37.569808   중앙차로   \n",
       "1  100000002   1002  창경궁.서울대학교병원  126.996566  37.579183   중앙차로   \n",
       "\n",
       "                         geometry  \n",
       "0   POINT (954764.39 1952394.348)  \n",
       "1  POINT (955548.315 1953430.255)  "
      ]
     },
     "metadata": {},
     "output_type": "display_data"
    },
    {
     "data": {
      "text/html": [
       "<div>\n",
       "<style scoped>\n",
       "    .dataframe tbody tr th:only-of-type {\n",
       "        vertical-align: middle;\n",
       "    }\n",
       "\n",
       "    .dataframe tbody tr th {\n",
       "        vertical-align: top;\n",
       "    }\n",
       "\n",
       "    .dataframe thead th {\n",
       "        text-align: right;\n",
       "    }\n",
       "</style>\n",
       "<table border=\"1\" class=\"dataframe\">\n",
       "  <thead>\n",
       "    <tr style=\"text-align: right;\">\n",
       "      <th></th>\n",
       "      <th>역사_ID</th>\n",
       "      <th>역사명</th>\n",
       "      <th>호선</th>\n",
       "      <th>위도</th>\n",
       "      <th>경도</th>\n",
       "      <th>geometry</th>\n",
       "    </tr>\n",
       "  </thead>\n",
       "  <tbody>\n",
       "    <tr>\n",
       "      <th>0</th>\n",
       "      <td>9996</td>\n",
       "      <td>미사</td>\n",
       "      <td>5호선</td>\n",
       "      <td>37.560927</td>\n",
       "      <td>127.193877</td>\n",
       "      <td>POINT (972963.732 1951329.788)</td>\n",
       "    </tr>\n",
       "    <tr>\n",
       "      <th>1</th>\n",
       "      <td>9995</td>\n",
       "      <td>강일</td>\n",
       "      <td>5호선</td>\n",
       "      <td>37.557490</td>\n",
       "      <td>127.175930</td>\n",
       "      <td>POINT (971377.365 1950953.787)</td>\n",
       "    </tr>\n",
       "  </tbody>\n",
       "</table>\n",
       "</div>"
      ],
      "text/plain": [
       "   역사_ID 역사명   호선         위도          경도                        geometry\n",
       "0   9996  미사  5호선  37.560927  127.193877  POINT (972963.732 1951329.788)\n",
       "1   9995  강일  5호선  37.557490  127.175930  POINT (971377.365 1950953.787)"
      ]
     },
     "metadata": {},
     "output_type": "display_data"
    }
   ],
   "source": [
    "# 버스 정류장  X, Y로 변환\n",
    "bus_gdf = preprocess_data(dt_bus, 'X좌표', 'Y좌표')  # 버스 정류장 좌표계 변환\n",
    "display(bus_gdf.head(2))\n",
    "\n",
    "# 지하철 데이터  X, Y로 변환\n",
    "subway_gdf = preprocess_data(dt_subway, '경도', '위도')  # 지하철 데이터도 동일하게 좌표 변환\n",
    "display(subway_gdf.head(2))"
   ]
  },
  {
   "cell_type": "markdown",
   "metadata": {},
   "source": [
    "### 버스 정류소 반경이나 지하철 반경값 조정해서 데이터 학습시켜 볼 수 있음"
   ]
  },
  {
   "cell_type": "code",
   "execution_count": 310,
   "metadata": {},
   "outputs": [],
   "source": [
    "# 반경 설정\n",
    "bus_radius = 500  # 미터 단위\n",
    "subway_radius = 4000  # 1km를 미터 단위로 표현\n",
    "\n",
    "# 청크 크기 설정\n",
    "chunk_size = 10000"
   ]
  },
  {
   "cell_type": "markdown",
   "metadata": {},
   "source": [
    "### 2분 정도 시간 소요"
   ]
  },
  {
   "cell_type": "code",
   "execution_count": 311,
   "metadata": {},
   "outputs": [
    {
     "name": "stdout",
     "output_type": "stream",
     "text": [
      "버스 정류장 밀도 계산 중 (500m 반경)...\n"
     ]
    },
    {
     "name": "stderr",
     "output_type": "stream",
     "text": [
      "100%|██████████| 113/113 [00:57<00:00,  1.97it/s]\n"
     ]
    },
    {
     "name": "stdout",
     "output_type": "stream",
     "text": [
      "지하철역 밀도 계산 중 (4km 반경)...\n"
     ]
    },
    {
     "name": "stderr",
     "output_type": "stream",
     "text": [
      "100%|██████████| 113/113 [01:17<00:00,  1.45it/s]"
     ]
    },
    {
     "name": "stdout",
     "output_type": "stream",
     "text": [
      "         좌표X        좌표Y  bus_stop_density_500m  subway_station_density_1km\n",
      "0  127.05721  37.476763                     13                          25\n",
      "1  127.05721  37.476763                     13                          25\n",
      "2  127.05721  37.476763                     13                          25\n",
      "3  127.05721  37.476763                     13                          25\n",
      "4  127.05721  37.476763                     13                          25\n"
     ]
    },
    {
     "name": "stderr",
     "output_type": "stream",
     "text": [
      "\n"
     ]
    }
   ],
   "source": [
    "print(\"버스 정류장 밀도 계산 중 (500m 반경)...\")\n",
    "concat_select['bus_stop_density_500m'] = process_in_chunks(concat_select, bus_gdf, bus_radius, chunk_size)\n",
    "\n",
    "print(\"지하철역 밀도 계산 중 (4km 반경)...\")\n",
    "concat_select['subway_station_density_1km'] = process_in_chunks(concat_select, subway_gdf, subway_radius, chunk_size)\n",
    "\n",
    "# 결과 출력\n",
    "print(concat_select[['좌표X', '좌표Y', 'bus_stop_density_500m', 'subway_station_density_1km']].head())\n"
   ]
  },
  {
   "cell_type": "code",
   "execution_count": 312,
   "metadata": {},
   "outputs": [],
   "source": [
    "# 가중치를 적용:\n",
    "bus_weight = 0.5  # 예: 버스 밀도에 가중치 0.5\n",
    "subway_weight = 0.8  # 예: 지하철 밀도에 가중치 0.7\n",
    "\n",
    "concat_select['대중교통가중치'] = (concat_select['bus_stop_density_500m'] * bus_weight + \n",
    "                                       concat_select['subway_station_density_1km'] * subway_weight)\n",
    "                                       \n",
    "concat_select= concat_select.drop(columns=['bus_stop_density_500m','subway_station_density_1km'])"
   ]
  },
  {
   "cell_type": "code",
   "execution_count": 313,
   "metadata": {},
   "outputs": [
    {
     "data": {
      "text/plain": [
       "(1128094, 46)"
      ]
     },
     "metadata": {},
     "output_type": "display_data"
    },
    {
     "name": "stdout",
     "output_type": "stream",
     "text": [
      "Index(['시군구', '번지', '본번', '부번', '아파트명', '전용면적', '계약년월', '계약일', '층', '건축년도',\n",
      "       '도로명', 'k-단지분류(아파트,주상복합등등)', 'k-전화번호', 'k-팩스번호', 'k-세대타입(분양형태)',\n",
      "       'k-관리방식', 'k-복도유형', 'k-난방방식', 'k-전체동수', 'k-전체세대수', 'k-건설사(시공사)',\n",
      "       'k-시행사', 'k-사용검사일-사용승인일', 'k-연면적', 'k-주거전용면적', 'k-관리비부과면적',\n",
      "       'k-전용면적별세대현황(60㎡이하)', 'k-전용면적별세대현황(60㎡~85㎡이하)', 'k-85㎡~135㎡이하',\n",
      "       'k-수정일자', '고용보험관리번호', '경비비관리형태', '세대전기계약방법', '청소비관리형태', '건축면적', '주차대수',\n",
      "       '기타/의무/임대/임의=1/2/3/4', '단지승인일', '사용허가여부', '관리비 업로드', '좌표X', '좌표Y',\n",
      "       '단지신청일', 'target', 'is_test', '대중교통가중치'],\n",
      "      dtype='object')\n"
     ]
    },
    {
     "data": {
      "text/plain": [
       "0    26.5\n",
       "1    26.5\n",
       "2    26.5\n",
       "3    26.5\n",
       "4    26.5\n",
       "Name: 대중교통가중치, dtype: float64"
      ]
     },
     "metadata": {},
     "output_type": "display_data"
    },
    {
     "data": {
      "text/plain": [
       "count    1.128094e+06\n",
       "mean     4.396414e+01\n",
       "std      6.943936e+00\n",
       "min      5.900000e+00\n",
       "25%      4.500000e+01\n",
       "50%      4.500000e+01\n",
       "75%      4.500000e+01\n",
       "max      8.950000e+01\n",
       "Name: 대중교통가중치, dtype: float64"
      ]
     },
     "metadata": {},
     "output_type": "display_data"
    }
   ],
   "source": [
    "display(concat_select.shape)\n",
    "print(concat_select.columns)\n",
    "display(concat_select['대중교통가중치'].head(5))\n",
    "display(concat_select['대중교통가중치'].describe())"
   ]
  },
  {
   "cell_type": "code",
   "execution_count": 314,
   "metadata": {},
   "outputs": [],
   "source": [
    "# 여기까지 실행내용 저장\n",
    "concat_select.to_csv('../2_xy_busSubway.csv', index=False)"
   ]
  },
  {
   "cell_type": "markdown",
   "metadata": {},
   "source": [
    "#### 대장아파트와의 거리 계산"
   ]
  },
  {
   "cell_type": "code",
   "execution_count": 827,
   "metadata": {},
   "outputs": [],
   "source": [
    "# 지역구별 대장 아파트들을 입력합니다.\n",
    "lead_house = {\n",
    "    \"강서구\" : (37.56520754904415, 126.82349451366355),\n",
    "    \"관악구\" : (37.47800896704934, 126.94178722423047),\n",
    "    \"강남구\" : (37.530594054209146, 127.0262701317293),\n",
    "    \"강동구\" : (37.557175745977375, 127.16359581113558),\n",
    "    \"광진구\" : (37.543083184171, 127.0998363490422),\n",
    "    \"구로구\" : (37.51045944660659, 126.88687199829572),\n",
    "    \"금천구\" : (37.459818907487936, 126.89741481874103),\n",
    "    \"노원구\" : (37.63952738902813, 127.07234254197617),\n",
    "    \"도봉구\" : (37.65775043994647, 127.04345013224447),\n",
    "    \"동대문구\" : (37.57760781415707, 127.05375628992316),\n",
    "    \"동작구\" : (37.509881249641495, 126.9618159122961),\n",
    "    \"마포구\" : (37.54341664563958, 126.93601641235335),\n",
    "    \"서대문구\" : (37.55808950436837, 126.9559315685538),\n",
    "    \"서초구\" : (37.50625410912666, 126.99846468032919),\n",
    "    \"성동구\" : (37.53870643389788, 127.04496220606433),\n",
    "    \"성북구\" : (37.61158435092128, 127.02699796439015),\n",
    "    \"송파구\" : (37.512817775046074, 127.08340371063358),\n",
    "    \"양천구\" : (37.526754982736556, 126.86618704123521),\n",
    "    \"영등포구\" : (37.52071403351804, 126.93668907644046),\n",
    "    \"용산구\" : (37.521223570097305, 126.97345317787784),\n",
    "    \"은평구\" : (37.60181702377437, 126.9362806808709),\n",
    "    \"종로구\" : (37.56856915384472, 126.96687674967252),\n",
    "    \"중구\" : (37.5544678205846, 126.9634879236162),\n",
    "    \"중랑구\" : (37.58171824083332, 127.08183326205129),\n",
    "    \"강북구\" : (37.61186335979484, 127.02822407466175)\n",
    "}"
   ]
  },
  {
   "cell_type": "code",
   "execution_count": 828,
   "metadata": {},
   "outputs": [],
   "source": [
    "# 위경도를 이용해 두 지점간의 거리를 구하는 함수를 생성합니다.\n",
    "def haversine_distance(lat1, lon1, lat2, lon2):\n",
    "    radius = 6371.0\n",
    "\n",
    "    lat1 = math.radians(lat1)\n",
    "    lon1 = math.radians(lon1)\n",
    "    lat2 = math.radians(lat2)\n",
    "    lon2 = math.radians(lon2)\n",
    "\n",
    "    dlon = lon2 - lon1\n",
    "    dlat = lat2 - lat1\n",
    "    a = math.sin(dlat / 2) ** 2 + math.cos(lat1) * math.cos(lat2) * math.sin(dlon / 2) ** 2\n",
    "    c = 2 * math.atan2(math.sqrt(a), math.sqrt(1 - a))\n",
    "\n",
    "    distance = radius * c\n",
    "    return distance"
   ]
  },
  {
   "cell_type": "markdown",
   "metadata": {},
   "source": [
    "# 하위부터 실행 가능 : 2_xy_busSubway.csv 데이터 리로드\n",
    "1. train, test 데이터 로드\n",
    "\n",
    "2. concat = pd.concat([dt, dt_test]) : train + test\n",
    "\n",
    "3. concat['is_test'].value_counts() \n",
    "\t0    1118822 train \n",
    "\t1       9272  test\n",
    "\n",
    "4. np.nan으로 채워 결측치로 인식되도록\n",
    "concat['등기신청일자'] = concat['등기신청일자'].replace(' ', np.nan)\n",
    "concat['거래유형'] = concat['거래유형'].replace('-', np.nan)\n",
    "concat['중개사소재지'] = concat['중개사소재지'].replace('-', np.nan)\n",
    "\n",
    "5. Null값이 100만개 이상인 칼럼은 삭제\n",
    "\n",
    "6. concat_select.isnull().sum()     # 결측치가 100만개 초과인 칼럼이 제거된 후 값\n",
    "\n",
    "7. X,Y 좌표(경도,위도)결측치 채우기까지 작업 끝난 상태 파일 저장 후 리로드\n",
    "\n",
    "8. 대중교통 가중치 적용\n"
   ]
  },
  {
   "cell_type": "code",
   "execution_count": 760,
   "metadata": {},
   "outputs": [],
   "source": [
    "# 책갈피1\n",
    "# 여기서부터 run 시키기 위해 파일로 한번 저장 후 데이터 리로드\n",
    "concat_select = pd.read_csv('../2_xy_busSubway.csv')\n",
    "# concat_select.head(1)"
   ]
  },
  {
   "cell_type": "code",
   "execution_count": 761,
   "metadata": {
    "colab": {
     "base_uri": "https://localhost:8080/"
    },
    "id": "OAtKbkR3zTtR",
    "outputId": "5b161b68-f329-4e3a-eaf2-3d076f7f19c7"
   },
   "outputs": [
    {
     "name": "stdout",
     "output_type": "stream",
     "text": [
      "<class 'pandas.core.frame.DataFrame'>\n",
      "RangeIndex: 1128094 entries, 0 to 1128093\n",
      "Data columns (total 46 columns):\n",
      " #   Column                  Non-Null Count    Dtype  \n",
      "---  ------                  --------------    -----  \n",
      " 0   시군구                     1128094 non-null  object \n",
      " 1   번지                      1127867 non-null  object \n",
      " 2   본번                      1128019 non-null  float64\n",
      " 3   부번                      1128019 non-null  float64\n",
      " 4   아파트명                    1125958 non-null  object \n",
      " 5   전용면적                    1128094 non-null  float64\n",
      " 6   계약년월                    1128094 non-null  int64  \n",
      " 7   계약일                     1128094 non-null  int64  \n",
      " 8   층                       1128094 non-null  int64  \n",
      " 9   건축년도                    1128094 non-null  int64  \n",
      " 10  도로명                     1126883 non-null  object \n",
      " 11  k-단지분류(아파트,주상복합등등)      250821 non-null   object \n",
      " 12  k-전화번호                  251244 non-null   object \n",
      " 13  k-팩스번호                  248746 non-null   object \n",
      " 14  k-세대타입(분양형태)            251969 non-null   object \n",
      " 15  k-관리방식                  251969 non-null   object \n",
      " 16  k-복도유형                  251640 non-null   object \n",
      " 17  k-난방방식                  251969 non-null   object \n",
      " 18  k-전체동수                  250887 non-null   float64\n",
      " 19  k-전체세대수                 251969 non-null   float64\n",
      " 20  k-건설사(시공사)              250457 non-null   object \n",
      " 21  k-시행사                   250260 non-null   object \n",
      " 22  k-사용검사일-사용승인일           251835 non-null   object \n",
      " 23  k-연면적                   251969 non-null   float64\n",
      " 24  k-주거전용면적                251924 non-null   float64\n",
      " 25  k-관리비부과면적               251969 non-null   float64\n",
      " 26  k-전용면적별세대현황(60㎡이하)      251924 non-null   float64\n",
      " 27  k-전용면적별세대현황(60㎡~85㎡이하)  251924 non-null   float64\n",
      " 28  k-85㎡~135㎡이하            251924 non-null   float64\n",
      " 29  k-수정일자                  251924 non-null   object \n",
      " 30  고용보험관리번호                207337 non-null   object \n",
      " 31  경비비관리형태                 250533 non-null   object \n",
      " 32  세대전기계약방법                242705 non-null   object \n",
      " 33  청소비관리형태                 250343 non-null   object \n",
      " 34  건축면적                    251815 non-null   float64\n",
      " 35  주차대수                    251817 non-null   float64\n",
      " 36  기타/의무/임대/임의=1/2/3/4     251969 non-null   object \n",
      " 37  단지승인일                   251240 non-null   object \n",
      " 38  사용허가여부                  251969 non-null   object \n",
      " 39  관리비 업로드                 251969 non-null   object \n",
      " 40  좌표X                     1128094 non-null  float64\n",
      " 41  좌표Y                     1128094 non-null  float64\n",
      " 42  단지신청일                   251907 non-null   object \n",
      " 43  target                  1118822 non-null  float64\n",
      " 44  is_test                 1128094 non-null  int64  \n",
      " 45  대중교통가중치                 1128094 non-null  float64\n",
      "dtypes: float64(17), int64(5), object(24)\n",
      "memory usage: 395.9+ MB\n"
     ]
    }
   ],
   "source": [
    "# 연속형 변수는 선형보간을 해주고, 범주형변수는 알수없기에 “unknown”이라고 임의로 보간해 주겠습니다.\n",
    "concat_select.info()"
   ]
  },
  {
   "cell_type": "code",
   "execution_count": 762,
   "metadata": {
    "id": "-qTUlvcP42in"
   },
   "outputs": [],
   "source": [
    "# 본번, 부번의 경우 float로 되어있지만 범주형 변수의 의미를 가지므로 object(string) 형태로 바꾸어주고 아래 작업을 진행하겠습니다.\n",
    "concat_select['본번'] = concat_select['본번'].astype('str')\n",
    "concat_select['부번'] = concat_select['부번'].astype('str')\n",
    "# concat_select['번지'] = concat_select['번지'].astype('str')\n",
    "\n",
    "# 컬럼드랍\n",
    "# 'k-관리비부과면적' = '주거전용면적'은 거의 비슷 (corr = 0.99)\n",
    "concat_select = concat_select.drop(columns=[ '번지', '고용보험관리번호', 'k-전화번호', 'k-팩스번호',  'k-사용검사일-사용승인일', '청소비관리형태', 'k-관리비부과면적'])\n"
   ]
  },
  {
   "cell_type": "code",
   "execution_count": 763,
   "metadata": {
    "colab": {
     "base_uri": "https://localhost:8080/"
    },
    "id": "wVdU-Ge00OGM",
    "outputId": "6bd1a10a-689a-46ef-c0af-c879be59f715"
   },
   "outputs": [
    {
     "name": "stdout",
     "output_type": "stream",
     "text": [
      "연속형 변수: ['전용면적', '계약년월', '계약일', '층', '건축년도', 'k-전체동수', 'k-전체세대수', 'k-연면적', 'k-주거전용면적', 'k-전용면적별세대현황(60㎡이하)', 'k-전용면적별세대현황(60㎡~85㎡이하)', 'k-85㎡~135㎡이하', '건축면적', '주차대수', '좌표X', '좌표Y', 'target', 'is_test', '대중교통가중치']\n",
      "범주형 변수: ['시군구', '본번', '부번', '아파트명', '도로명', 'k-단지분류(아파트,주상복합등등)', 'k-세대타입(분양형태)', 'k-관리방식', 'k-복도유형', 'k-난방방식', 'k-건설사(시공사)', 'k-시행사', 'k-수정일자', '경비비관리형태', '세대전기계약방법', '기타/의무/임대/임의=1/2/3/4', '단지승인일', '사용허가여부', '관리비 업로드', '단지신청일']\n"
     ]
    }
   ],
   "source": [
    "# 먼저, 연속형 변수와 범주형 변수를 위 info에 따라 분리해주겠습니다.\n",
    "continuous_columns = []\n",
    "categorical_columns = []\n",
    "\n",
    "for column in concat_select.columns:\n",
    "    if pd.api.types.is_numeric_dtype(concat_select[column]):\n",
    "        continuous_columns.append(column)\n",
    "    else:\n",
    "        categorical_columns.append(column)\n",
    "\n",
    "print(\"연속형 변수:\", continuous_columns)\n",
    "print(\"범주형 변수:\", categorical_columns)"
   ]
  },
  {
   "cell_type": "markdown",
   "metadata": {
    "id": "pVtoElzZ5Y_z"
   },
   "source": [
    "- 연속형 변수와 범주형 변수가 알맞게 나누어졌는지 확인해보고, 이제 각각 보간을 진행합니다."
   ]
  },
  {
   "cell_type": "code",
   "execution_count": 764,
   "metadata": {
    "id": "193c8GTdzzOX"
   },
   "outputs": [],
   "source": [
    "# 범주형 변수에 대한 보간\n",
    "concat_select[categorical_columns] = concat_select[categorical_columns].fillna('NULL')\n",
    "\n",
    "# 연속형 변수에 대한 보간 (선형 보간)\n",
    "concat_select[continuous_columns] = concat_select[continuous_columns].interpolate(method='linear', axis=0)"
   ]
  },
  {
   "cell_type": "code",
   "execution_count": 765,
   "metadata": {
    "colab": {
     "base_uri": "https://localhost:8080/"
    },
    "id": "tTJHspKl0mhM",
    "outputId": "d212330d-6c07-4b68-cc0f-d626eb733bc9"
   },
   "outputs": [
    {
     "data": {
      "text/plain": [
       "(1128094, 39)"
      ]
     },
     "metadata": {},
     "output_type": "display_data"
    },
    {
     "data": {
      "text/plain": [
       "시군구                       0\n",
       "본번                        0\n",
       "부번                        0\n",
       "아파트명                      0\n",
       "전용면적                      0\n",
       "계약년월                      0\n",
       "계약일                       0\n",
       "층                         0\n",
       "건축년도                      0\n",
       "도로명                       0\n",
       "k-단지분류(아파트,주상복합등등)        0\n",
       "k-세대타입(분양형태)              0\n",
       "k-관리방식                    0\n",
       "k-복도유형                    0\n",
       "k-난방방식                    0\n",
       "k-전체동수                    0\n",
       "k-전체세대수                   0\n",
       "k-건설사(시공사)                0\n",
       "k-시행사                     0\n",
       "k-연면적                     0\n",
       "k-주거전용면적                  0\n",
       "k-전용면적별세대현황(60㎡이하)        0\n",
       "k-전용면적별세대현황(60㎡~85㎡이하)    0\n",
       "k-85㎡~135㎡이하              0\n",
       "k-수정일자                    0\n",
       "경비비관리형태                   0\n",
       "세대전기계약방법                  0\n",
       "건축면적                      0\n",
       "주차대수                      0\n",
       "기타/의무/임대/임의=1/2/3/4       0\n",
       "단지승인일                     0\n",
       "사용허가여부                    0\n",
       "관리비 업로드                   0\n",
       "좌표X                       0\n",
       "좌표Y                       0\n",
       "단지신청일                     0\n",
       "target                    0\n",
       "is_test                   0\n",
       "대중교통가중치                   0\n",
       "dtype: int64"
      ]
     },
     "metadata": {},
     "output_type": "display_data"
    }
   ],
   "source": [
    "display(concat_select.shape)\n",
    "display(concat_select.isnull().sum())         # 결측치가 보간된 모습을 확인해봅니다."
   ]
  },
  {
   "cell_type": "markdown",
   "metadata": {
    "id": "4fU1E4SUafVU"
   },
   "source": [
    "- Baseline에서는 단순 결측치들을 제거하거나 보간했지만,\n",
    "EDA를 통해 변수들의 흐름을 조금 더 파악하고 더 나은 interpolation 등의 방법을 고려해볼 수 있을 것 같습니다."
   ]
  },
  {
   "cell_type": "markdown",
   "metadata": {
    "id": "zPm7QkS03RCZ"
   },
   "source": [
    "### 3.2. 이상치 처리\n",
    "- 이번엔 이상치를 처리해봅시다.\n",
    "- 이상치를 처리하는 방법은 IQR, Z-score 등 다양한 방법이 있습니다. 가장 쉽고 직관적으로 접근하는 방법은 기본 통계치를 이용하는 것입니다.\n",
    "- 본 baseline에서는 IQR를 이용한 방법을 사용하겠습니다."
   ]
  },
  {
   "cell_type": "markdown",
   "metadata": {
    "id": "07Wq7X8c7pu0"
   },
   "source": [
    "![image.png](data:image/png;base64,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)"
   ]
  },
  {
   "cell_type": "code",
   "execution_count": 766,
   "metadata": {
    "colab": {
     "base_uri": "https://localhost:8080/"
    },
    "id": "t7omvXsd9GP1",
    "outputId": "83808c7b-df9a-46ee-d86a-966e7eff3248"
   },
   "outputs": [
    {
     "name": "stdout",
     "output_type": "stream",
     "text": [
      "(1128094, 39)\n"
     ]
    }
   ],
   "source": [
    "# 이상치 제거 이전의 shape은 아래와 같습니다.\n",
    "print(concat_select.shape)"
   ]
  },
  {
   "cell_type": "code",
   "execution_count": 767,
   "metadata": {
    "colab": {
     "base_uri": "https://localhost:8080/",
     "height": 332
    },
    "id": "MGxTxfr06n3F",
    "outputId": "6c5c8c01-20f8-4d61-dde7-87187dd2f5bd"
   },
   "outputs": [
    {
     "data": {
      "image/png": "[encoded data removed]",
      "text/plain": [
       "<Figure size 700x300 with 1 Axes>"
      ]
     },
     "metadata": {},
     "output_type": "display_data"
    }
   ],
   "source": [
    "# 대표적인 연속형 변수인 “전용 면적” 변수 관련한 분포를 먼저 살펴보도록 하겠습니다.\n",
    "fig = plt.figure(figsize=(7, 3))\n",
    "sns.boxplot(data = concat_select, x = '전용면적', color='lightgreen')\n",
    "plt.title('전용면적 분포')\n",
    "plt.xlabel('Area')\n",
    "plt.show()"
   ]
  },
  {
   "cell_type": "code",
   "execution_count": 768,
   "metadata": {
    "id": "fOCSdvBd8GJq"
   },
   "outputs": [],
   "source": [
    "# 이상치 제거 방법에는 IQR을 이용하겠습니다.\n",
    "def remove_outliers_iqr(dt, column_name):\n",
    "    df = dt.query('is_test == 0')       # train data 내에 있는 이상치만 제거하도록 하겠습니다.\n",
    "    df_test = dt.query('is_test == 1')\n",
    "\n",
    "    Q1 = df[column_name].quantile(0.25)\n",
    "    Q3 = df[column_name].quantile(0.75)\n",
    "    IQR = Q3 - Q1\n",
    "\n",
    "    lower_bound = Q1 - 1.5 * IQR\n",
    "    upper_bound = Q3 + 1.5 * IQR\n",
    "\n",
    "    df = df[(df[column_name] >= lower_bound) & (df[column_name] <= upper_bound)]\n",
    "\n",
    "    result = pd.concat([df, df_test])   # test data와 다시 합쳐주겠습니다.\n",
    "    return result"
   ]
  },
  {
   "cell_type": "code",
   "execution_count": 769,
   "metadata": {
    "id": "F_GJQBVX8AH9"
   },
   "outputs": [],
   "source": [
    "# 위 방법으로 전용 면적에 대한 이상치를 제거해보겠습니다.\n",
    "concat_select = remove_outliers_iqr(concat_select, '전용면적')\n",
    "\n",
    "# 전용면적 275이상인 데이터 출력\n",
    "concat_select[concat_select['전용면적'] > 275]\n",
    "\n",
    "# 전용면적 275이상인 데이터 삭제\n",
    "concat_select = concat_select[concat_select['전용면적'] <= 275]"
   ]
  },
  {
   "cell_type": "code",
   "execution_count": 770,
   "metadata": {
    "colab": {
     "base_uri": "https://localhost:8080/"
    },
    "id": "iBwwOd5t8qbj",
    "outputId": "54409d2d-84cd-4ad3-cb4f-cbe3b71bdfbd"
   },
   "outputs": [
    {
     "name": "stdout",
     "output_type": "stream",
     "text": [
      "(1038845, 39)\n"
     ]
    }
   ],
   "source": [
    "# 이상치 제거 후의 shape은 아래와 같습니다. 약 10만개의 데이터가 제거된 모습을 확인할 수 있습니다.\n",
    "print(concat_select.shape)"
   ]
  },
  {
   "cell_type": "code",
   "execution_count": 771,
   "metadata": {
    "colab": {
     "base_uri": "https://localhost:8080/"
    },
    "id": "RZitCX1tEvWX",
    "outputId": "c01ac230-4e49-4d8f-a0f0-8805de9499cc"
   },
   "outputs": [
    {
     "data": {
      "text/plain": [
       "0    1029574\n",
       "1       9271\n",
       "Name: is_test, dtype: int64"
      ]
     },
     "execution_count": 771,
     "metadata": {},
     "output_type": "execute_result"
    }
   ],
   "source": [
    "concat_select['is_test'].value_counts()     # 또한, train data만 제거되었습니다."
   ]
  },
  {
   "cell_type": "markdown",
   "metadata": {},
   "source": [
    "### 지하층은 1값으로 대체"
   ]
  },
  {
   "cell_type": "code",
   "execution_count": 772,
   "metadata": {},
   "outputs": [
    {
     "data": {
      "text/plain": [
       "0"
      ]
     },
     "execution_count": 772,
     "metadata": {},
     "output_type": "execute_result"
    }
   ],
   "source": [
    "len(concat_select[concat_select['층']<0])\n",
    "\n",
    "concat_select['층'] = concat_select['층'].apply(lambda x: 1 if x<0 else x)\n",
    "len(concat_select[concat_select['층']<0])"
   ]
  },
  {
   "cell_type": "markdown",
   "metadata": {
    "id": "9QxCTz0zJg0F"
   },
   "source": [
    "## 4. Feature Engineering\n",
    "- 이제 파생변수를 만들어보도록 하겠습니다.\n",
    "- 파생 변수는 도메인 지식에 기반해 제작하는 것이 중요합니다.\n",
    "- 주택의 가격을 예측하는 문제이기 때문에 약간의 부동산 지식을 기반으로 파생 변수를 만들어 보도록 하겠습니다."
   ]
  },
  {
   "cell_type": "code",
   "execution_count": 773,
   "metadata": {
    "id": "fLG3xQVQNB_6"
   },
   "outputs": [],
   "source": [
    "# 시군구, 년월 등 분할할 수 있는 변수들은 세부사항 고려를 용이하게 하기 위해 모두 분할해 주겠습니다.\n",
    "concat_select['구'] = concat_select['시군구'].map(lambda x : x.split()[1])\n",
    "concat_select['동'] = concat_select['시군구'].map(lambda x : x.split()[2])\n",
    "del concat_select['시군구']\n",
    "\n",
    "concat_select['계약년'] = concat_select['계약년월'].astype('str').map(lambda x : x[:4])\n",
    "concat_select['계약월'] = concat_select['계약년월'].astype('str').map(lambda x : x[4:])\n",
    "del concat_select['계약년월']"
   ]
  },
  {
   "cell_type": "code",
   "execution_count": null,
   "metadata": {},
   "outputs": [],
   "source": [
    "'''\n",
    "# 대장 아파트의 위경도 데이터프레임을 구성합니다.\n",
    "lead_house_data = pd.DataFrame([{\"구\": k, \"대장_좌표X\": v[1], \"대장_좌표Y\": v[0]} for k, v in lead_house.items()])\n",
    "# 데이터프레임간 결합을 합니다.\n",
    "# concat_select = pd.merge(concat_select, lead_house_data, how=\"inner\", on=\"구\")\n",
    "# 아까 제작한 haversine_distance 함수를 이용해 대장아파트와의 거리를 계산하고, 새롭게 컬럼을 구성합니다.\n",
    "# concat_select['대장아파트_거리'] = concat_select.apply(lambda row: haversine_distance(row[\"좌표Y\"], row[\"좌표X\"], row[\"대장_좌표Y\"], row[\"대장_좌표X\"]), axis=1)\n",
    "'''"
   ]
  },
  {
   "cell_type": "code",
   "execution_count": null,
   "metadata": {},
   "outputs": [
    {
     "ename": "NameError",
     "evalue": "name 'lead_house_data' is not defined",
     "output_type": "error",
     "traceback": [
      "\u001b[0;31m---------------------------------------------------------------------------\u001b[0m",
      "\u001b[0;31mNameError\u001b[0m                                 Traceback (most recent call last)",
      "Cell \u001b[0;32mIn[830], line 1\u001b[0m\n\u001b[0;32m----> 1\u001b[0m \u001b[43mlead_house_data\u001b[49m\n",
      "\u001b[0;31mNameError\u001b[0m: name 'lead_house_data' is not defined"
     ]
    }
   ],
   "source": [
    "# lead_house_data"
   ]
  },
  {
   "cell_type": "code",
   "execution_count": 774,
   "metadata": {
    "colab": {
     "base_uri": "https://localhost:8080/"
    },
    "id": "E19Q60NN7R6G",
    "outputId": "e859d996-c576-4311-e318-df582e39acd6"
   },
   "outputs": [
    {
     "data": {
      "text/plain": [
       "Index(['본번', '부번', '아파트명', '전용면적', '계약일', '층', '건축년도', '도로명',\n",
       "       'k-단지분류(아파트,주상복합등등)', 'k-세대타입(분양형태)', 'k-관리방식', 'k-복도유형', 'k-난방방식',\n",
       "       'k-전체동수', 'k-전체세대수', 'k-건설사(시공사)', 'k-시행사', 'k-연면적', 'k-주거전용면적',\n",
       "       'k-전용면적별세대현황(60㎡이하)', 'k-전용면적별세대현황(60㎡~85㎡이하)', 'k-85㎡~135㎡이하',\n",
       "       'k-수정일자', '경비비관리형태', '세대전기계약방법', '건축면적', '주차대수', '기타/의무/임대/임의=1/2/3/4',\n",
       "       '단지승인일', '사용허가여부', '관리비 업로드', '좌표X', '좌표Y', '단지신청일', 'target',\n",
       "       'is_test', '대중교통가중치', '구', '동', '계약년', '계약월'],\n",
       "      dtype='object')"
      ]
     },
     "execution_count": 774,
     "metadata": {},
     "output_type": "execute_result"
    }
   ],
   "source": [
    "concat_select.columns"
   ]
  },
  {
   "cell_type": "markdown",
   "metadata": {
    "id": "zwtVsbS5-0SL"
   },
   "source": [
    "- 서울의 집값은 강남, 강북 여부에 따라 차이가 많이 난다는 사실은 많이 알려진 사실입니다.\n",
    "- 따라서 강남/강북의 여부에 따라 파생변수를 생성해주도록 하겠습니다."
   ]
  },
  {
   "cell_type": "code",
   "execution_count": 775,
   "metadata": {
    "id": "TKioFiuX9hUd"
   },
   "outputs": [],
   "source": [
    "all = list(concat_select['구'].unique())\n",
    "gangnam = ['강서구', '영등포구', '동작구', '서초구', '강남구', '송파구', '강동구']\n",
    "gangbuk = [x for x in all if x not in gangnam]\n",
    "\n",
    "assert len(all) == len(gangnam) + len(gangbuk)       # 알맞게 분리되었는지 체크합니다."
   ]
  },
  {
   "cell_type": "code",
   "execution_count": 776,
   "metadata": {
    "id": "8Swb_coe_3Hb"
   },
   "outputs": [],
   "source": [
    "# 강남의 여부를 체크합니다.\n",
    "is_gangnam = []\n",
    "for x in concat_select['구'].tolist() :\n",
    "  if x in gangnam :\n",
    "    is_gangnam.append(1)\n",
    "  else :\n",
    "    is_gangnam.append(0)\n",
    "\n",
    "# 파생변수를 하나 만릅니다.\n",
    "concat_select['강남여부'] = is_gangnam"
   ]
  },
  {
   "cell_type": "code",
   "execution_count": 777,
   "metadata": {
    "colab": {
     "base_uri": "https://localhost:8080/"
    },
    "id": "DmYBZUkrAOtS",
    "outputId": "ced274b0-3d7b-43a9-9479-e69c39ff7f1c"
   },
   "outputs": [
    {
     "data": {
      "text/plain": [
       "Index(['본번', '부번', '아파트명', '전용면적', '계약일', '층', '건축년도', '도로명',\n",
       "       'k-단지분류(아파트,주상복합등등)', 'k-세대타입(분양형태)', 'k-관리방식', 'k-복도유형', 'k-난방방식',\n",
       "       'k-전체동수', 'k-전체세대수', 'k-건설사(시공사)', 'k-시행사', 'k-연면적', 'k-주거전용면적',\n",
       "       'k-전용면적별세대현황(60㎡이하)', 'k-전용면적별세대현황(60㎡~85㎡이하)', 'k-85㎡~135㎡이하',\n",
       "       'k-수정일자', '경비비관리형태', '세대전기계약방법', '건축면적', '주차대수', '기타/의무/임대/임의=1/2/3/4',\n",
       "       '단지승인일', '사용허가여부', '관리비 업로드', '좌표X', '좌표Y', '단지신청일', 'target',\n",
       "       'is_test', '대중교통가중치', '구', '동', '계약년', '계약월', '강남여부'],\n",
       "      dtype='object')"
      ]
     },
     "metadata": {},
     "output_type": "display_data"
    }
   ],
   "source": [
    "display(concat_select.columns)"
   ]
  },
  {
   "cell_type": "markdown",
   "metadata": {
    "id": "7zUmQubaAbKJ"
   },
   "source": [
    "- 또한 신축인지, 구축인지의 여부도 실거래가에 큰 영향을 줄 수 있습니다.\n",
    "- 따라서 건축년도에 따라 파생변수를 제작해주도록 하겠습니다."
   ]
  },
  {
   "cell_type": "code",
   "execution_count": 778,
   "metadata": {
    "colab": {
     "base_uri": "https://localhost:8080/"
    },
    "id": "_NcBva7dAVBq",
    "outputId": "9796e4f8-8f8f-4e0c-9fb2-9757ad6e0f3b"
   },
   "outputs": [
    {
     "data": {
      "text/plain": [
       "count    1.038845e+06\n",
       "mean     1.998583e+03\n",
       "std      9.132475e+00\n",
       "min      1.961000e+03\n",
       "10%      1.987000e+03\n",
       "25%      1.992000e+03\n",
       "50%      2.000000e+03\n",
       "75%      2.005000e+03\n",
       "80%      2.006000e+03\n",
       "90%      2.009000e+03\n",
       "max      2.023000e+03\n",
       "Name: 건축년도, dtype: float64"
      ]
     },
     "execution_count": 778,
     "metadata": {},
     "output_type": "execute_result"
    }
   ],
   "source": [
    "# 건축년도 분포는 아래와 같습니다. 특히 2005년이 Q3에 해당합니다.\n",
    "# 2009년 이후에 지어진 건물은 10%정도 되는 것을 확인할 수 있습니다.\n",
    "concat_select['건축년도'].describe(percentiles = [0.1, 0.25, 0.5, 0.75, 0.8, 0.9])"
   ]
  },
  {
   "cell_type": "code",
   "execution_count": 779,
   "metadata": {
    "id": "qiiOPubLAqxC"
   },
   "outputs": [],
   "source": [
    "# 따라서 2009년 이후에 지어졌으면 비교적 신축이라고 판단하고, 신축 여부 변수를 제작해보도록 하겠습니다.\n",
    "# 2009 -> 2004년으로 값 변경\n",
    "concat_select['신축여부'] = concat_select['건축년도'].apply(lambda x: 1 if x >= 2004 else 0)    "
   ]
  },
  {
   "cell_type": "markdown",
   "metadata": {},
   "source": [
    "#### 구별 평균 가격 변수 생성"
   ]
  },
  {
   "cell_type": "code",
   "execution_count": 780,
   "metadata": {},
   "outputs": [],
   "source": [
    "# 구별 평균 가격 계산\n",
    "gu_mean_price = concat_select.groupby('구')['target'].mean().rename('구별_평균_가격')\n",
    "\n",
    "# 원본 데이터프레임에 구별 평균 가격 추가\n",
    "concat_select = concat_select.merge(gu_mean_price, on='구')"
   ]
  },
  {
   "cell_type": "code",
   "execution_count": 781,
   "metadata": {},
   "outputs": [
    {
     "data": {
      "text/plain": [
       "0    강남구\n",
       "Name: 구, dtype: object"
      ]
     },
     "metadata": {},
     "output_type": "display_data"
    },
    {
     "data": {
      "text/plain": [
       "0    95821.426438\n",
       "Name: 구별_평균_가격, dtype: float64"
      ]
     },
     "metadata": {},
     "output_type": "display_data"
    }
   ],
   "source": [
    "display(concat_select['구'].head(1))\n",
    "display(concat_select['구별_평균_가격'].head(1))"
   ]
  },
  {
   "cell_type": "code",
   "execution_count": 782,
   "metadata": {},
   "outputs": [],
   "source": [
    "# 구별 평균 가격 계산\n",
    "# gu_avg_price = concat_select.groupby('구')['target'].mean().reset_index()\n",
    "\n",
    "# # 시각화\n",
    "# plt.figure(figsize=(10, 4))\n",
    "# sns.barplot(x='구', y='target', data=gu_avg_price)\n",
    "# plt.title('구별 평균 아파트 가격')\n",
    "# plt.xlabel('구')\n",
    "# plt.ylabel('평균 가격')\n",
    "# plt.xticks(rotation=45)\n",
    "# plt.show()"
   ]
  },
  {
   "cell_type": "code",
   "execution_count": 783,
   "metadata": {
    "colab": {
     "base_uri": "https://localhost:8080/",
     "height": 179
    },
    "id": "PWuNlTfN_FMs",
    "outputId": "971536d0-d21a-4c07-809a-27260680439e"
   },
   "outputs": [
    {
     "data": {
      "text/plain": [
       "Index(['본번', '부번', '아파트명', '전용면적', '계약일', '층', '건축년도', '도로명',\n",
       "       'k-단지분류(아파트,주상복합등등)', 'k-세대타입(분양형태)', 'k-관리방식', 'k-복도유형', 'k-난방방식',\n",
       "       'k-전체동수', 'k-전체세대수', 'k-건설사(시공사)', 'k-시행사', 'k-연면적', 'k-주거전용면적',\n",
       "       'k-전용면적별세대현황(60㎡이하)', 'k-전용면적별세대현황(60㎡~85㎡이하)', 'k-85㎡~135㎡이하',\n",
       "       'k-수정일자', '경비비관리형태', '세대전기계약방법', '건축면적', '주차대수', '기타/의무/임대/임의=1/2/3/4',\n",
       "       '단지승인일', '사용허가여부', '관리비 업로드', '좌표X', '좌표Y', '단지신청일', 'target',\n",
       "       'is_test', '대중교통가중치', '구', '동', '계약년', '계약월', '강남여부', '신축여부',\n",
       "       '구별_평균_가격'],\n",
       "      dtype='object')"
      ]
     },
     "execution_count": 783,
     "metadata": {},
     "output_type": "execute_result"
    }
   ],
   "source": [
    "concat_select.columns      # 최종 데이터셋은 아래와 같습니다."
   ]
  },
  {
   "cell_type": "markdown",
   "metadata": {},
   "source": [
    "#### 동별가격, 표준편차"
   ]
  },
  {
   "cell_type": "code",
   "execution_count": 784,
   "metadata": {},
   "outputs": [],
   "source": [
    "# 동별 평균 가격 및 표준편차 계산\n",
    "dong_stats = concat_select.groupby('동')['target'].agg(['mean']).rename(columns={'mean': '동별_평균_가격'})\n",
    "\n",
    "# 원본 데이터프레임에 동별 평균 가격 및 표준편차 추가\n",
    "concat_select = concat_select.merge(dong_stats, on='동', how='left')"
   ]
  },
  {
   "cell_type": "markdown",
   "metadata": {},
   "source": [
    "# 컬럼드랍"
   ]
  },
  {
   "cell_type": "code",
   "execution_count": 785,
   "metadata": {
    "colab": {
     "base_uri": "https://localhost:8080/"
    },
    "id": "c-VGjus86phR",
    "outputId": "a25af50e-7f13-4402-81e0-46bf7d94ad12"
   },
   "outputs": [],
   "source": [
    "# 추가적으로 컬럼드랍하고 싶으면 여기서\n",
    "concat_select.drop(['k-연면적','k-전체세대수', 'k-전용면적별세대현황(60㎡이하)', \n",
    "                    'k-전용면적별세대현황(60㎡~85㎡이하)', 'k-85㎡~135㎡이하'                    \n",
    "                    ], axis=1, inplace=True)"
   ]
  },
  {
   "cell_type": "code",
   "execution_count": 786,
   "metadata": {},
   "outputs": [
    {
     "data": {
      "text/plain": [
       "Index(['본번', '부번', '아파트명', '전용면적', '계약일', '층', '건축년도', '도로명',\n",
       "       'k_단지분류_아파트_주상복합등등_', 'k_세대타입_분양형태_', 'k_관리방식', 'k_복도유형', 'k_난방방식',\n",
       "       'k_전체동수', 'k_건설사_시공사_', 'k_시행사', 'k_주거전용면적', 'k_수정일자', '경비비관리형태',\n",
       "       '세대전기계약방법', '건축면적', '주차대수', '기타_의무_임대_임의_1_2_3_4', '단지승인일', '사용허가여부',\n",
       "       '관리비_업로드', '좌표X', '좌표Y', '단지신청일', 'target', 'is_test', '대중교통가중치', '구',\n",
       "       '동', '계약년', '계약월', '강남여부', '신축여부', '구별_평균_가격', '동별_평균_가격'],\n",
       "      dtype='object')"
      ]
     },
     "metadata": {},
     "output_type": "display_data"
    },
    {
     "data": {
      "text/plain": [
       "(1038845, 40)"
      ]
     },
     "metadata": {},
     "output_type": "display_data"
    }
   ],
   "source": [
    "# 특수 문자를 밑줄로 대체하는 함수\n",
    "def clean_column_names(df):\n",
    "    df.columns = [re.sub(r'\\W+', '_', col) for col in df.columns]\n",
    "    return df\n",
    "\n",
    "# 데이터프레임의 피처 이름 정리 (LGBRegressor 에서 변수명이 문제가 생김)\n",
    "concat_select = clean_column_names(concat_select)\n",
    "\n",
    "display(concat_select.columns)\n",
    "display(concat_select.shape)"
   ]
  },
  {
   "cell_type": "code",
   "execution_count": 787,
   "metadata": {},
   "outputs": [
    {
     "data": {
      "image/png": "[encoded data removed]",
      "text/plain": [
       "<Figure size 1500x1200 with 2 Axes>"
      ]
     },
     "metadata": {},
     "output_type": "display_data"
    }
   ],
   "source": [
    "# 변수 간 상관관계 히트맵\n",
    "# correlation_matrix = concat_select.corr()\n",
    "# plt.figure(figsize=(12, 12))\n",
    "# sns.heatmap(correlation_matrix, annot=True, cmap='coolwarm')\n",
    "# plt.show()\n",
    "\n",
    "# 연속형 변수들의 상관관계 Heatmap\n",
    "correlation_matrix = concat_select.corr()\n",
    "plt.figure(figsize=(15, 12))\n",
    "sns.heatmap(correlation_matrix, \n",
    "            annot=True,              # 상관계수 표시\n",
    "            cmap='coolwarm',         # 색\n",
    "            center=0,                # 상관계수 표시 중심값 0\n",
    "            fmt='.2f',              # 소수점 2자리 표시\n",
    "            square=True,            # 정사각형 형태\n",
    "            linewidths=0.5,         # 그리드 선 두께\n",
    "            cbar_kws={\"shrink\": .5} # 색상 바 크기 조절\n",
    "           )\n",
    "plt.title('Correlation Matrix of Numeric Variables', pad=20)\n",
    "plt.tight_layout()\n",
    "plt.show()"
   ]
  },
  {
   "cell_type": "markdown",
   "metadata": {
    "id": "XRIUh7-OBnaj"
   },
   "source": [
    "- 위 두 사항 외에도 외부 공공 데이터를 이용하거나, EDA를 통해 더 많은 변수를 제작할 수 있습니다."
   ]
  },
  {
   "cell_type": "markdown",
   "metadata": {
    "id": "uXfXRevr3dfe"
   },
   "source": [
    "## 5. Model Training"
   ]
  },
  {
   "cell_type": "markdown",
   "metadata": {
    "id": "ytuwazY43gwQ"
   },
   "source": [
    "- 이제 위에서 만든 파생변수들과 정제한 데이터를 기반으로 본격적으로 부동산 실거래가를 예측하는 모델링을 진행하겠습니다.\n",
    "- 모델링에는 `sklearn`의 `RandomForest`를 이용하도록 하겠습니다.\n",
    "\n",
    "- 참고 ✅\n",
    "  - `RandomForest`는 배깅(Bagging)의 일종으로, 학습시키는 데이터 뿐 아니라 특성변수(X)들도 무작위로 선택해 트리를 생성하는 방법입니다.\n",
    "  - 모델 학습 과정에서 서로 다른 N개의 Tree 생성하고, N개의 Tree에서 발생한 Output을 Voting(범주형, 분류문제)하거나, Average(연속형, 회귀문제)해 최종 Output 생성합니다.\n",
    "  - 이는 High variance, Low bias 상황에서 분산(Variance) 감소에 도움을 줍니다."
   ]
  },
  {
   "cell_type": "code",
   "execution_count": 788,
   "metadata": {
    "colab": {
     "base_uri": "https://localhost:8080/"
    },
    "id": "9E__0jEyyXIA",
    "outputId": "ffb3cc6e-d337-4ed6-96d1-ddf96dc97449"
   },
   "outputs": [
    {
     "name": "stdout",
     "output_type": "stream",
     "text": [
      "(1029574, 39) (9271, 39)\n"
     ]
    }
   ],
   "source": [
    "# 이제 다시 train과 test dataset을 분할해줍니다. 위에서 제작해 놓았던 is_test 칼럼을 이용합니다.\n",
    "dt_train = concat_select.query('is_test==0')\n",
    "dt_test = concat_select.query('is_test==1')\n",
    "\n",
    "# 이제 is_test 칼럼은 drop해줍니다.\n",
    "dt_train.drop(['is_test'], axis = 1, inplace=True)\n",
    "dt_test.drop(['is_test'], axis = 1, inplace=True)\n",
    "print(dt_train.shape, dt_test.shape)"
   ]
  },
  {
   "cell_type": "code",
   "execution_count": 789,
   "metadata": {
    "colab": {
     "base_uri": "https://localhost:8080/",
     "height": 179
    },
    "id": "KXv31dP_YMZp",
    "outputId": "a0da46f0-f565-4c57-bcd0-35b79205d5ed"
   },
   "outputs": [
    {
     "data": {
      "text/html": [
       "<div>\n",
       "<style scoped>\n",
       "    .dataframe tbody tr th:only-of-type {\n",
       "        vertical-align: middle;\n",
       "    }\n",
       "\n",
       "    .dataframe tbody tr th {\n",
       "        vertical-align: top;\n",
       "    }\n",
       "\n",
       "    .dataframe thead th {\n",
       "        text-align: right;\n",
       "    }\n",
       "</style>\n",
       "<table border=\"1\" class=\"dataframe\">\n",
       "  <thead>\n",
       "    <tr style=\"text-align: right;\">\n",
       "      <th></th>\n",
       "      <th>57148</th>\n",
       "    </tr>\n",
       "  </thead>\n",
       "  <tbody>\n",
       "    <tr>\n",
       "      <th>본번</th>\n",
       "      <td>658.0</td>\n",
       "    </tr>\n",
       "    <tr>\n",
       "      <th>부번</th>\n",
       "      <td>1.0</td>\n",
       "    </tr>\n",
       "    <tr>\n",
       "      <th>아파트명</th>\n",
       "      <td>개포6차우성</td>\n",
       "    </tr>\n",
       "    <tr>\n",
       "      <th>전용면적</th>\n",
       "      <td>79.97</td>\n",
       "    </tr>\n",
       "    <tr>\n",
       "      <th>계약일</th>\n",
       "      <td>26</td>\n",
       "    </tr>\n",
       "    <tr>\n",
       "      <th>층</th>\n",
       "      <td>5</td>\n",
       "    </tr>\n",
       "    <tr>\n",
       "      <th>건축년도</th>\n",
       "      <td>1987</td>\n",
       "    </tr>\n",
       "    <tr>\n",
       "      <th>도로명</th>\n",
       "      <td>언주로 3</td>\n",
       "    </tr>\n",
       "    <tr>\n",
       "      <th>k_단지분류_아파트_주상복합등등_</th>\n",
       "      <td>아파트</td>\n",
       "    </tr>\n",
       "    <tr>\n",
       "      <th>k_세대타입_분양형태_</th>\n",
       "      <td>분양</td>\n",
       "    </tr>\n",
       "    <tr>\n",
       "      <th>k_관리방식</th>\n",
       "      <td>자치관리</td>\n",
       "    </tr>\n",
       "    <tr>\n",
       "      <th>k_복도유형</th>\n",
       "      <td>계단식</td>\n",
       "    </tr>\n",
       "    <tr>\n",
       "      <th>k_난방방식</th>\n",
       "      <td>개별난방</td>\n",
       "    </tr>\n",
       "    <tr>\n",
       "      <th>k_전체동수</th>\n",
       "      <td>8.0</td>\n",
       "    </tr>\n",
       "    <tr>\n",
       "      <th>k_건설사_시공사_</th>\n",
       "      <td>우성건설</td>\n",
       "    </tr>\n",
       "    <tr>\n",
       "      <th>k_시행사</th>\n",
       "      <td>모름</td>\n",
       "    </tr>\n",
       "    <tr>\n",
       "      <th>k_주거전용면적</th>\n",
       "      <td>20204.0</td>\n",
       "    </tr>\n",
       "    <tr>\n",
       "      <th>k_수정일자</th>\n",
       "      <td>2023-09-23 17:21:41.0</td>\n",
       "    </tr>\n",
       "    <tr>\n",
       "      <th>경비비관리형태</th>\n",
       "      <td>직영</td>\n",
       "    </tr>\n",
       "    <tr>\n",
       "      <th>세대전기계약방법</th>\n",
       "      <td>단일계약</td>\n",
       "    </tr>\n",
       "    <tr>\n",
       "      <th>건축면적</th>\n",
       "      <td>4858.0</td>\n",
       "    </tr>\n",
       "    <tr>\n",
       "      <th>주차대수</th>\n",
       "      <td>262.0</td>\n",
       "    </tr>\n",
       "    <tr>\n",
       "      <th>기타_의무_임대_임의_1_2_3_4</th>\n",
       "      <td>임의</td>\n",
       "    </tr>\n",
       "    <tr>\n",
       "      <th>단지승인일</th>\n",
       "      <td>2022-11-17 13:00:29.0</td>\n",
       "    </tr>\n",
       "    <tr>\n",
       "      <th>사용허가여부</th>\n",
       "      <td>Y</td>\n",
       "    </tr>\n",
       "    <tr>\n",
       "      <th>관리비_업로드</th>\n",
       "      <td>N</td>\n",
       "    </tr>\n",
       "    <tr>\n",
       "      <th>좌표X</th>\n",
       "      <td>127.05721</td>\n",
       "    </tr>\n",
       "    <tr>\n",
       "      <th>좌표Y</th>\n",
       "      <td>37.476763</td>\n",
       "    </tr>\n",
       "    <tr>\n",
       "      <th>단지신청일</th>\n",
       "      <td>2022-11-17 10:19:06.0</td>\n",
       "    </tr>\n",
       "    <tr>\n",
       "      <th>target</th>\n",
       "      <td>13250.0</td>\n",
       "    </tr>\n",
       "    <tr>\n",
       "      <th>대중교통가중치</th>\n",
       "      <td>26.5</td>\n",
       "    </tr>\n",
       "    <tr>\n",
       "      <th>구</th>\n",
       "      <td>강남구</td>\n",
       "    </tr>\n",
       "    <tr>\n",
       "      <th>동</th>\n",
       "      <td>개포동</td>\n",
       "    </tr>\n",
       "    <tr>\n",
       "      <th>계약년</th>\n",
       "      <td>2023</td>\n",
       "    </tr>\n",
       "    <tr>\n",
       "      <th>계약월</th>\n",
       "      <td>07</td>\n",
       "    </tr>\n",
       "    <tr>\n",
       "      <th>강남여부</th>\n",
       "      <td>1</td>\n",
       "    </tr>\n",
       "    <tr>\n",
       "      <th>신축여부</th>\n",
       "      <td>0</td>\n",
       "    </tr>\n",
       "    <tr>\n",
       "      <th>구별_평균_가격</th>\n",
       "      <td>95821.426438</td>\n",
       "    </tr>\n",
       "    <tr>\n",
       "      <th>동별_평균_가격</th>\n",
       "      <td>87289.596931</td>\n",
       "    </tr>\n",
       "  </tbody>\n",
       "</table>\n",
       "</div>"
      ],
      "text/plain": [
       "                                     57148\n",
       "본번                                   658.0\n",
       "부번                                     1.0\n",
       "아파트명                                개포6차우성\n",
       "전용면적                                 79.97\n",
       "계약일                                     26\n",
       "층                                        5\n",
       "건축년도                                  1987\n",
       "도로명                                  언주로 3\n",
       "k_단지분류_아파트_주상복합등등_                     아파트\n",
       "k_세대타입_분양형태_                            분양\n",
       "k_관리방식                                자치관리\n",
       "k_복도유형                                 계단식\n",
       "k_난방방식                                개별난방\n",
       "k_전체동수                                 8.0\n",
       "k_건설사_시공사_                            우성건설\n",
       "k_시행사                                   모름\n",
       "k_주거전용면적                           20204.0\n",
       "k_수정일자               2023-09-23 17:21:41.0\n",
       "경비비관리형태                                 직영\n",
       "세대전기계약방법                              단일계약\n",
       "건축면적                                4858.0\n",
       "주차대수                                 262.0\n",
       "기타_의무_임대_임의_1_2_3_4                     임의\n",
       "단지승인일                2022-11-17 13:00:29.0\n",
       "사용허가여부                                   Y\n",
       "관리비_업로드                                  N\n",
       "좌표X                              127.05721\n",
       "좌표Y                              37.476763\n",
       "단지신청일                2022-11-17 10:19:06.0\n",
       "target                             13250.0\n",
       "대중교통가중치                               26.5\n",
       "구                                      강남구\n",
       "동                                      개포동\n",
       "계약년                                   2023\n",
       "계약월                                     07\n",
       "강남여부                                     1\n",
       "신축여부                                     0\n",
       "구별_평균_가격                      95821.426438\n",
       "동별_평균_가격                      87289.596931"
      ]
     },
     "execution_count": 789,
     "metadata": {},
     "output_type": "execute_result"
    }
   ],
   "source": [
    "dt_test.head(1).T"
   ]
  },
  {
   "cell_type": "code",
   "execution_count": 790,
   "metadata": {
    "id": "CpRwDCH7UB_p"
   },
   "outputs": [],
   "source": [
    "# dt_test의 target은 일단 0으로 임의로 채워주도록 하겠습니다.\n",
    "dt_test['target'] = 0"
   ]
  },
  {
   "cell_type": "markdown",
   "metadata": {
    "id": "wdHNkPO_3tSb"
   },
   "source": [
    "### 5.1. 범주형 변수 Encoding\n",
    "- 범주형 변수는 그대로 모델에 투입하면, 모델이 제대로 작동할 수 없습니다.\n",
    "- 따라서 **레이블 인코딩 과정**을 통해 범주형 변수들을 numeric하게 바꾸는 인코딩 과정을 진행해주도록 하겠습니다."
   ]
  },
  {
   "cell_type": "markdown",
   "metadata": {
    "id": "yDs6TU3x7227"
   },
   "source": [
    "![image.png](data:image/png;base64,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)"
   ]
  },
  {
   "cell_type": "code",
   "execution_count": 791,
   "metadata": {
    "colab": {
     "base_uri": "https://localhost:8080/"
    },
    "id": "yCW2dTz12VMZ",
    "outputId": "5c81b9e1-0462-421e-cb77-6b056532e5cd"
   },
   "outputs": [
    {
     "name": "stdout",
     "output_type": "stream",
     "text": [
      "연속형 변수: ['전용면적', '계약일', '층', '건축년도', 'k_전체동수', 'k_주거전용면적', '건축면적', '주차대수', '좌표X', '좌표Y', 'target', '대중교통가중치', '강남여부', '신축여부', '구별_평균_가격', '동별_평균_가격']\n",
      "범주형 변수: ['본번', '부번', '아파트명', '도로명', 'k_단지분류_아파트_주상복합등등_', 'k_세대타입_분양형태_', 'k_관리방식', 'k_복도유형', 'k_난방방식', 'k_건설사_시공사_', 'k_시행사', 'k_수정일자', '경비비관리형태', '세대전기계약방법', '기타_의무_임대_임의_1_2_3_4', '단지승인일', '사용허가여부', '관리비_업로드', '단지신청일', '구', '동', '계약년', '계약월']\n"
     ]
    }
   ],
   "source": [
    "# 파생변수 제작으로 추가된 변수들이 존재하기에, 다시한번 연속형과 범주형 칼럼을 분리해주겠습니다.\n",
    "continuous_columns_v2 = []\n",
    "categorical_columns_v2 = []\n",
    "\n",
    "for column in dt_train.columns:\n",
    "    if pd.api.types.is_numeric_dtype(dt_train[column]):\n",
    "        continuous_columns_v2.append(column)\n",
    "    else:\n",
    "        categorical_columns_v2.append(column)\n",
    "\n",
    "print(\"연속형 변수:\", continuous_columns_v2)\n",
    "print(\"범주형 변수:\", categorical_columns_v2)"
   ]
  },
  {
   "cell_type": "markdown",
   "metadata": {},
   "source": [
    "#### 수치형, 연속형 변수 : 로그변환"
   ]
  },
  {
   "cell_type": "code",
   "execution_count": 792,
   "metadata": {},
   "outputs": [],
   "source": [
    "# continuous_columns_v2 로그변환\n",
    "for col in continuous_columns_v2:\n",
    "    dt_train[col] = np.log1p(dt_train[col])\n",
    "    dt_test[col] = np.log1p(dt_test[col])\n",
    "\n",
    "# dt_train[continuous_columns_v2].head(5).T        # 로그변환이 된 모습입니다."
   ]
  },
  {
   "cell_type": "markdown",
   "metadata": {},
   "source": [
    "#### 범주형 : 레이블 인코딩"
   ]
  },
  {
   "cell_type": "code",
   "execution_count": 793,
   "metadata": {
    "colab": {
     "base_uri": "https://localhost:8080/"
    },
    "id": "klnjrUceP_bC",
    "outputId": "ba94e4af-e06b-4c5c-b3a6-736a4616e589"
   },
   "outputs": [
    {
     "name": "stderr",
     "output_type": "stream",
     "text": [
      "100%|██████████| 23/23 [00:05<00:00,  3.96it/s]\n"
     ]
    }
   ],
   "source": [
    "# 아래에서 범주형 변수들을 대상으로 레이블인코딩을 진행해 주겠습니다.\n",
    "\n",
    "# 각 변수에 대한 LabelEncoder를 저장할 딕셔너리\n",
    "label_encoders = {}\n",
    "\n",
    "# Implement Label Encoding\n",
    "for col in tqdm( categorical_columns_v2 ):\n",
    "    lbl = LabelEncoder()\n",
    "\n",
    "    # Label-Encoding을 fit\n",
    "    lbl.fit( dt_train[col].astype(str) )\n",
    "    dt_train[col] = lbl.transform(dt_train[col].astype(str))\n",
    "    label_encoders[col] = lbl           # 나중에 후처리를 위해 레이블인코더를 저장해주겠습니다.\n",
    "\n",
    "    # Test 데이터에만 존재하는 새로 출현한 데이터를 신규 클래스로 추가해줍니다.\n",
    "    for label in np.unique(dt_test[col]):\n",
    "      if label not in lbl.classes_: # unseen label 데이터인 경우\n",
    "        lbl.classes_ = np.append(lbl.classes_, label) # 미처리 시 ValueError발생하니 주의하세요!\n",
    "\n",
    "    dt_test[col] = lbl.transform(dt_test[col].astype(str))"
   ]
  },
  {
   "cell_type": "code",
   "execution_count": 794,
   "metadata": {},
   "outputs": [],
   "source": [
    "# dt_train[categorical_columns_v2].head(5).T        # Label Encoding이 된 모습입니다."
   ]
  },
  {
   "cell_type": "code",
   "execution_count": 795,
   "metadata": {
    "colab": {
     "base_uri": "https://localhost:8080/",
     "height": 127
    },
    "id": "-mMaaemI6DCI",
    "outputId": "67139863-5f67-4288-fb9a-b6f5a57a7e86"
   },
   "outputs": [
    {
     "data": {
      "text/html": [
       "<div>\n",
       "<style scoped>\n",
       "    .dataframe tbody tr th:only-of-type {\n",
       "        vertical-align: middle;\n",
       "    }\n",
       "\n",
       "    .dataframe tbody tr th {\n",
       "        vertical-align: top;\n",
       "    }\n",
       "\n",
       "    .dataframe thead th {\n",
       "        text-align: right;\n",
       "    }\n",
       "</style>\n",
       "<table border=\"1\" class=\"dataframe\">\n",
       "  <thead>\n",
       "    <tr style=\"text-align: right;\">\n",
       "      <th></th>\n",
       "      <th>0</th>\n",
       "    </tr>\n",
       "  </thead>\n",
       "  <tbody>\n",
       "    <tr>\n",
       "      <th>본번</th>\n",
       "      <td>1114.000000</td>\n",
       "    </tr>\n",
       "    <tr>\n",
       "      <th>부번</th>\n",
       "      <td>1.000000</td>\n",
       "    </tr>\n",
       "    <tr>\n",
       "      <th>아파트명</th>\n",
       "      <td>293.000000</td>\n",
       "    </tr>\n",
       "    <tr>\n",
       "      <th>전용면적</th>\n",
       "      <td>4.394079</td>\n",
       "    </tr>\n",
       "    <tr>\n",
       "      <th>계약일</th>\n",
       "      <td>2.197225</td>\n",
       "    </tr>\n",
       "    <tr>\n",
       "      <th>층</th>\n",
       "      <td>1.386294</td>\n",
       "    </tr>\n",
       "    <tr>\n",
       "      <th>건축년도</th>\n",
       "      <td>7.594884</td>\n",
       "    </tr>\n",
       "    <tr>\n",
       "      <th>도로명</th>\n",
       "      <td>5520.000000</td>\n",
       "    </tr>\n",
       "    <tr>\n",
       "      <th>k_단지분류_아파트_주상복합등등_</th>\n",
       "      <td>3.000000</td>\n",
       "    </tr>\n",
       "    <tr>\n",
       "      <th>k_세대타입_분양형태_</th>\n",
       "      <td>2.000000</td>\n",
       "    </tr>\n",
       "    <tr>\n",
       "      <th>k_관리방식</th>\n",
       "      <td>2.000000</td>\n",
       "    </tr>\n",
       "    <tr>\n",
       "      <th>k_복도유형</th>\n",
       "      <td>1.000000</td>\n",
       "    </tr>\n",
       "    <tr>\n",
       "      <th>k_난방방식</th>\n",
       "      <td>1.000000</td>\n",
       "    </tr>\n",
       "    <tr>\n",
       "      <th>k_전체동수</th>\n",
       "      <td>2.197225</td>\n",
       "    </tr>\n",
       "    <tr>\n",
       "      <th>k_건설사_시공사_</th>\n",
       "      <td>237.000000</td>\n",
       "    </tr>\n",
       "    <tr>\n",
       "      <th>k_시행사</th>\n",
       "      <td>207.000000</td>\n",
       "    </tr>\n",
       "    <tr>\n",
       "      <th>k_주거전용면적</th>\n",
       "      <td>9.913685</td>\n",
       "    </tr>\n",
       "    <tr>\n",
       "      <th>k_수정일자</th>\n",
       "      <td>201.000000</td>\n",
       "    </tr>\n",
       "    <tr>\n",
       "      <th>경비비관리형태</th>\n",
       "      <td>4.000000</td>\n",
       "    </tr>\n",
       "    <tr>\n",
       "      <th>세대전기계약방법</th>\n",
       "      <td>1.000000</td>\n",
       "    </tr>\n",
       "    <tr>\n",
       "      <th>건축면적</th>\n",
       "      <td>8.488588</td>\n",
       "    </tr>\n",
       "    <tr>\n",
       "      <th>주차대수</th>\n",
       "      <td>5.572154</td>\n",
       "    </tr>\n",
       "    <tr>\n",
       "      <th>기타_의무_임대_임의_1_2_3_4</th>\n",
       "      <td>4.000000</td>\n",
       "    </tr>\n",
       "    <tr>\n",
       "      <th>단지승인일</th>\n",
       "      <td>703.000000</td>\n",
       "    </tr>\n",
       "    <tr>\n",
       "      <th>사용허가여부</th>\n",
       "      <td>1.000000</td>\n",
       "    </tr>\n",
       "    <tr>\n",
       "      <th>관리비_업로드</th>\n",
       "      <td>0.000000</td>\n",
       "    </tr>\n",
       "    <tr>\n",
       "      <th>좌표X</th>\n",
       "      <td>4.852477</td>\n",
       "    </tr>\n",
       "    <tr>\n",
       "      <th>좌표Y</th>\n",
       "      <td>3.650055</td>\n",
       "    </tr>\n",
       "    <tr>\n",
       "      <th>단지신청일</th>\n",
       "      <td>240.000000</td>\n",
       "    </tr>\n",
       "    <tr>\n",
       "      <th>target</th>\n",
       "      <td>11.728045</td>\n",
       "    </tr>\n",
       "    <tr>\n",
       "      <th>대중교통가중치</th>\n",
       "      <td>3.314186</td>\n",
       "    </tr>\n",
       "    <tr>\n",
       "      <th>구</th>\n",
       "      <td>0.000000</td>\n",
       "    </tr>\n",
       "    <tr>\n",
       "      <th>동</th>\n",
       "      <td>8.000000</td>\n",
       "    </tr>\n",
       "    <tr>\n",
       "      <th>계약년</th>\n",
       "      <td>10.000000</td>\n",
       "    </tr>\n",
       "    <tr>\n",
       "      <th>계약월</th>\n",
       "      <td>11.000000</td>\n",
       "    </tr>\n",
       "    <tr>\n",
       "      <th>강남여부</th>\n",
       "      <td>0.693147</td>\n",
       "    </tr>\n",
       "    <tr>\n",
       "      <th>신축여부</th>\n",
       "      <td>0.000000</td>\n",
       "    </tr>\n",
       "    <tr>\n",
       "      <th>구별_평균_가격</th>\n",
       "      <td>11.470252</td>\n",
       "    </tr>\n",
       "    <tr>\n",
       "      <th>동별_평균_가격</th>\n",
       "      <td>11.376998</td>\n",
       "    </tr>\n",
       "  </tbody>\n",
       "</table>\n",
       "</div>"
      ],
      "text/plain": [
       "                               0\n",
       "본번                   1114.000000\n",
       "부번                      1.000000\n",
       "아파트명                  293.000000\n",
       "전용면적                    4.394079\n",
       "계약일                     2.197225\n",
       "층                       1.386294\n",
       "건축년도                    7.594884\n",
       "도로명                  5520.000000\n",
       "k_단지분류_아파트_주상복합등등_      3.000000\n",
       "k_세대타입_분양형태_            2.000000\n",
       "k_관리방식                  2.000000\n",
       "k_복도유형                  1.000000\n",
       "k_난방방식                  1.000000\n",
       "k_전체동수                  2.197225\n",
       "k_건설사_시공사_            237.000000\n",
       "k_시행사                 207.000000\n",
       "k_주거전용면적                9.913685\n",
       "k_수정일자                201.000000\n",
       "경비비관리형태                 4.000000\n",
       "세대전기계약방법                1.000000\n",
       "건축면적                    8.488588\n",
       "주차대수                    5.572154\n",
       "기타_의무_임대_임의_1_2_3_4     4.000000\n",
       "단지승인일                 703.000000\n",
       "사용허가여부                  1.000000\n",
       "관리비_업로드                 0.000000\n",
       "좌표X                     4.852477\n",
       "좌표Y                     3.650055\n",
       "단지신청일                 240.000000\n",
       "target                 11.728045\n",
       "대중교통가중치                 3.314186\n",
       "구                       0.000000\n",
       "동                       8.000000\n",
       "계약년                    10.000000\n",
       "계약월                    11.000000\n",
       "강남여부                    0.693147\n",
       "신축여부                    0.000000\n",
       "구별_평균_가격               11.470252\n",
       "동별_평균_가격               11.376998"
      ]
     },
     "execution_count": 795,
     "metadata": {},
     "output_type": "execute_result"
    }
   ],
   "source": [
    "dt_train.head(1).T        # 레이블인코딩이 된 모습입니다."
   ]
  },
  {
   "cell_type": "markdown",
   "metadata": {
    "id": "L4sHljC3NWje"
   },
   "source": [
    "### 5.2. Model Training\n",
    "- 위 데이터를 이용해 모델을 train 해보겠습니다. 모델은 RandomForest를 이용하겠습니다.\n",
    "- Train과 Valid dataset을 분할하는 과정에서는 `holdout` 방법을 사용하겠습니다. 이 방법의 경우  대략적인 성능을 빠르게 확인할 수 있다는 점에서 baseline에서 사용해보도록 하겠습니다.\n",
    "  - 이 후 추가적인 eda를 통해서 평가세트와 경향을 맞추거나 kfold와 같은 분포에 대한 고려를 추가할 수 있습니다."
   ]
  },
  {
   "cell_type": "code",
   "execution_count": 796,
   "metadata": {
    "id": "7S-ow8vVP_YZ"
   },
   "outputs": [],
   "source": [
    "assert dt_train.shape[1] == dt_test.shape[1]          # train/test dataset의 shape이 같은지 확인해주겠습니다."
   ]
  },
  {
   "cell_type": "code",
   "execution_count": 797,
   "metadata": {},
   "outputs": [],
   "source": [
    "# Target과 독립변수들을 분리해줍니다.\n",
    "y_train = dt_train['target']\n",
    "X_train = dt_train.drop(['target'], axis=1)\n",
    "\n",
    "# Hold out split을 사용해 학습 데이터와 검증 데이터를 8:2 비율로 나누겠습니다.\n",
    "X_train, X_val, y_train, y_val = train_test_split(X_train, y_train, test_size=0.2, random_state=2023)"
   ]
  },
  {
   "cell_type": "markdown",
   "metadata": {},
   "source": [
    "# RandomForestRegressor"
   ]
  },
  {
   "cell_type": "code",
   "execution_count": 798,
   "metadata": {
    "colab": {
     "base_uri": "https://localhost:8080/"
    },
    "id": "fGNHMAD2aBGI",
    "outputId": "5471313e-6838-44d3-8567-940c7456ef9e"
   },
   "outputs": [
    {
     "data": {
      "text/plain": [
       "'\\n# RandomForestRegressor를 이용해 회귀 모델을 적합시키겠습니다.\\nprjName = \"RandomForestRegressor를\"\\nmodel = RandomForestRegressor(n_estimators=200, criterion=\\'squared_error\\', random_state=1, n_jobs=-1, warm_start=True)\\nmodel.fit(X_train, y_train)\\n#예측\\npred = model.predict(X_val)\\n'"
      ]
     },
     "execution_count": 798,
     "metadata": {},
     "output_type": "execute_result"
    }
   ],
   "source": [
    "'''\n",
    "# RandomForestRegressor를 이용해 회귀 모델을 적합시키겠습니다.\n",
    "prjName = \"RandomForestRegressor를\"\n",
    "model = RandomForestRegressor(n_estimators=200, criterion='squared_error', random_state=1, n_jobs=-1, warm_start=True)\n",
    "model.fit(X_train, y_train)\n",
    "#예측\n",
    "pred = model.predict(X_val)\n",
    "'''"
   ]
  },
  {
   "cell_type": "markdown",
   "metadata": {},
   "source": [
    "# LGBMRegressor"
   ]
  },
  {
   "cell_type": "code",
   "execution_count": 799,
   "metadata": {},
   "outputs": [
    {
     "name": "stdout",
     "output_type": "stream",
     "text": [
      "[LightGBM] [Warning] Unknown parameter: criterion\n",
      "[LightGBM] [Warning] Unknown parameter: criterion\n",
      "[LightGBM] [Info] Auto-choosing row-wise multi-threading, the overhead of testing was 0.053830 seconds.\n",
      "You can set `force_row_wise=true` to remove the overhead.\n",
      "And if memory is not enough, you can set `force_col_wise=true`.\n",
      "[LightGBM] [Info] Total Bins 4675\n",
      "[LightGBM] [Info] Number of data points in the train set: 823659, number of used features: 38\n",
      "[LightGBM] [Info] Start training from score 10.706518\n",
      "[LightGBM] [Warning] Unknown parameter: criterion\n"
     ]
    }
   ],
   "source": [
    "# 책갈피2\n",
    "# LightGBM 데이터셋 생성\n",
    "# LGBMRegressor 모델 생성 및 학습\n",
    "prjName = \"LGBMRegressor\"\n",
    "model = LGBMRegressor(n_estimators=10000, \n",
    "                      criterion='squared_error', \n",
    "                      max_depth=10,                       \n",
    "                      random_state=1)\n",
    "                      \n",
    "model.fit(X_train, y_train)\n",
    "#예측\n",
    "pred = model.predict(X_val)"
   ]
  },
  {
   "cell_type": "markdown",
   "metadata": {},
   "source": [
    "#### 수치형 로그 변환 원복"
   ]
  },
  {
   "cell_type": "code",
   "execution_count": 800,
   "metadata": {},
   "outputs": [],
   "source": [
    "# 예측값 원복\n",
    "pred = np.expm1(pred)\n",
    "\n",
    "# 실제값 원복\n",
    "y_val = np.expm1(y_val)\n"
   ]
  },
  {
   "cell_type": "code",
   "execution_count": 801,
   "metadata": {},
   "outputs": [
    {
     "data": {
      "text/plain": [
       "903874      81900.0\n",
       "1006989     27000.0\n",
       "815557      54500.0\n",
       "243999      69800.0\n",
       "535646      50000.0\n",
       "             ...   \n",
       "499780      27975.0\n",
       "509689      54250.0\n",
       "852576     130000.0\n",
       "1023252     25000.0\n",
       "293611      16500.0\n",
       "Name: target, Length: 205915, dtype: float64"
      ]
     },
     "execution_count": 801,
     "metadata": {},
     "output_type": "execute_result"
    }
   ],
   "source": [
    "y_val"
   ]
  },
  {
   "cell_type": "markdown",
   "metadata": {
    "id": "w_2ricpfCWti"
   },
   "source": [
    "- 랜덤포레스트의 하이퍼파라미터도 데이터에 맞게 지정해줄 수 있습니다. 데이터에 맞는 하이퍼파라미터를 찾는 것도 성능 향상에 도움이 될 수 있습니다."
   ]
  },
  {
   "cell_type": "code",
   "execution_count": 802,
   "metadata": {},
   "outputs": [],
   "source": [
    "\n",
    "# 평가 지표 계산\n",
    "mse = metrics.mean_squared_error(y_val, pred)\n",
    "rmse = np.sqrt(mse)\n",
    "\n",
    "# R-squared (R2) 점수는 회귀 모델의 성능을 평가하는 지표 중 하나입니다. \n",
    "# 모델이 데이터의 변동성을 얼마나 잘 설명하는지를 나타냅니다. \n",
    "\n",
    "# * R2 점수의 특징:\n",
    "# - 0에서 1 사이의 값을 가집니다.\n",
    "# - 1에 가까울수록 모델의 성능이 좋다는 것을 의미합니다.\n",
    "# - 0은 모델이 타겟 변수의 변동성을 전혀 설명하지 못한다는 것을 의미합니다.\n",
    "# - 음수 값이 나올 수도 있는데, 이는 모델이 평균값보다 못한 예측을 한다는 의미입니다.\n",
    "\n",
    "r2 = r2_score(y_val, pred)\n"
   ]
  },
  {
   "cell_type": "code",
   "execution_count": 803,
   "metadata": {
    "colab": {
     "base_uri": "https://localhost:8080/"
    },
    "id": "39uvsgeXey3R",
    "outputId": "139e341d-2abd-4923-ed05-a28a70a4caef"
   },
   "outputs": [
    {
     "name": "stdout",
     "output_type": "stream",
     "text": [
      "mse  : 15704580.214995597\n",
      "RMSE : 3962.9004800771363\n",
      "r2 score: 0.9878457068551967\n"
     ]
    }
   ],
   "source": [
    "\n",
    "# 회귀 관련 metric을 통해 train/valid의 모델 적합 결과를 관찰합니다.\n",
    "print(f'mse  : {mse}')\n",
    "print(f'RMSE : {rmse}') #5851.882141463051\n",
    "print(f'r2 score: {r2}')\n"
   ]
  },
  {
   "cell_type": "markdown",
   "metadata": {},
   "source": [
    "#### wanDB Log : 모델 학습 및 결과"
   ]
  },
  {
   "cell_type": "code",
   "execution_count": 804,
   "metadata": {},
   "outputs": [
    {
     "data": {
      "text/html": [
       "Tracking run with wandb version 0.18.6"
      ],
      "text/plain": [
       "<IPython.core.display.HTML object>"
      ]
     },
     "metadata": {},
     "output_type": "display_data"
    },
    {
     "data": {
      "text/html": [
       "Run data is saved locally in <code>/data/ephemeral/home/code/wandb/run-20241114_045427-5rqm972n</code>"
      ],
      "text/plain": [
       "<IPython.core.display.HTML object>"
      ]
     },
     "metadata": {},
     "output_type": "display_data"
    },
    {
     "data": {
      "text/html": [
       "Syncing run <strong><a href='https://wandb.ai/jinibizsite-home/Upstage%20%EC%A7%91%EA%B0%92%EC%98%88%EC%B8%A1/runs/5rqm972n' target=\"_blank\">LGBMRegressor</a></strong> to <a href='https://wandb.ai/jinibizsite-home/Upstage%20%EC%A7%91%EA%B0%92%EC%98%88%EC%B8%A1' target=\"_blank\">Weights & Biases</a> (<a href='https://wandb.me/developer-guide' target=\"_blank\">docs</a>)<br/>"
      ],
      "text/plain": [
       "<IPython.core.display.HTML object>"
      ]
     },
     "metadata": {},
     "output_type": "display_data"
    },
    {
     "data": {
      "text/html": [
       " View project at <a href='https://wandb.ai/jinibizsite-home/Upstage%20%EC%A7%91%EA%B0%92%EC%98%88%EC%B8%A1' target=\"_blank\">https://wandb.ai/jinibizsite-home/Upstage%20%EC%A7%91%EA%B0%92%EC%98%88%EC%B8%A1</a>"
      ],
      "text/plain": [
       "<IPython.core.display.HTML object>"
      ]
     },
     "metadata": {},
     "output_type": "display_data"
    },
    {
     "data": {
      "text/html": [
       " View run at <a href='https://wandb.ai/jinibizsite-home/Upstage%20%EC%A7%91%EA%B0%92%EC%98%88%EC%B8%A1/runs/5rqm972n' target=\"_blank\">https://wandb.ai/jinibizsite-home/Upstage%20%EC%A7%91%EA%B0%92%EC%98%88%EC%B8%A1/runs/5rqm972n</a>"
      ],
      "text/plain": [
       "<IPython.core.display.HTML object>"
      ]
     },
     "metadata": {},
     "output_type": "display_data"
    },
    {
     "data": {
      "application/vnd.jupyter.widget-view+json": {
       "model_id": "af2957ad3080491891dfa40502664163",
       "version_major": 2,
       "version_minor": 0
      },
      "text/plain": [
       "VBox(children=(Label(value='0.009 MB of 0.009 MB uploaded\\r'), FloatProgress(value=1.0, max=1.0)))"
      ]
     },
     "metadata": {},
     "output_type": "display_data"
    },
    {
     "data": {
      "text/html": [
       "\n",
       "    <style>\n",
       "        .wandb-row {\n",
       "            display: flex;\n",
       "            flex-direction: row;\n",
       "            flex-wrap: wrap;\n",
       "            justify-content: flex-start;\n",
       "            width: 100%;\n",
       "        }\n",
       "        .wandb-col {\n",
       "            display: flex;\n",
       "            flex-direction: column;\n",
       "            flex-basis: 100%;\n",
       "            flex: 1;\n",
       "            padding: 10px;\n",
       "        }\n",
       "    </style>\n",
       "<div class=\"wandb-row\"><div class=\"wandb-col\"><h3>Run history:</h3><br/><table class=\"wandb\"><tr><td>MSE</td><td>▁</td></tr><tr><td>R2 Score</td><td>▁</td></tr><tr><td>RMSE</td><td>▁</td></tr></table><br/></div><div class=\"wandb-col\"><h3>Run summary:</h3><br/><table class=\"wandb\"><tr><td>MSE</td><td>15704580.215</td></tr><tr><td>R2 Score</td><td>0.98785</td></tr><tr><td>RMSE</td><td>3962.90048</td></tr></table><br/></div></div>"
      ],
      "text/plain": [
       "<IPython.core.display.HTML object>"
      ]
     },
     "metadata": {},
     "output_type": "display_data"
    },
    {
     "data": {
      "text/html": [
       " View run <strong style=\"color:#cdcd00\">LGBMRegressor</strong> at: <a href='https://wandb.ai/jinibizsite-home/Upstage%20%EC%A7%91%EA%B0%92%EC%98%88%EC%B8%A1/runs/5rqm972n' target=\"_blank\">https://wandb.ai/jinibizsite-home/Upstage%20%EC%A7%91%EA%B0%92%EC%98%88%EC%B8%A1/runs/5rqm972n</a><br/> View project at: <a href='https://wandb.ai/jinibizsite-home/Upstage%20%EC%A7%91%EA%B0%92%EC%98%88%EC%B8%A1' target=\"_blank\">https://wandb.ai/jinibizsite-home/Upstage%20%EC%A7%91%EA%B0%92%EC%98%88%EC%B8%A1</a><br/>Synced 5 W&B file(s), 0 media file(s), 2 artifact file(s) and 1 other file(s)"
      ],
      "text/plain": [
       "<IPython.core.display.HTML object>"
      ]
     },
     "metadata": {},
     "output_type": "display_data"
    },
    {
     "data": {
      "text/html": [
       "Find logs at: <code>./wandb/run-20241114_045427-5rqm972n/logs</code>"
      ],
      "text/plain": [
       "<IPython.core.display.HTML object>"
      ]
     },
     "metadata": {},
     "output_type": "display_data"
    }
   ],
   "source": [
    "# wandb 초기화\n",
    "# 모델 데이터 로깅\n",
    "wandb.init(project=\"Upstage 집값예측\", name=prjName)\n",
    "\n",
    "# wandb 결과 Log \n",
    "wandb.log({\n",
    "    \"MSE\": mse,\n",
    "    \"RMSE\": rmse,\n",
    "    \"R2 Score\": r2\n",
    "})\n",
    "\n",
    "# Feature importance 계산 및 로깅\n",
    "feature_importance = pd.DataFrame({'feature': X_train.columns, 'importance': model.feature_importances_})\n",
    "feature_importance = feature_importance.sort_values('importance', ascending=False)\n",
    "\n",
    "wandb.log({\"feature_importances\": wandb.Table(dataframe=feature_importance)})\n",
    "\n",
    "# wandb 실행 종료\n",
    "wandb.finish()"
   ]
  },
  {
   "cell_type": "markdown",
   "metadata": {
    "id": "4jhh_fZ0DHOd"
   },
   "source": [
    "- 변수 중요도도 확인해보도록 하겠습니다."
   ]
  },
  {
   "cell_type": "code",
   "execution_count": 805,
   "metadata": {
    "colab": {
     "base_uri": "https://localhost:8080/",
     "height": 698
    },
    "id": "VbgCRxFgdFQb",
    "outputId": "f9114f72-78e1-471c-fc0b-ba5b8b6b6d2f"
   },
   "outputs": [
    {
     "data": {
      "image/png": "[encoded data removed]",
      "text/plain": [
       "<Figure size 1000x800 with 1 Axes>"
      ]
     },
     "metadata": {},
     "output_type": "display_data"
    }
   ],
   "source": [
    "# 위 feature importance를 시각화해봅니다.\n",
    "importances = pd.Series(model.feature_importances_, index=list(X_train.columns))\n",
    "importances = importances.sort_values(ascending=False)\n",
    "\n",
    "plt.figure(figsize=(10,8))\n",
    "plt.title(\"Feature Importances\")\n",
    "sns.barplot(x=importances, y=importances.index)\n",
    "plt.show()"
   ]
  },
  {
   "cell_type": "code",
   "execution_count": 806,
   "metadata": {
    "id": "vycdrTEAa2va"
   },
   "outputs": [],
   "source": [
    "# 학습된 모델을 저장합니다. Pickle 라이브러리를 이용하겠습니다.\n",
    "with open('saved_model.pkl', 'wb') as f:\n",
    "    pickle.dump(model, f)"
   ]
  },
  {
   "cell_type": "code",
   "execution_count": null,
   "metadata": {},
   "outputs": [
    {
     "name": "stdout",
     "output_type": "stream",
     "text": [
      "X_train columns: 38\n",
      "X_test columns: 38\n",
      "\n",
      "차이나는 컬럼들:\n",
      "Train에만 있는 컬럼: set()\n",
      "Test에만 있는 컬럼: set()\n"
     ]
    }
   ],
   "source": [
    "'''\n",
    "# 1. 현재 상태 확인\n",
    "print(\"X_train columns:\", X_train.shape[1])\n",
    "print(\"X_test columns:\", X_test.shape[1])\n",
    "# 2. 컬럼 비교\n",
    "train_cols = set(X_train.columns)\n",
    "test_cols = set(X_test.columns)\n",
    "print(\"\\n차이나는 컬럼들:\")\n",
    "print(\"Train에만 있는 컬럼:\", train_cols - test_cols)\n",
    "print(\"Test에만 있는 컬럼:\", test_cols - train_cols)\n",
    "'''"
   ]
  },
  {
   "cell_type": "markdown",
   "metadata": {
    "id": "jOVbJ3KWgBTC"
   },
   "source": [
    "### 5.3. Feature selection"
   ]
  },
  {
   "cell_type": "markdown",
   "metadata": {
    "id": "0Qp7gLG3CfgJ"
   },
   "source": [
    "- 어떤 변수가 유용한 변수인지 확인해보기 위해 permutation selection을 이용해보겠습니다."
   ]
  },
  {
   "cell_type": "code",
   "execution_count": 807,
   "metadata": {
    "colab": {
     "base_uri": "https://localhost:8080/",
     "height": 399
    },
    "id": "bWucmvKrf-tq",
    "outputId": "016c2fae-320b-4778-efb9-799b5cf695b0"
   },
   "outputs": [],
   "source": [
    "# Permutation importance 방법을 변수 선택에 이용해보겠습니다.\n",
    "# perm = PermutationImportance(model,        # 위에서 학습된 모델을 이용하겠습니다.\n",
    "#                              scoring = 'neg_mean_squared_error',        # 평가 지표로는 회귀문제이기에 negative rmse를 사용합니다. (neg_mean_squared_error : 음의 평균 제곱 오차)\n",
    "#                              random_state = 42,\n",
    "#                              n_iter=3).fit(X_val, y_val)\n",
    "# eli5.show_weights(perm, feature_names = X_val.columns.tolist())    # valid data에 대해 적합시킵니다."
   ]
  },
  {
   "cell_type": "markdown",
   "metadata": {
    "id": "8GbMRUxyCmWC"
   },
   "source": [
    "- 분석 결과 \"계약년\", \"전용면적\" 변수가 유의한 변수로 보입니다. 따라서 이 변수로 또 다른 파생변수를 더 생성해보거나, 중요도가 낮아보이는 변수를 제거해 차원의 저주를 막아볼 수도 있습니다."
   ]
  },
  {
   "cell_type": "markdown",
   "metadata": {
    "id": "YncDzsK1zl2w"
   },
   "source": [
    "### 5.4. Valid prediction 분석"
   ]
  },
  {
   "cell_type": "markdown",
   "metadata": {
    "id": "iQS1Fno2C-1R"
   },
   "source": [
    "- 예측값을 분석해보기 위해 valid prediction을 확인해보겠습니다."
   ]
  },
  {
   "cell_type": "code",
   "execution_count": 808,
   "metadata": {
    "id": "_xViv0o6DXQ-"
   },
   "outputs": [],
   "source": [
    "# Validation dataset에 target과 pred 값을 채워주도록 하겠습니다.\n",
    "X_val['target'] = y_val\n",
    "X_val['pred'] = pred"
   ]
  },
  {
   "cell_type": "code",
   "execution_count": 809,
   "metadata": {
    "id": "-D8NCLkWC-g6"
   },
   "outputs": [],
   "source": [
    "# Squared_error를 계산하는 함수를 정의하겠습니다.\n",
    "def calculate_se(target, pred):\n",
    "    squared_errors = (target - pred) ** 2\n",
    "    return squared_errors\n",
    "\n",
    "# RMSE 계산\n",
    "squared_errors = calculate_se(X_val['target'], X_val['pred'])\n",
    "X_val['error'] = squared_errors"
   ]
  },
  {
   "cell_type": "code",
   "execution_count": 810,
   "metadata": {
    "id": "fXbdC7b9HDDQ"
   },
   "outputs": [],
   "source": [
    "# Error가 큰 순서대로 sorting 해 보겠습니다.\n",
    "X_val_sort = X_val.sort_values(by='error', ascending=False)       # 내림차순 sorting"
   ]
  },
  {
   "cell_type": "code",
   "execution_count": 811,
   "metadata": {
    "colab": {
     "base_uri": "https://localhost:8080/",
     "height": 287
    },
    "id": "gOc8HmvDHhz8",
    "outputId": "17e408cb-9533-4d3b-baf6-245de0ae1a43"
   },
   "outputs": [
    {
     "data": {
      "text/html": [
       "<div>\n",
       "<style scoped>\n",
       "    .dataframe tbody tr th:only-of-type {\n",
       "        vertical-align: middle;\n",
       "    }\n",
       "\n",
       "    .dataframe tbody tr th {\n",
       "        vertical-align: top;\n",
       "    }\n",
       "\n",
       "    .dataframe thead th {\n",
       "        text-align: right;\n",
       "    }\n",
       "</style>\n",
       "<table border=\"1\" class=\"dataframe\">\n",
       "  <thead>\n",
       "    <tr style=\"text-align: right;\">\n",
       "      <th></th>\n",
       "      <th>본번</th>\n",
       "      <th>부번</th>\n",
       "      <th>아파트명</th>\n",
       "      <th>전용면적</th>\n",
       "      <th>계약일</th>\n",
       "      <th>층</th>\n",
       "      <th>건축년도</th>\n",
       "      <th>도로명</th>\n",
       "      <th>k_단지분류_아파트_주상복합등등_</th>\n",
       "      <th>k_세대타입_분양형태_</th>\n",
       "      <th>...</th>\n",
       "      <th>동</th>\n",
       "      <th>계약년</th>\n",
       "      <th>계약월</th>\n",
       "      <th>강남여부</th>\n",
       "      <th>신축여부</th>\n",
       "      <th>구별_평균_가격</th>\n",
       "      <th>동별_평균_가격</th>\n",
       "      <th>target</th>\n",
       "      <th>pred</th>\n",
       "      <th>error</th>\n",
       "    </tr>\n",
       "  </thead>\n",
       "  <tbody>\n",
       "    <tr>\n",
       "      <th>688919</th>\n",
       "      <td>1143</td>\n",
       "      <td>274</td>\n",
       "      <td>3575</td>\n",
       "      <td>4.589904</td>\n",
       "      <td>3.178054</td>\n",
       "      <td>2.079442</td>\n",
       "      <td>7.611348</td>\n",
       "      <td>6112</td>\n",
       "      <td>0</td>\n",
       "      <td>0</td>\n",
       "      <td>...</td>\n",
       "      <td>156</td>\n",
       "      <td>14</td>\n",
       "      <td>2</td>\n",
       "      <td>0.000000</td>\n",
       "      <td>0.693147</td>\n",
       "      <td>11.081205</td>\n",
       "      <td>11.115140</td>\n",
       "      <td>280000.0</td>\n",
       "      <td>122186.586889</td>\n",
       "      <td>2.490507e+10</td>\n",
       "    </tr>\n",
       "    <tr>\n",
       "      <th>673012</th>\n",
       "      <td>1223</td>\n",
       "      <td>0</td>\n",
       "      <td>2080</td>\n",
       "      <td>4.686474</td>\n",
       "      <td>2.397895</td>\n",
       "      <td>1.386294</td>\n",
       "      <td>7.587817</td>\n",
       "      <td>5026</td>\n",
       "      <td>0</td>\n",
       "      <td>0</td>\n",
       "      <td>...</td>\n",
       "      <td>111</td>\n",
       "      <td>4</td>\n",
       "      <td>7</td>\n",
       "      <td>0.693147</td>\n",
       "      <td>0.000000</td>\n",
       "      <td>11.478066</td>\n",
       "      <td>11.832409</td>\n",
       "      <td>48000.0</td>\n",
       "      <td>185026.255854</td>\n",
       "      <td>1.877619e+10</td>\n",
       "    </tr>\n",
       "    <tr>\n",
       "      <th>13028</th>\n",
       "      <td>1208</td>\n",
       "      <td>0</td>\n",
       "      <td>1472</td>\n",
       "      <td>4.451086</td>\n",
       "      <td>3.258097</td>\n",
       "      <td>3.178054</td>\n",
       "      <td>7.611842</td>\n",
       "      <td>5773</td>\n",
       "      <td>0</td>\n",
       "      <td>0</td>\n",
       "      <td>...</td>\n",
       "      <td>251</td>\n",
       "      <td>15</td>\n",
       "      <td>7</td>\n",
       "      <td>0.693147</td>\n",
       "      <td>0.693147</td>\n",
       "      <td>11.470252</td>\n",
       "      <td>11.439870</td>\n",
       "      <td>150000.0</td>\n",
       "      <td>273230.405673</td>\n",
       "      <td>1.518573e+10</td>\n",
       "    </tr>\n",
       "    <tr>\n",
       "      <th>12053</th>\n",
       "      <td>421</td>\n",
       "      <td>105</td>\n",
       "      <td>2466</td>\n",
       "      <td>4.748950</td>\n",
       "      <td>2.564949</td>\n",
       "      <td>0.693147</td>\n",
       "      <td>7.605392</td>\n",
       "      <td>7812</td>\n",
       "      <td>0</td>\n",
       "      <td>0</td>\n",
       "      <td>...</td>\n",
       "      <td>137</td>\n",
       "      <td>15</td>\n",
       "      <td>9</td>\n",
       "      <td>0.693147</td>\n",
       "      <td>0.693147</td>\n",
       "      <td>11.470252</td>\n",
       "      <td>11.468045</td>\n",
       "      <td>352000.0</td>\n",
       "      <td>232373.028275</td>\n",
       "      <td>1.431061e+10</td>\n",
       "    </tr>\n",
       "    <tr>\n",
       "      <th>13932</th>\n",
       "      <td>1116</td>\n",
       "      <td>0</td>\n",
       "      <td>3491</td>\n",
       "      <td>4.437461</td>\n",
       "      <td>2.708050</td>\n",
       "      <td>1.386294</td>\n",
       "      <td>7.592870</td>\n",
       "      <td>5772</td>\n",
       "      <td>0</td>\n",
       "      <td>0</td>\n",
       "      <td>...</td>\n",
       "      <td>59</td>\n",
       "      <td>14</td>\n",
       "      <td>8</td>\n",
       "      <td>0.693147</td>\n",
       "      <td>0.000000</td>\n",
       "      <td>11.470252</td>\n",
       "      <td>11.672260</td>\n",
       "      <td>136000.0</td>\n",
       "      <td>255190.117501</td>\n",
       "      <td>1.420628e+10</td>\n",
       "    </tr>\n",
       "  </tbody>\n",
       "</table>\n",
       "<p>5 rows × 41 columns</p>\n",
       "</div>"
      ],
      "text/plain": [
       "          본번   부번  아파트명      전용면적       계약일         층      건축년도   도로명  \\\n",
       "688919  1143  274  3575  4.589904  3.178054  2.079442  7.611348  6112   \n",
       "673012  1223    0  2080  4.686474  2.397895  1.386294  7.587817  5026   \n",
       "13028   1208    0  1472  4.451086  3.258097  3.178054  7.611842  5773   \n",
       "12053    421  105  2466  4.748950  2.564949  0.693147  7.605392  7812   \n",
       "13932   1116    0  3491  4.437461  2.708050  1.386294  7.592870  5772   \n",
       "\n",
       "        k_단지분류_아파트_주상복합등등_  k_세대타입_분양형태_  ...    동  계약년  계약월      강남여부  \\\n",
       "688919                   0             0  ...  156   14    2  0.000000   \n",
       "673012                   0             0  ...  111    4    7  0.693147   \n",
       "13028                    0             0  ...  251   15    7  0.693147   \n",
       "12053                    0             0  ...  137   15    9  0.693147   \n",
       "13932                    0             0  ...   59   14    8  0.693147   \n",
       "\n",
       "            신축여부   구별_평균_가격   동별_평균_가격    target           pred         error  \n",
       "688919  0.693147  11.081205  11.115140  280000.0  122186.586889  2.490507e+10  \n",
       "673012  0.000000  11.478066  11.832409   48000.0  185026.255854  1.877619e+10  \n",
       "13028   0.693147  11.470252  11.439870  150000.0  273230.405673  1.518573e+10  \n",
       "12053   0.693147  11.470252  11.468045  352000.0  232373.028275  1.431061e+10  \n",
       "13932   0.000000  11.470252  11.672260  136000.0  255190.117501  1.420628e+10  \n",
       "\n",
       "[5 rows x 41 columns]"
      ]
     },
     "execution_count": 811,
     "metadata": {},
     "output_type": "execute_result"
    }
   ],
   "source": [
    "X_val_sort.head()"
   ]
  },
  {
   "cell_type": "markdown",
   "metadata": {
    "id": "Mms3pe564O6v"
   },
   "source": [
    "- 예측을 잘 하지 못한 top 100개의 데이터와 예측을 잘한 top 100개의 데이터를 비교해보겠습니다."
   ]
  },
  {
   "cell_type": "code",
   "execution_count": 812,
   "metadata": {
    "id": "xxEferiRIM8A"
   },
   "outputs": [],
   "source": [
    "X_val_sort_top100 = X_val.sort_values(by='error', ascending=False).head(100)        # 예측을 잘 하지못한 top 100개의 data\n",
    "X_val_sort_tail100 = X_val.sort_values(by='error', ascending=False).tail(100)       # 예측을 잘한 top 100개의 data"
   ]
  },
  {
   "cell_type": "code",
   "execution_count": 813,
   "metadata": {},
   "outputs": [],
   "source": [
    "#해석을 위해 수치형 로그 변환 원복\n",
    "for col in continuous_columns_v2:\n",
    "    dt_train[col] = np.expm1(dt_train[col])\n",
    "    dt_test[col] = np.expm1(dt_test[col])\n",
    "\n",
    " # 로그변환을 원복한 모습입니다.\n",
    "# dt_train[continuous_columns_v2].head(5).T  "
   ]
  },
  {
   "cell_type": "code",
   "execution_count": 814,
   "metadata": {},
   "outputs": [
    {
     "data": {
      "text/plain": [
       "57148    0.0\n",
       "Name: target, dtype: float64"
      ]
     },
     "execution_count": 814,
     "metadata": {},
     "output_type": "execute_result"
    }
   ],
   "source": [
    "dt_train['target'].head(1)\n",
    "dt_test['target'].head(1)"
   ]
  },
  {
   "cell_type": "code",
   "execution_count": 815,
   "metadata": {
    "id": "JPt_LNqW3TZ2"
   },
   "outputs": [],
   "source": [
    "# 해석을 위해 범주형 레이블인코딩 된 변수를 복원해줍니다.\n",
    "error_top100 = X_val_sort_top100.copy()\n",
    "for column in categorical_columns_v2 :     # 앞서 레이블 인코딩에서 정의했던 categorical_columns_v2 범주형 변수 리스트를 사용합니다.\n",
    "    error_top100[column] = label_encoders[column].inverse_transform(X_val_sort_top100[column])\n",
    "\n",
    "best_top100 = X_val_sort_tail100.copy()\n",
    "for column in categorical_columns_v2 :     # 앞서 레이블 인코딩에서 정의했던 categorical_columns_v2 범주형 변수 리스트를 사용합니다.\n",
    "    best_top100[column] = label_encoders[column].inverse_transform(X_val_sort_tail100[column])"
   ]
  },
  {
   "cell_type": "code",
   "execution_count": 816,
   "metadata": {
    "colab": {
     "base_uri": "https://localhost:8080/",
     "height": 358
    },
    "id": "Rlo-K31L3PEQ",
    "outputId": "f009d0e0-0224-46eb-de2d-3eff99a2dbd0"
   },
   "outputs": [
    {
     "data": {
      "text/html": [
       "<div>\n",
       "<style scoped>\n",
       "    .dataframe tbody tr th:only-of-type {\n",
       "        vertical-align: middle;\n",
       "    }\n",
       "\n",
       "    .dataframe tbody tr th {\n",
       "        vertical-align: top;\n",
       "    }\n",
       "\n",
       "    .dataframe thead th {\n",
       "        text-align: right;\n",
       "    }\n",
       "</style>\n",
       "<table border=\"1\" class=\"dataframe\">\n",
       "  <thead>\n",
       "    <tr style=\"text-align: right;\">\n",
       "      <th></th>\n",
       "      <th>본번</th>\n",
       "      <th>부번</th>\n",
       "      <th>아파트명</th>\n",
       "      <th>전용면적</th>\n",
       "      <th>계약일</th>\n",
       "      <th>층</th>\n",
       "      <th>건축년도</th>\n",
       "      <th>도로명</th>\n",
       "      <th>k_단지분류_아파트_주상복합등등_</th>\n",
       "      <th>k_세대타입_분양형태_</th>\n",
       "      <th>...</th>\n",
       "      <th>동</th>\n",
       "      <th>계약년</th>\n",
       "      <th>계약월</th>\n",
       "      <th>강남여부</th>\n",
       "      <th>신축여부</th>\n",
       "      <th>구별_평균_가격</th>\n",
       "      <th>동별_평균_가격</th>\n",
       "      <th>target</th>\n",
       "      <th>pred</th>\n",
       "      <th>error</th>\n",
       "    </tr>\n",
       "  </thead>\n",
       "  <tbody>\n",
       "    <tr>\n",
       "      <th>688919</th>\n",
       "      <td>685.0</td>\n",
       "      <td>700.0</td>\n",
       "      <td>아크로서울포레스트</td>\n",
       "      <td>4.589904</td>\n",
       "      <td>3.178054</td>\n",
       "      <td>2.079442</td>\n",
       "      <td>7.611348</td>\n",
       "      <td>왕십리로 83-21</td>\n",
       "      <td>NULL</td>\n",
       "      <td>NULL</td>\n",
       "      <td>...</td>\n",
       "      <td>성수동1가</td>\n",
       "      <td>2021</td>\n",
       "      <td>03</td>\n",
       "      <td>0.0</td>\n",
       "      <td>0.693147</td>\n",
       "      <td>11.081205</td>\n",
       "      <td>11.11514</td>\n",
       "      <td>280000.0</td>\n",
       "      <td>122186.586889</td>\n",
       "      <td>2.490507e+10</td>\n",
       "    </tr>\n",
       "  </tbody>\n",
       "</table>\n",
       "<p>1 rows × 41 columns</p>\n",
       "</div>"
      ],
      "text/plain": [
       "           본번     부번       아파트명      전용면적       계약일         층      건축년도  \\\n",
       "688919  685.0  700.0  아크로서울포레스트  4.589904  3.178054  2.079442  7.611348   \n",
       "\n",
       "               도로명 k_단지분류_아파트_주상복합등등_ k_세대타입_분양형태_  ...      동   계약년 계약월  \\\n",
       "688919  왕십리로 83-21               NULL         NULL  ...  성수동1가  2021  03   \n",
       "\n",
       "        강남여부      신축여부   구별_평균_가격  동별_평균_가격    target           pred  \\\n",
       "688919   0.0  0.693147  11.081205  11.11514  280000.0  122186.586889   \n",
       "\n",
       "               error  \n",
       "688919  2.490507e+10  \n",
       "\n",
       "[1 rows x 41 columns]"
      ]
     },
     "metadata": {},
     "output_type": "display_data"
    },
    {
     "data": {
      "text/html": [
       "<div>\n",
       "<style scoped>\n",
       "    .dataframe tbody tr th:only-of-type {\n",
       "        vertical-align: middle;\n",
       "    }\n",
       "\n",
       "    .dataframe tbody tr th {\n",
       "        vertical-align: top;\n",
       "    }\n",
       "\n",
       "    .dataframe thead th {\n",
       "        text-align: right;\n",
       "    }\n",
       "</style>\n",
       "<table border=\"1\" class=\"dataframe\">\n",
       "  <thead>\n",
       "    <tr style=\"text-align: right;\">\n",
       "      <th></th>\n",
       "      <th>본번</th>\n",
       "      <th>부번</th>\n",
       "      <th>아파트명</th>\n",
       "      <th>전용면적</th>\n",
       "      <th>계약일</th>\n",
       "      <th>층</th>\n",
       "      <th>건축년도</th>\n",
       "      <th>도로명</th>\n",
       "      <th>k_단지분류_아파트_주상복합등등_</th>\n",
       "      <th>k_세대타입_분양형태_</th>\n",
       "      <th>...</th>\n",
       "      <th>동</th>\n",
       "      <th>계약년</th>\n",
       "      <th>계약월</th>\n",
       "      <th>강남여부</th>\n",
       "      <th>신축여부</th>\n",
       "      <th>구별_평균_가격</th>\n",
       "      <th>동별_평균_가격</th>\n",
       "      <th>target</th>\n",
       "      <th>pred</th>\n",
       "      <th>error</th>\n",
       "    </tr>\n",
       "  </thead>\n",
       "  <tbody>\n",
       "    <tr>\n",
       "      <th>435643</th>\n",
       "      <td>714.0</td>\n",
       "      <td>0.0</td>\n",
       "      <td>삼익4단지</td>\n",
       "      <td>3.703768</td>\n",
       "      <td>3.258097</td>\n",
       "      <td>1.791759</td>\n",
       "      <td>7.598399</td>\n",
       "      <td>동일로198가길 13</td>\n",
       "      <td>NULL</td>\n",
       "      <td>NULL</td>\n",
       "      <td>...</td>\n",
       "      <td>공릉동</td>\n",
       "      <td>2007</td>\n",
       "      <td>07</td>\n",
       "      <td>0.0</td>\n",
       "      <td>0.0</td>\n",
       "      <td>10.411327</td>\n",
       "      <td>10.388099</td>\n",
       "      <td>10500.0</td>\n",
       "      <td>10498.907993</td>\n",
       "      <td>1.192478</td>\n",
       "    </tr>\n",
       "  </tbody>\n",
       "</table>\n",
       "<p>1 rows × 41 columns</p>\n",
       "</div>"
      ],
      "text/plain": [
       "           본번   부번   아파트명      전용면적       계약일         층      건축년도  \\\n",
       "435643  714.0  0.0  삼익4단지  3.703768  3.258097  1.791759  7.598399   \n",
       "\n",
       "                도로명 k_단지분류_아파트_주상복합등등_ k_세대타입_분양형태_  ...    동   계약년 계약월  강남여부  \\\n",
       "435643  동일로198가길 13               NULL         NULL  ...  공릉동  2007  07   0.0   \n",
       "\n",
       "       신축여부   구별_평균_가격   동별_평균_가격   target          pred     error  \n",
       "435643  0.0  10.411327  10.388099  10500.0  10498.907993  1.192478  \n",
       "\n",
       "[1 rows x 41 columns]"
      ]
     },
     "metadata": {},
     "output_type": "display_data"
    }
   ],
   "source": [
    "display(error_top100.head(1))\n",
    "display(best_top100.head(1))"
   ]
  },
  {
   "cell_type": "markdown",
   "metadata": {
    "id": "K6gnHzd55c6f"
   },
   "source": [
    "- 이제 분포를 비교해보도록 하겠습니다."
   ]
  },
  {
   "cell_type": "code",
   "execution_count": 817,
   "metadata": {
    "colab": {
     "base_uri": "https://localhost:8080/",
     "height": 925
    },
    "id": "SyJJoEiu4kes",
    "outputId": "afd5876f-264e-4ad1-d2bf-cb400819c794"
   },
   "outputs": [
    {
     "data": {
      "image/png": "[encoded data removed]",
      "text/plain": [
       "<Figure size 640x480 with 1 Axes>"
      ]
     },
     "metadata": {},
     "output_type": "display_data"
    },
    {
     "data": {
      "image/png": "[encoded data removed]",
      "text/plain": [
       "<Figure size 640x480 with 1 Axes>"
      ]
     },
     "metadata": {},
     "output_type": "display_data"
    }
   ],
   "source": [
    "sns.boxplot(data = error_top100, x='target')\n",
    "plt.title('The worst top100 prediction의 target 분포')\n",
    "plt.show()\n",
    "\n",
    "sns.boxplot(data = best_top100, x='target', color='orange')\n",
    "plt.title('The best top100 prediction의 target 분포')\n",
    "plt.show()"
   ]
  },
  {
   "cell_type": "markdown",
   "metadata": {
    "id": "gWnF219657Lc"
   },
   "source": [
    "- Taget 분포를 보니 좋은 예측을 보인 top 100개의 data보다 상대적으로 나쁜 예측을 보인 top 100 dataset들이 높은 가격을 보였음을 확인할 수 있습니다. 이에 대한 모델링 및 처리가 필요해보입니다."
   ]
  },
  {
   "cell_type": "code",
   "execution_count": 818,
   "metadata": {
    "colab": {
     "base_uri": "https://localhost:8080/",
     "height": 471
    },
    "id": "qOhsS3Cr6IuH",
    "outputId": "462592ff-31b6-4300-9edb-cbec64054deb"
   },
   "outputs": [
    {
     "data": {
      "image/png": "[encoded data removed]",
      "text/plain": [
       "<Figure size 640x480 with 1 Axes>"
      ]
     },
     "metadata": {},
     "output_type": "display_data"
    }
   ],
   "source": [
    "sns.histplot(data = error_top100, x='전용면적', alpha=0.5)\n",
    "sns.histplot(data = best_top100, x='전용면적', color='orange', alpha=0.5)\n",
    "plt.title('전용면적 분포 비교')\n",
    "plt.show()"
   ]
  },
  {
   "cell_type": "markdown",
   "metadata": {
    "id": "XsMOOYc16jU8"
   },
   "source": [
    "- 전용면적 또한 나쁜 예측을 보인 집들이 더 넓음을 확인할 수 있습니다."
   ]
  },
  {
   "cell_type": "markdown",
   "metadata": {
    "id": "F0Ga4ljBNYIy"
   },
   "source": [
    "## 6. Inference"
   ]
  },
  {
   "cell_type": "code",
   "execution_count": 819,
   "metadata": {
    "colab": {
     "base_uri": "https://localhost:8080/",
     "height": 158
    },
    "id": "7LC7NuRaD_Dd",
    "outputId": "c2827163-dbdd-4c8c-d35b-1c325b8d14c0"
   },
   "outputs": [
    {
     "data": {
      "text/html": [
       "<div>\n",
       "<style scoped>\n",
       "    .dataframe tbody tr th:only-of-type {\n",
       "        vertical-align: middle;\n",
       "    }\n",
       "\n",
       "    .dataframe tbody tr th {\n",
       "        vertical-align: top;\n",
       "    }\n",
       "\n",
       "    .dataframe thead th {\n",
       "        text-align: right;\n",
       "    }\n",
       "</style>\n",
       "<table border=\"1\" class=\"dataframe\">\n",
       "  <thead>\n",
       "    <tr style=\"text-align: right;\">\n",
       "      <th></th>\n",
       "      <th>57148</th>\n",
       "    </tr>\n",
       "  </thead>\n",
       "  <tbody>\n",
       "    <tr>\n",
       "      <th>본번</th>\n",
       "      <td>1114.000000</td>\n",
       "    </tr>\n",
       "    <tr>\n",
       "      <th>부번</th>\n",
       "      <td>1.000000</td>\n",
       "    </tr>\n",
       "    <tr>\n",
       "      <th>아파트명</th>\n",
       "      <td>293.000000</td>\n",
       "    </tr>\n",
       "    <tr>\n",
       "      <th>전용면적</th>\n",
       "      <td>79.970000</td>\n",
       "    </tr>\n",
       "    <tr>\n",
       "      <th>계약일</th>\n",
       "      <td>26.000000</td>\n",
       "    </tr>\n",
       "    <tr>\n",
       "      <th>층</th>\n",
       "      <td>5.000000</td>\n",
       "    </tr>\n",
       "    <tr>\n",
       "      <th>건축년도</th>\n",
       "      <td>1987.000000</td>\n",
       "    </tr>\n",
       "    <tr>\n",
       "      <th>도로명</th>\n",
       "      <td>5520.000000</td>\n",
       "    </tr>\n",
       "    <tr>\n",
       "      <th>k_단지분류_아파트_주상복합등등_</th>\n",
       "      <td>3.000000</td>\n",
       "    </tr>\n",
       "    <tr>\n",
       "      <th>k_세대타입_분양형태_</th>\n",
       "      <td>2.000000</td>\n",
       "    </tr>\n",
       "    <tr>\n",
       "      <th>k_관리방식</th>\n",
       "      <td>2.000000</td>\n",
       "    </tr>\n",
       "    <tr>\n",
       "      <th>k_복도유형</th>\n",
       "      <td>1.000000</td>\n",
       "    </tr>\n",
       "    <tr>\n",
       "      <th>k_난방방식</th>\n",
       "      <td>1.000000</td>\n",
       "    </tr>\n",
       "    <tr>\n",
       "      <th>k_전체동수</th>\n",
       "      <td>8.000000</td>\n",
       "    </tr>\n",
       "    <tr>\n",
       "      <th>k_건설사_시공사_</th>\n",
       "      <td>237.000000</td>\n",
       "    </tr>\n",
       "    <tr>\n",
       "      <th>k_시행사</th>\n",
       "      <td>207.000000</td>\n",
       "    </tr>\n",
       "    <tr>\n",
       "      <th>k_주거전용면적</th>\n",
       "      <td>20204.000000</td>\n",
       "    </tr>\n",
       "    <tr>\n",
       "      <th>k_수정일자</th>\n",
       "      <td>201.000000</td>\n",
       "    </tr>\n",
       "    <tr>\n",
       "      <th>경비비관리형태</th>\n",
       "      <td>4.000000</td>\n",
       "    </tr>\n",
       "    <tr>\n",
       "      <th>세대전기계약방법</th>\n",
       "      <td>1.000000</td>\n",
       "    </tr>\n",
       "    <tr>\n",
       "      <th>건축면적</th>\n",
       "      <td>4858.000000</td>\n",
       "    </tr>\n",
       "    <tr>\n",
       "      <th>주차대수</th>\n",
       "      <td>262.000000</td>\n",
       "    </tr>\n",
       "    <tr>\n",
       "      <th>기타_의무_임대_임의_1_2_3_4</th>\n",
       "      <td>4.000000</td>\n",
       "    </tr>\n",
       "    <tr>\n",
       "      <th>단지승인일</th>\n",
       "      <td>703.000000</td>\n",
       "    </tr>\n",
       "    <tr>\n",
       "      <th>사용허가여부</th>\n",
       "      <td>1.000000</td>\n",
       "    </tr>\n",
       "    <tr>\n",
       "      <th>관리비_업로드</th>\n",
       "      <td>0.000000</td>\n",
       "    </tr>\n",
       "    <tr>\n",
       "      <th>좌표X</th>\n",
       "      <td>127.057210</td>\n",
       "    </tr>\n",
       "    <tr>\n",
       "      <th>좌표Y</th>\n",
       "      <td>37.476763</td>\n",
       "    </tr>\n",
       "    <tr>\n",
       "      <th>단지신청일</th>\n",
       "      <td>240.000000</td>\n",
       "    </tr>\n",
       "    <tr>\n",
       "      <th>target</th>\n",
       "      <td>0.000000</td>\n",
       "    </tr>\n",
       "    <tr>\n",
       "      <th>대중교통가중치</th>\n",
       "      <td>26.500000</td>\n",
       "    </tr>\n",
       "    <tr>\n",
       "      <th>구</th>\n",
       "      <td>0.000000</td>\n",
       "    </tr>\n",
       "    <tr>\n",
       "      <th>동</th>\n",
       "      <td>8.000000</td>\n",
       "    </tr>\n",
       "    <tr>\n",
       "      <th>계약년</th>\n",
       "      <td>16.000000</td>\n",
       "    </tr>\n",
       "    <tr>\n",
       "      <th>계약월</th>\n",
       "      <td>6.000000</td>\n",
       "    </tr>\n",
       "    <tr>\n",
       "      <th>강남여부</th>\n",
       "      <td>1.000000</td>\n",
       "    </tr>\n",
       "    <tr>\n",
       "      <th>신축여부</th>\n",
       "      <td>0.000000</td>\n",
       "    </tr>\n",
       "    <tr>\n",
       "      <th>구별_평균_가격</th>\n",
       "      <td>95821.426438</td>\n",
       "    </tr>\n",
       "    <tr>\n",
       "      <th>동별_평균_가격</th>\n",
       "      <td>87289.596931</td>\n",
       "    </tr>\n",
       "  </tbody>\n",
       "</table>\n",
       "</div>"
      ],
      "text/plain": [
       "                            57148\n",
       "본번                    1114.000000\n",
       "부번                       1.000000\n",
       "아파트명                   293.000000\n",
       "전용면적                    79.970000\n",
       "계약일                     26.000000\n",
       "층                        5.000000\n",
       "건축년도                  1987.000000\n",
       "도로명                   5520.000000\n",
       "k_단지분류_아파트_주상복합등등_       3.000000\n",
       "k_세대타입_분양형태_             2.000000\n",
       "k_관리방식                   2.000000\n",
       "k_복도유형                   1.000000\n",
       "k_난방방식                   1.000000\n",
       "k_전체동수                   8.000000\n",
       "k_건설사_시공사_             237.000000\n",
       "k_시행사                  207.000000\n",
       "k_주거전용면적             20204.000000\n",
       "k_수정일자                 201.000000\n",
       "경비비관리형태                  4.000000\n",
       "세대전기계약방법                 1.000000\n",
       "건축면적                  4858.000000\n",
       "주차대수                   262.000000\n",
       "기타_의무_임대_임의_1_2_3_4      4.000000\n",
       "단지승인일                  703.000000\n",
       "사용허가여부                   1.000000\n",
       "관리비_업로드                  0.000000\n",
       "좌표X                    127.057210\n",
       "좌표Y                     37.476763\n",
       "단지신청일                  240.000000\n",
       "target                   0.000000\n",
       "대중교통가중치                 26.500000\n",
       "구                        0.000000\n",
       "동                        8.000000\n",
       "계약년                     16.000000\n",
       "계약월                      6.000000\n",
       "강남여부                     1.000000\n",
       "신축여부                     0.000000\n",
       "구별_평균_가격             95821.426438\n",
       "동별_평균_가격             87289.596931"
      ]
     },
     "execution_count": 819,
     "metadata": {},
     "output_type": "execute_result"
    }
   ],
   "source": [
    "dt_test.head(1).T      # test dataset에 대한 inference를 진행해보겠습니다."
   ]
  },
  {
   "cell_type": "code",
   "execution_count": 820,
   "metadata": {
    "id": "0HXvn8ZSa1kt"
   },
   "outputs": [],
   "source": [
    "# 저장된 모델을 불러옵니다.\n",
    "with open('saved_model.pkl', 'rb') as f:\n",
    "    model = pickle.load(f)"
   ]
  },
  {
   "cell_type": "code",
   "execution_count": 821,
   "metadata": {
    "colab": {
     "base_uri": "https://localhost:8080/"
    },
    "id": "qbZ2A49LP_T9",
    "outputId": "89676c9b-c0a2-4951-84f0-430c5648331c"
   },
   "outputs": [
    {
     "name": "stdout",
     "output_type": "stream",
     "text": [
      "[LightGBM] [Warning] Unknown parameter: criterion\n",
      "CPU times: user 7.43 s, sys: 3.99 ms, total: 7.44 s\n",
      "Wall time: 879 ms\n"
     ]
    }
   ],
   "source": [
    "%%time\n",
    "X_test = dt_test.drop(['target'], axis=1)\n",
    "\n",
    "# Test dataset에 대한 inference를 진행합니다.\n",
    "predicted_log2 = model.predict(X_test)\n",
    "real_test_pred = np.expm1(predicted_log2) # real_test_pred 로그 변화 원복"
   ]
  },
  {
   "cell_type": "code",
   "execution_count": 822,
   "metadata": {},
   "outputs": [],
   "source": [
    "# real_test_pred 로그 변화 원복\n",
    "# real_test_pred = np.expm1(real_test_pred)"
   ]
  },
  {
   "cell_type": "code",
   "execution_count": 823,
   "metadata": {
    "colab": {
     "base_uri": "https://localhost:8080/"
    },
    "id": "4M1QkrH_31zK",
    "outputId": "6c6f4635-50bb-4a2d-8453-56f700ec6140"
   },
   "outputs": [
    {
     "data": {
      "text/plain": [
       "array([365807.75189434, 312078.95650283, 304623.37406589, ...,\n",
       "       350117.48121846, 370912.82566169, 345049.87551144])"
      ]
     },
     "execution_count": 823,
     "metadata": {},
     "output_type": "execute_result"
    }
   ],
   "source": [
    "real_test_pred          # 예측값들이 출력됨을 확인할 수 있습니다."
   ]
  },
  {
   "cell_type": "code",
   "execution_count": 824,
   "metadata": {},
   "outputs": [
    {
     "data": {
      "text/plain": [
       "(9271,)"
      ]
     },
     "execution_count": 824,
     "metadata": {},
     "output_type": "execute_result"
    }
   ],
   "source": [
    "real_test_pred.shape"
   ]
  },
  {
   "cell_type": "markdown",
   "metadata": {
    "id": "KlxtDBDNNa6Y"
   },
   "source": [
    "## 7. Output File Save"
   ]
  },
  {
   "cell_type": "code",
   "execution_count": 825,
   "metadata": {
    "id": "Tn36fIuB42aM"
   },
   "outputs": [],
   "source": [
    "# 앞서 예측한 예측값들을 저장합니다.\n",
    "preds_df = pd.DataFrame(real_test_pred.astype(int), columns=[\"target\"])\n",
    "preds_df.to_csv('output.csv', index=False)"
   ]
  },
  {
   "cell_type": "code",
   "execution_count": null,
   "metadata": {},
   "outputs": [],
   "source": []
  }
 ],
 "metadata": {
  "colab": {
   "provenance": []
  },
  "kernelspec": {
   "display_name": "base",
   "language": "python",
   "name": "python3"
  },
  "language_info": {
   "codemirror_mode": {
    "name": "ipython",
    "version": 3
   },
   "file_extension": ".py",
   "mimetype": "text/x-python",
   "name": "python",
   "nbconvert_exporter": "python",
   "pygments_lexer": "ipython3",
   "version": "3.10.13"
  }
 },
 "nbformat": 4,
 "nbformat_minor": 0
}
