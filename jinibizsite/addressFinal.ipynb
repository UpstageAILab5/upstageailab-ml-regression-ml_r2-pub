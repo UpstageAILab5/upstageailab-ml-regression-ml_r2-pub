{
 "cells": [
  {
   "cell_type": "markdown",
   "metadata": {},
   "source": [
    "### 각 개발자가 카카오 사이트에서 받아야 하는 키 값 - 공유 금지"
   ]
  },
  {
   "cell_type": "code",
   "execution_count": 113,
   "metadata": {},
   "outputs": [],
   "source": [
    "# 카카오 API 개인 개발자 키 설정 (타인에게 공유하지 않고 이번 프로젝을 위해 사용하거나 각 개발자가 사이트에서 생성한 자신의 키값 사용)\n",
    "KAKAO_API_KEY = 'c1eeebb20cc2eca5f129e462c714235b'"
   ]
  },
  {
   "cell_type": "markdown",
   "metadata": {},
   "source": [
    "### 개발하면서 느낀 점\n",
    "1. 함수 호출 및 성능 문제: 단일 건에 대한 함수 호출은 간단해 보이지만, 다량의 데이터 처리를 요구할 때 최적화 작업이 요구된다.\n",
    "\n",
    "2. 성능 개선의 필요성: 현재 성능적인 부분은 개선이 필요하다.\n",
    "\n",
    "3. 코파일럿의 도움과 경험 부족: 코파일럿이 제공하는 코드는 많은 도움이 되지만, 경험 부족으로 인해 코드를 그대로 사용하기에는 어려움이 있었다. 코드를 이해하고 수정하는 과정에서 오류가 발생하는 경우가 많았다.\n",
    "\n",
    "4. .ipynb 파일 작업의 혼동: .ipynb 파일로 작업할 때, 이전 셀의 결과가 이후 셀에 영향을 미치기 때문에 혼동스러웠다. 이전 코드의 결과가 후속 코드에 영향을 미쳐 예상치 못한 결과를 초래할 수 있다. 각 셀의 독립성을 유지하고, 셀 실행 순서를 신중하게 관리해야 한다."
   ]
  },
  {
   "cell_type": "markdown",
   "metadata": {},
   "source": [
    "### 추가 설치 필요"
   ]
  },
  {
   "cell_type": "code",
   "execution_count": null,
   "metadata": {},
   "outputs": [],
   "source": [
    "# !pip install requests\n",
    "# !pip install aiohttp"
   ]
  },
  {
   "cell_type": "code",
   "execution_count": 115,
   "metadata": {},
   "outputs": [],
   "source": [
    "import requests\n",
    "import pyarrow.parquet as arrow_parquet\n",
    "import pyarrow as pa\n",
    "import pandas as pd\n",
    "import numpy as np\n"
   ]
  },
  {
   "cell_type": "markdown",
   "metadata": {},
   "source": [
    "## 간단한 데이터 프레임으로 테스트\n",
    "### 리턴 값 document 예\n",
    "> [{'address': {'address_name': '서울 강남구 개포동 658-1',\n",
    "   'b_code': '1168010300',\n",
    "   'h_code': '1168069000',\n",
    "   'main_address_no': '658',\n",
    "   'mountain_yn': 'N',\n",
    "   'region_1depth_name': '서울',\n",
    "   'region_2depth_name': '강남구',\n",
    "   'region_3depth_h_name': '개포4동',\n",
    "   'region_3depth_name': '개포동',\n",
    "   'sub_address_no': '1',\n",
    "   'x': '127.05721239635',\n",
    "   'y': '37.4761560791019'},\n",
    "  'address_name': '서울 강남구 개포동 658-1',\n",
    "  'address_type': 'REGION_ADDR',\n",
    "  'road_address': {'address_name': '서울 강남구 언주로 3',\n",
    "   'building_name': '우성6차아파트',\n",
    "   'main_building_no': '3',\n",
    "   'region_1depth_name': '서울',\n",
    "   'region_2depth_name': '강남구',\n",
    "   'region_3depth_name': '개포동',\n",
    "   'road_name': '언주로',\n",
    "   'sub_building_no': '',\n",
    "   'underground_yn': 'N',\n",
    "   'x': '127.055925867398',\n",
    "   'y': '37.4767921771121',\n",
    "   'zone_no': '06316'},\n",
    "  'x': '127.05721239635',\n",
    "  'y': '37.4761560791019'}]"
   ]
  },
  {
   "cell_type": "code",
   "execution_count": 116,
   "metadata": {},
   "outputs": [
    {
     "data": {
      "text/html": [
       "<div>\n",
       "<style scoped>\n",
       "    .dataframe tbody tr th:only-of-type {\n",
       "        vertical-align: middle;\n",
       "    }\n",
       "\n",
       "    .dataframe tbody tr th {\n",
       "        vertical-align: top;\n",
       "    }\n",
       "\n",
       "    .dataframe thead th {\n",
       "        text-align: right;\n",
       "    }\n",
       "</style>\n",
       "<table border=\"1\" class=\"dataframe\">\n",
       "  <thead>\n",
       "    <tr style=\"text-align: right;\">\n",
       "      <th></th>\n",
       "      <th>시군구</th>\n",
       "      <th>번지</th>\n",
       "      <th>주소</th>\n",
       "      <th>위도y</th>\n",
       "      <th>경도x</th>\n",
       "    </tr>\n",
       "  </thead>\n",
       "  <tbody>\n",
       "    <tr>\n",
       "      <th>0</th>\n",
       "      <td>서울특별시 중랑구 중화동</td>\n",
       "      <td>450</td>\n",
       "      <td>서울특별시 중랑구 중화동 450</td>\n",
       "      <td>37.5971495731568</td>\n",
       "      <td>127.081907230062</td>\n",
       "    </tr>\n",
       "    <tr>\n",
       "      <th>1</th>\n",
       "      <td></td>\n",
       "      <td>서울특별시 강남구 대치동 도곡로93길 23</td>\n",
       "      <td>서울특별시 강남구 대치동 도곡로93길 23</td>\n",
       "      <td>37.5013575539498</td>\n",
       "      <td>127.063355872072</td>\n",
       "    </tr>\n",
       "  </tbody>\n",
       "</table>\n",
       "</div>"
      ],
      "text/plain": [
       "             시군구                       번지                        주소  \\\n",
       "0  서울특별시 중랑구 중화동                      450         서울특별시 중랑구 중화동 450   \n",
       "1                 서울특별시 강남구 대치동 도곡로93길 23   서울특별시 강남구 대치동 도곡로93길 23   \n",
       "\n",
       "                위도y               경도x  \n",
       "0  37.5971495731568  127.081907230062  \n",
       "1  37.5013575539498  127.063355872072  "
      ]
     },
     "metadata": {},
     "output_type": "display_data"
    }
   ],
   "source": [
    "# 주소 넣어서 위도 경도 얻는 함수\n",
    "def get_lat_lng(address):\n",
    "    url = 'https://dapi.kakao.com/v2/local/search/address.json'\n",
    "    headers = {\"Authorization\": f\"KakaoAK {KAKAO_API_KEY}\"}\n",
    "    params = {'query': address}\n",
    "    \n",
    "    response = requests.get(url, headers=headers, params=params)\n",
    "    \n",
    "    if response.status_code == 200:\n",
    "        result = response.json()\n",
    "        if result['documents']:\n",
    "            address_info = result['documents'][0]['address']\n",
    "            # documents 리턴값 출력\n",
    "            # display(result['documents'])\n",
    "            return address_info['y'], address_info['x']  # 위도(y), 경도(x)\n",
    "    return None, None\n",
    "\n",
    "# 예제 데이터프레임 생성\n",
    "data = {\n",
    "    '시군구': ['서울특별시 중랑구 중화동', ''],\n",
    "    '번지': ['450', '서울특별시 강남구 대치동 도곡로93길 23']    \n",
    "}\n",
    "df = pd.DataFrame(data)\n",
    "\n",
    "# 주소 생성\n",
    "df['주소'] = df['시군구'] + ' ' + df['번지']\n",
    "\n",
    "# 위도와 경도 컬럼 추가\n",
    "df['위도y'] = None\n",
    "df['경도x'] = None\n",
    "\n",
    "# 각 주소에 대해 위도와 경도 가져오기\n",
    "for i in range(len(df)):\n",
    "    address = df.loc[i, '주소']\n",
    "    lat, lng = get_lat_lng(address)\n",
    "    df.at[i, '위도y'] = lat\n",
    "    df.at[i, '경도x'] = lng\n",
    "\n",
    "# Parquet 파일로 저장\n",
    "table = pa.Table.from_pandas(df)\n",
    "arrow_parquet.write_table(table, '../addresses.parquet')\n",
    "\n",
    "# Parquet 파일 읽기\n",
    "df_read = arrow_parquet.read_table('../addresses.parquet').to_pandas()\n",
    "display(df_read)\n"
   ]
  },
  {
   "cell_type": "markdown",
   "metadata": {},
   "source": [
    "### 데이터 로드"
   ]
  },
  {
   "cell_type": "code",
   "execution_count": 117,
   "metadata": {},
   "outputs": [
    {
     "name": "stderr",
     "output_type": "stream",
     "text": [
      "/tmp/ipykernel_313699/808722576.py:4: DtypeWarning: Columns (16,17,36) have mixed types. Specify dtype option on import or set low_memory=False.\n",
      "  dt = pd.read_csv(train_path)\n"
     ]
    }
   ],
   "source": [
    "# null값 등 처리가 달라지는 문제 때문에 CSV 파일로 다시 진행했습니다.\n",
    "train_path = '../train.csv'\n",
    "test_path  = '../test.csv'\n",
    "dt = pd.read_csv(train_path)\n",
    "dt_test = pd.read_csv(test_path)"
   ]
  },
  {
   "cell_type": "code",
   "execution_count": 118,
   "metadata": {},
   "outputs": [],
   "source": [
    "# train/test 구분을 위한 칼럼을 하나 만들어 줍니다.\n",
    "dt['is_test'] = 0\n",
    "dt_test['is_test'] = 1\n",
    "concat = pd.concat([dt, dt_test])     # 하나의 데이터로 만들어줍니다."
   ]
  },
  {
   "cell_type": "code",
   "execution_count": 119,
   "metadata": {},
   "outputs": [
    {
     "data": {
      "text/plain": [
       "시군구                             0\n",
       "번지                            227\n",
       "본번                             75\n",
       "부번                             75\n",
       "아파트명                         2136\n",
       "전용면적(㎡)                         0\n",
       "계약년월                            0\n",
       "계약일                             0\n",
       "층                               0\n",
       "건축년도                            0\n",
       "도로명                             0\n",
       "해제사유발생일                   1121899\n",
       "등기신청일자                          0\n",
       "거래유형                            0\n",
       "중개사소재지                          0\n",
       "k-단지분류(아파트,주상복합등등)         877273\n",
       "k-전화번호                     876850\n",
       "k-팩스번호                     879348\n",
       "단지소개기존clob                1058958\n",
       "k-세대타입(분양형태)               876125\n",
       "k-관리방식                     876125\n",
       "k-복도유형                     876454\n",
       "k-난방방식                     876125\n",
       "k-전체동수                     877207\n",
       "k-전체세대수                    876125\n",
       "k-건설사(시공사)                 877637\n",
       "k-시행사                      877834\n",
       "k-사용검사일-사용승인일              876259\n",
       "k-연면적                      876125\n",
       "k-주거전용면적                   876170\n",
       "k-관리비부과면적                  876125\n",
       "k-전용면적별세대현황(60㎡이하)         876170\n",
       "k-전용면적별세대현황(60㎡~85㎡이하)     876170\n",
       "k-85㎡~135㎡이하               876170\n",
       "k-135㎡초과                  1127765\n",
       "k-홈페이지                    1013523\n",
       "k-등록일자                    1116386\n",
       "k-수정일자                     876170\n",
       "고용보험관리번호                   920757\n",
       "경비비관리형태                    877561\n",
       "세대전기계약방법                   885389\n",
       "청소비관리형태                    877751\n",
       "건축면적                       876279\n",
       "주차대수                       876277\n",
       "기타/의무/임대/임의=1/2/3/4        876125\n",
       "단지승인일                      876854\n",
       "사용허가여부                     876125\n",
       "관리비 업로드                    876125\n",
       "좌표X                        876232\n",
       "좌표Y                        876232\n",
       "단지신청일                      876187\n",
       "target                       9272\n",
       "is_test                         0\n",
       "dtype: int64"
      ]
     },
     "execution_count": 119,
     "metadata": {},
     "output_type": "execute_result"
    }
   ],
   "source": [
    "concat.isnull().sum()"
   ]
  },
  {
   "cell_type": "code",
   "execution_count": 120,
   "metadata": {},
   "outputs": [],
   "source": [
    "# 데이터 값 처리\n",
    "# 위 처럼 아무 의미도 갖지 않는 칼럼은 결측치와 같은 역할을 하므로, np.nan으로 채워 결측치로 인식되도록 합니다.\n",
    "concat['등기신청일자'] = concat['등기신청일자'].replace(' ', np.nan)\n",
    "concat['거래유형'] = concat['거래유형'].replace('-', np.nan)\n",
    "concat['중개사소재지'] = concat['중개사소재지'].replace('-', np.nan)\n",
    "concat['번지'] = concat['번지'].replace(' ', np.nan)\n",
    "concat['도로명'] = concat['도로명'].replace(' ', np.nan)"
   ]
  },
  {
   "cell_type": "code",
   "execution_count": 121,
   "metadata": {},
   "outputs": [
    {
     "data": {
      "text/plain": [
       "시군구                             0\n",
       "번지                            227\n",
       "본번                             75\n",
       "부번                             75\n",
       "아파트명                         2136\n",
       "전용면적(㎡)                         0\n",
       "계약년월                            0\n",
       "계약일                             0\n",
       "층                               0\n",
       "건축년도                            0\n",
       "도로명                          1211\n",
       "해제사유발생일                   1121899\n",
       "등기신청일자                    1111271\n",
       "거래유형                      1086451\n",
       "중개사소재지                    1090013\n",
       "k-단지분류(아파트,주상복합등등)         877273\n",
       "k-전화번호                     876850\n",
       "k-팩스번호                     879348\n",
       "단지소개기존clob                1058958\n",
       "k-세대타입(분양형태)               876125\n",
       "k-관리방식                     876125\n",
       "k-복도유형                     876454\n",
       "k-난방방식                     876125\n",
       "k-전체동수                     877207\n",
       "k-전체세대수                    876125\n",
       "k-건설사(시공사)                 877637\n",
       "k-시행사                      877834\n",
       "k-사용검사일-사용승인일              876259\n",
       "k-연면적                      876125\n",
       "k-주거전용면적                   876170\n",
       "k-관리비부과면적                  876125\n",
       "k-전용면적별세대현황(60㎡이하)         876170\n",
       "k-전용면적별세대현황(60㎡~85㎡이하)     876170\n",
       "k-85㎡~135㎡이하               876170\n",
       "k-135㎡초과                  1127765\n",
       "k-홈페이지                    1013523\n",
       "k-등록일자                    1116386\n",
       "k-수정일자                     876170\n",
       "고용보험관리번호                   920757\n",
       "경비비관리형태                    877561\n",
       "세대전기계약방법                   885389\n",
       "청소비관리형태                    877751\n",
       "건축면적                       876279\n",
       "주차대수                       876277\n",
       "기타/의무/임대/임의=1/2/3/4        876125\n",
       "단지승인일                      876854\n",
       "사용허가여부                     876125\n",
       "관리비 업로드                    876125\n",
       "좌표X                        876232\n",
       "좌표Y                        876232\n",
       "단지신청일                      876187\n",
       "target                       9272\n",
       "is_test                         0\n",
       "dtype: int64"
      ]
     },
     "execution_count": 121,
     "metadata": {},
     "output_type": "execute_result"
    }
   ],
   "source": [
    "concat.isnull().sum()"
   ]
  },
  {
   "cell_type": "code",
   "execution_count": 122,
   "metadata": {},
   "outputs": [],
   "source": [
    "# 위에서 결측치가 100만개 이하인 변수들만 골라 새로운 concat_select 객체로 저장해줍니다.\n",
    "selected = list(concat.columns[concat.isnull().sum() <= 1000000])\n",
    "concat_select = concat[selected]"
   ]
  },
  {
   "cell_type": "code",
   "execution_count": 123,
   "metadata": {},
   "outputs": [
    {
     "data": {
      "text/plain": [
       "시군구                            0\n",
       "번지                           227\n",
       "본번                            75\n",
       "부번                            75\n",
       "아파트명                        2136\n",
       "전용면적(㎡)                        0\n",
       "계약년월                           0\n",
       "계약일                            0\n",
       "층                              0\n",
       "건축년도                           0\n",
       "도로명                         1211\n",
       "k-단지분류(아파트,주상복합등등)        877273\n",
       "k-전화번호                    876850\n",
       "k-팩스번호                    879348\n",
       "k-세대타입(분양형태)              876125\n",
       "k-관리방식                    876125\n",
       "k-복도유형                    876454\n",
       "k-난방방식                    876125\n",
       "k-전체동수                    877207\n",
       "k-전체세대수                   876125\n",
       "k-건설사(시공사)                877637\n",
       "k-시행사                     877834\n",
       "k-사용검사일-사용승인일             876259\n",
       "k-연면적                     876125\n",
       "k-주거전용면적                  876170\n",
       "k-관리비부과면적                 876125\n",
       "k-전용면적별세대현황(60㎡이하)        876170\n",
       "k-전용면적별세대현황(60㎡~85㎡이하)    876170\n",
       "k-85㎡~135㎡이하              876170\n",
       "k-수정일자                    876170\n",
       "고용보험관리번호                  920757\n",
       "경비비관리형태                   877561\n",
       "세대전기계약방법                  885389\n",
       "청소비관리형태                   877751\n",
       "건축면적                      876279\n",
       "주차대수                      876277\n",
       "기타/의무/임대/임의=1/2/3/4       876125\n",
       "단지승인일                     876854\n",
       "사용허가여부                    876125\n",
       "관리비 업로드                   876125\n",
       "좌표X                       876232\n",
       "좌표Y                       876232\n",
       "단지신청일                     876187\n",
       "target                      9272\n",
       "is_test                        0\n",
       "dtype: int64"
      ]
     },
     "execution_count": 123,
     "metadata": {},
     "output_type": "execute_result"
    }
   ],
   "source": [
    "concat_select.isnull().sum()     # 결측치가 100만개 초과인 칼럼이 제거된 모습은 아래와 같습니다.\n",
    "# target변수는 test dataset 개수만큼(9272) 결측치가 존재함을 확인할 수 있습니다."
   ]
  },
  {
   "cell_type": "code",
   "execution_count": 124,
   "metadata": {},
   "outputs": [
    {
     "data": {
      "text/plain": [
       "시군구         0\n",
       "번지        227\n",
       "도로명      1211\n",
       "좌표X    876232\n",
       "좌표Y    876232\n",
       "dtype: int64"
      ]
     },
     "execution_count": 124,
     "metadata": {},
     "output_type": "execute_result"
    }
   ],
   "source": [
    "xy_concat_select = concat_select[['시군구','번지','도로명','좌표X','좌표Y']]\n",
    "xy_concat_select.head()\n",
    "xy_concat_select.isna().sum()"
   ]
  },
  {
   "cell_type": "markdown",
   "metadata": {},
   "source": [
    "### 주소 데이터 결측치 처리\n",
    "1. 시군구는 Null값 없음\n",
    "2.  번지가 Null인 모든 데이터가 도로명 있음\n",
    "3. [ 시군구+도로명 ] 우선으로 위도/경도 결측치 채우고 \n",
    "4. 도로명이 Null이면 [ 시군구+번지 ]로 결측치 채우기\n",
    "5. 위도와 경도 가져오기: get_lat_lng 함수를 호출하여 위도와 경도를 가져옵니다."
   ]
  },
  {
   "cell_type": "code",
   "execution_count": 125,
   "metadata": {},
   "outputs": [
    {
     "name": "stdout",
     "output_type": "stream",
     "text": [
      "               시군구   번지     도로명  좌표X  좌표Y\n",
      "975  서울특별시 강남구 개포동  189  삼성로 14  NaN  NaN\n"
     ]
    }
   ],
   "source": [
    "# 결측치 첫번째 데이터 확인\n",
    "print(xy_concat_select[xy_concat_select['좌표X'].isna()].head(1))"
   ]
  },
  {
   "cell_type": "code",
   "execution_count": 126,
   "metadata": {},
   "outputs": [
    {
     "data": {
      "text/html": [
       "<div>\n",
       "<style scoped>\n",
       "    .dataframe tbody tr th:only-of-type {\n",
       "        vertical-align: middle;\n",
       "    }\n",
       "\n",
       "    .dataframe tbody tr th {\n",
       "        vertical-align: top;\n",
       "    }\n",
       "\n",
       "    .dataframe thead th {\n",
       "        text-align: right;\n",
       "    }\n",
       "</style>\n",
       "<table border=\"1\" class=\"dataframe\">\n",
       "  <thead>\n",
       "    <tr style=\"text-align: right;\">\n",
       "      <th></th>\n",
       "      <th>시군구</th>\n",
       "      <th>번지</th>\n",
       "      <th>도로명</th>\n",
       "      <th>좌표X</th>\n",
       "      <th>좌표Y</th>\n",
       "    </tr>\n",
       "  </thead>\n",
       "  <tbody>\n",
       "    <tr>\n",
       "      <th>0</th>\n",
       "      <td>서울특별시 강남구 개포동</td>\n",
       "      <td>658-1</td>\n",
       "      <td>언주로 3</td>\n",
       "      <td>127.05721</td>\n",
       "      <td>37.476763</td>\n",
       "    </tr>\n",
       "    <tr>\n",
       "      <th>1</th>\n",
       "      <td>서울특별시 강남구 개포동</td>\n",
       "      <td>658-1</td>\n",
       "      <td>언주로 3</td>\n",
       "      <td>127.05721</td>\n",
       "      <td>37.476763</td>\n",
       "    </tr>\n",
       "    <tr>\n",
       "      <th>2</th>\n",
       "      <td>서울특별시 강남구 개포동</td>\n",
       "      <td>658-1</td>\n",
       "      <td>언주로 3</td>\n",
       "      <td>127.05721</td>\n",
       "      <td>37.476763</td>\n",
       "    </tr>\n",
       "    <tr>\n",
       "      <th>3</th>\n",
       "      <td>서울특별시 강남구 개포동</td>\n",
       "      <td>658-1</td>\n",
       "      <td>언주로 3</td>\n",
       "      <td>127.05721</td>\n",
       "      <td>37.476763</td>\n",
       "    </tr>\n",
       "    <tr>\n",
       "      <th>4</th>\n",
       "      <td>서울특별시 강남구 개포동</td>\n",
       "      <td>658-1</td>\n",
       "      <td>언주로 3</td>\n",
       "      <td>127.05721</td>\n",
       "      <td>37.476763</td>\n",
       "    </tr>\n",
       "  </tbody>\n",
       "</table>\n",
       "</div>"
      ],
      "text/plain": [
       "             시군구     번지    도로명        좌표X        좌표Y\n",
       "0  서울특별시 강남구 개포동  658-1  언주로 3  127.05721  37.476763\n",
       "1  서울특별시 강남구 개포동  658-1  언주로 3  127.05721  37.476763\n",
       "2  서울특별시 강남구 개포동  658-1  언주로 3  127.05721  37.476763\n",
       "3  서울특별시 강남구 개포동  658-1  언주로 3  127.05721  37.476763\n",
       "4  서울특별시 강남구 개포동  658-1  언주로 3  127.05721  37.476763"
      ]
     },
     "execution_count": 126,
     "metadata": {},
     "output_type": "execute_result"
    }
   ],
   "source": [
    "# 최소한의 데이터만 가지고 작업\n",
    "xy_concat_select.head()"
   ]
  },
  {
   "cell_type": "markdown",
   "metadata": {},
   "source": [
    "### 주소 컬럼 새로 만들어서 값 세팅"
   ]
  },
  {
   "cell_type": "code",
   "execution_count": 129,
   "metadata": {},
   "outputs": [
    {
     "name": "stderr",
     "output_type": "stream",
     "text": [
      "/tmp/ipykernel_313699/1925403011.py:4: SettingWithCopyWarning: \n",
      "A value is trying to be set on a copy of a slice from a DataFrame.\n",
      "Try using .loc[row_indexer,col_indexer] = value instead\n",
      "\n",
      "See the caveats in the documentation: https://pandas.pydata.org/pandas-docs/stable/user_guide/indexing.html#returning-a-view-versus-a-copy\n",
      "  df['주소'] = np.where(df['도로명'].notna() & df['도로명'].str.strip().astype(bool),\n"
     ]
    },
    {
     "data": {
      "text/html": [
       "<div>\n",
       "<style scoped>\n",
       "    .dataframe tbody tr th:only-of-type {\n",
       "        vertical-align: middle;\n",
       "    }\n",
       "\n",
       "    .dataframe tbody tr th {\n",
       "        vertical-align: top;\n",
       "    }\n",
       "\n",
       "    .dataframe thead th {\n",
       "        text-align: right;\n",
       "    }\n",
       "</style>\n",
       "<table border=\"1\" class=\"dataframe\">\n",
       "  <thead>\n",
       "    <tr style=\"text-align: right;\">\n",
       "      <th></th>\n",
       "      <th>시군구</th>\n",
       "      <th>번지</th>\n",
       "      <th>도로명</th>\n",
       "      <th>좌표X</th>\n",
       "      <th>좌표Y</th>\n",
       "      <th>주소</th>\n",
       "    </tr>\n",
       "  </thead>\n",
       "  <tbody>\n",
       "    <tr>\n",
       "      <th>0</th>\n",
       "      <td>서울특별시 강남구 개포동</td>\n",
       "      <td>658-1</td>\n",
       "      <td>언주로 3</td>\n",
       "      <td>127.05721</td>\n",
       "      <td>37.476763</td>\n",
       "      <td>서울특별시 강남구 개포동 언주로 3</td>\n",
       "    </tr>\n",
       "    <tr>\n",
       "      <th>1</th>\n",
       "      <td>서울특별시 강남구 개포동</td>\n",
       "      <td>658-1</td>\n",
       "      <td>언주로 3</td>\n",
       "      <td>127.05721</td>\n",
       "      <td>37.476763</td>\n",
       "      <td>서울특별시 강남구 개포동 언주로 3</td>\n",
       "    </tr>\n",
       "    <tr>\n",
       "      <th>2</th>\n",
       "      <td>서울특별시 강남구 개포동</td>\n",
       "      <td>658-1</td>\n",
       "      <td>언주로 3</td>\n",
       "      <td>127.05721</td>\n",
       "      <td>37.476763</td>\n",
       "      <td>서울특별시 강남구 개포동 언주로 3</td>\n",
       "    </tr>\n",
       "    <tr>\n",
       "      <th>3</th>\n",
       "      <td>서울특별시 강남구 개포동</td>\n",
       "      <td>658-1</td>\n",
       "      <td>언주로 3</td>\n",
       "      <td>127.05721</td>\n",
       "      <td>37.476763</td>\n",
       "      <td>서울특별시 강남구 개포동 언주로 3</td>\n",
       "    </tr>\n",
       "    <tr>\n",
       "      <th>4</th>\n",
       "      <td>서울특별시 강남구 개포동</td>\n",
       "      <td>658-1</td>\n",
       "      <td>언주로 3</td>\n",
       "      <td>127.05721</td>\n",
       "      <td>37.476763</td>\n",
       "      <td>서울특별시 강남구 개포동 언주로 3</td>\n",
       "    </tr>\n",
       "  </tbody>\n",
       "</table>\n",
       "</div>"
      ],
      "text/plain": [
       "             시군구     번지    도로명        좌표X        좌표Y                   주소\n",
       "0  서울특별시 강남구 개포동  658-1  언주로 3  127.05721  37.476763  서울특별시 강남구 개포동 언주로 3\n",
       "1  서울특별시 강남구 개포동  658-1  언주로 3  127.05721  37.476763  서울특별시 강남구 개포동 언주로 3\n",
       "2  서울특별시 강남구 개포동  658-1  언주로 3  127.05721  37.476763  서울특별시 강남구 개포동 언주로 3\n",
       "3  서울특별시 강남구 개포동  658-1  언주로 3  127.05721  37.476763  서울특별시 강남구 개포동 언주로 3\n",
       "4  서울특별시 강남구 개포동  658-1  언주로 3  127.05721  37.476763  서울특별시 강남구 개포동 언주로 3"
      ]
     },
     "execution_count": 129,
     "metadata": {},
     "output_type": "execute_result"
    }
   ],
   "source": [
    "df = xy_concat_select\n",
    "\n",
    "# 주소 생성: '도로명' 있는 경우에는 '시군구+도로명'을 사용하고 '도로명' 없는 경우 '시군구+번지'로 주소 세팅\n",
    "df['주소'] = np.where(df['도로명'].notna() & df['도로명'].str.strip().astype(bool),\n",
    "                      df['시군구'] + ' ' + df['도로명'],\n",
    "                      df['시군구'] + ' ' + df['번지'].fillna(''))\n",
    "df.head()"
   ]
  },
  {
   "cell_type": "markdown",
   "metadata": {},
   "source": [
    "\n",
    "\n",
    "### 주의 : 많은 시간 소요 (15분 정도 걸림)\n",
    "* 테스트를 위해서는 ''' ''' 주석 풀고 실행\n",
    "* 트레인과 테스트 파일 합친 데이터프레임을 for 루프 돌면서 좌표 없는 값들만 채워준다.\n",
    "* 동일 주소가 많아서 이전 주소와 같으면 그 주소로 세팅하고 다르면 리모트 함수를 호출하도록 했다.\n",
    "* 실행없이 결과파일을 사용하거나 확인하려면 함께 업로드한 outputFinal.csv 참조\n"
   ]
  },
  {
   "cell_type": "code",
   "execution_count": null,
   "metadata": {},
   "outputs": [
    {
     "name": "stderr",
     "output_type": "stream",
     "text": [
      "/tmp/ipykernel_313699/3284368956.py:33: SettingWithCopyWarning: \n",
      "A value is trying to be set on a copy of a slice from a DataFrame\n",
      "\n",
      "See the caveats in the documentation: https://pandas.pydata.org/pandas-docs/stable/user_guide/indexing.html#returning-a-view-versus-a-copy\n",
      "  df.at[i,'좌표Y'] = lat\n",
      "/tmp/ipykernel_313699/3284368956.py:34: SettingWithCopyWarning: \n",
      "A value is trying to be set on a copy of a slice from a DataFrame\n",
      "\n",
      "See the caveats in the documentation: https://pandas.pydata.org/pandas-docs/stable/user_guide/indexing.html#returning-a-view-versus-a-copy\n",
      "  df.at[i,'좌표X'] = lng\n"
     ]
    },
    {
     "data": {
      "text/html": [
       "<div>\n",
       "<style scoped>\n",
       "    .dataframe tbody tr th:only-of-type {\n",
       "        vertical-align: middle;\n",
       "    }\n",
       "\n",
       "    .dataframe tbody tr th {\n",
       "        vertical-align: top;\n",
       "    }\n",
       "\n",
       "    .dataframe thead th {\n",
       "        text-align: right;\n",
       "    }\n",
       "</style>\n",
       "<table border=\"1\" class=\"dataframe\">\n",
       "  <thead>\n",
       "    <tr style=\"text-align: right;\">\n",
       "      <th></th>\n",
       "      <th>시군구</th>\n",
       "      <th>번지</th>\n",
       "      <th>도로명</th>\n",
       "      <th>좌표X</th>\n",
       "      <th>좌표Y</th>\n",
       "      <th>주소</th>\n",
       "    </tr>\n",
       "  </thead>\n",
       "  <tbody>\n",
       "    <tr>\n",
       "      <th>0</th>\n",
       "      <td>서울특별시 강남구 개포동</td>\n",
       "      <td>658-1</td>\n",
       "      <td>언주로 3</td>\n",
       "      <td>127.05721</td>\n",
       "      <td>37.476763</td>\n",
       "      <td>서울특별시 강남구 개포동 언주로 3</td>\n",
       "    </tr>\n",
       "    <tr>\n",
       "      <th>1</th>\n",
       "      <td>서울특별시 강남구 개포동</td>\n",
       "      <td>658-1</td>\n",
       "      <td>언주로 3</td>\n",
       "      <td>127.05721</td>\n",
       "      <td>37.476763</td>\n",
       "      <td>서울특별시 강남구 개포동 언주로 3</td>\n",
       "    </tr>\n",
       "    <tr>\n",
       "      <th>2</th>\n",
       "      <td>서울특별시 강남구 개포동</td>\n",
       "      <td>658-1</td>\n",
       "      <td>언주로 3</td>\n",
       "      <td>127.05721</td>\n",
       "      <td>37.476763</td>\n",
       "      <td>서울특별시 강남구 개포동 언주로 3</td>\n",
       "    </tr>\n",
       "    <tr>\n",
       "      <th>3</th>\n",
       "      <td>서울특별시 강남구 개포동</td>\n",
       "      <td>658-1</td>\n",
       "      <td>언주로 3</td>\n",
       "      <td>127.05721</td>\n",
       "      <td>37.476763</td>\n",
       "      <td>서울특별시 강남구 개포동 언주로 3</td>\n",
       "    </tr>\n",
       "    <tr>\n",
       "      <th>4</th>\n",
       "      <td>서울특별시 강남구 개포동</td>\n",
       "      <td>658-1</td>\n",
       "      <td>언주로 3</td>\n",
       "      <td>127.05721</td>\n",
       "      <td>37.476763</td>\n",
       "      <td>서울특별시 강남구 개포동 언주로 3</td>\n",
       "    </tr>\n",
       "    <tr>\n",
       "      <th>...</th>\n",
       "      <td>...</td>\n",
       "      <td>...</td>\n",
       "      <td>...</td>\n",
       "      <td>...</td>\n",
       "      <td>...</td>\n",
       "      <td>...</td>\n",
       "    </tr>\n",
       "    <tr>\n",
       "      <th>9267</th>\n",
       "      <td>서울특별시 중랑구 신내동</td>\n",
       "      <td>816</td>\n",
       "      <td>신내역로1길 85</td>\n",
       "      <td>127.063355872072</td>\n",
       "      <td>37.5013575539498</td>\n",
       "      <td>서울특별시 중랑구 신내동 신내역로1길 85</td>\n",
       "    </tr>\n",
       "    <tr>\n",
       "      <th>9268</th>\n",
       "      <td>서울특별시 중랑구 신내동</td>\n",
       "      <td>816</td>\n",
       "      <td>신내역로1길 85</td>\n",
       "      <td>127.063355872072</td>\n",
       "      <td>37.5013575539498</td>\n",
       "      <td>서울특별시 중랑구 신내동 신내역로1길 85</td>\n",
       "    </tr>\n",
       "    <tr>\n",
       "      <th>9269</th>\n",
       "      <td>서울특별시 중랑구 신내동</td>\n",
       "      <td>816</td>\n",
       "      <td>신내역로1길 85</td>\n",
       "      <td>127.063355872072</td>\n",
       "      <td>37.5013575539498</td>\n",
       "      <td>서울특별시 중랑구 신내동 신내역로1길 85</td>\n",
       "    </tr>\n",
       "    <tr>\n",
       "      <th>9270</th>\n",
       "      <td>서울특별시 중랑구 신내동</td>\n",
       "      <td>816</td>\n",
       "      <td>신내역로1길 85</td>\n",
       "      <td>127.063355872072</td>\n",
       "      <td>37.5013575539498</td>\n",
       "      <td>서울특별시 중랑구 신내동 신내역로1길 85</td>\n",
       "    </tr>\n",
       "    <tr>\n",
       "      <th>9271</th>\n",
       "      <td>서울특별시 중랑구 신내동</td>\n",
       "      <td>816</td>\n",
       "      <td>신내역로1길 85</td>\n",
       "      <td>127.063355872072</td>\n",
       "      <td>37.5013575539498</td>\n",
       "      <td>서울특별시 중랑구 신내동 신내역로1길 85</td>\n",
       "    </tr>\n",
       "  </tbody>\n",
       "</table>\n",
       "<p>1128094 rows × 6 columns</p>\n",
       "</div>"
      ],
      "text/plain": [
       "                시군구     번지        도로명               좌표X               좌표Y  \\\n",
       "0     서울특별시 강남구 개포동  658-1      언주로 3         127.05721         37.476763   \n",
       "1     서울특별시 강남구 개포동  658-1      언주로 3         127.05721         37.476763   \n",
       "2     서울특별시 강남구 개포동  658-1      언주로 3         127.05721         37.476763   \n",
       "3     서울특별시 강남구 개포동  658-1      언주로 3         127.05721         37.476763   \n",
       "4     서울특별시 강남구 개포동  658-1      언주로 3         127.05721         37.476763   \n",
       "...             ...    ...        ...               ...               ...   \n",
       "9267  서울특별시 중랑구 신내동    816  신내역로1길 85  127.063355872072  37.5013575539498   \n",
       "9268  서울특별시 중랑구 신내동    816  신내역로1길 85  127.063355872072  37.5013575539498   \n",
       "9269  서울특별시 중랑구 신내동    816  신내역로1길 85  127.063355872072  37.5013575539498   \n",
       "9270  서울특별시 중랑구 신내동    816  신내역로1길 85  127.063355872072  37.5013575539498   \n",
       "9271  서울특별시 중랑구 신내동    816  신내역로1길 85  127.063355872072  37.5013575539498   \n",
       "\n",
       "                           주소  \n",
       "0         서울특별시 강남구 개포동 언주로 3  \n",
       "1         서울특별시 강남구 개포동 언주로 3  \n",
       "2         서울특별시 강남구 개포동 언주로 3  \n",
       "3         서울특별시 강남구 개포동 언주로 3  \n",
       "4         서울특별시 강남구 개포동 언주로 3  \n",
       "...                       ...  \n",
       "9267  서울특별시 중랑구 신내동 신내역로1길 85  \n",
       "9268  서울특별시 중랑구 신내동 신내역로1길 85  \n",
       "9269  서울특별시 중랑구 신내동 신내역로1길 85  \n",
       "9270  서울특별시 중랑구 신내동 신내역로1길 85  \n",
       "9271  서울특별시 중랑구 신내동 신내역로1길 85  \n",
       "\n",
       "[1128094 rows x 6 columns]"
      ]
     },
     "metadata": {},
     "output_type": "display_data"
    },
    {
     "name": "stdout",
     "output_type": "stream",
     "text": [
      "CSV 파일 저장이 완료되었습니다.\n"
     ]
    }
   ],
   "source": [
    "'''\n",
    "# 카카오 함수 호출 정의\n",
    "def get_lat_lng(address):\n",
    "    url = 'https://dapi.kakao.com/v2/local/search/address.json'\n",
    "    headers = {\"Authorization\": f\"KakaoAK {KAKAO_API_KEY}\"}\n",
    "    params = {'query': address}\n",
    "    \n",
    "    response = requests.get(url, headers=headers, params=params)\n",
    "    \n",
    "    if response.status_code == 200:\n",
    "        result = response.json()\n",
    "        if result['documents']:\n",
    "            address_info = result['documents'][0]['address']\n",
    "            # documents 리턴값 출력\n",
    "            # display(result['documents'])\n",
    "            return address_info['y'], address_info['x']  # 위도(y), 경도(x)\n",
    "    return None, None\n",
    "\n",
    "# 유효한 주소에 대해 위도와 경도 가져오기\n",
    "pre_addr = None\n",
    "pre_lat, pre_lng = None, None\n",
    "\n",
    "for i, row in df.iterrows():    \n",
    "    if pd.isna(row['좌표X']):    \n",
    "        if address == pre_addr:\n",
    "            lat, lng = pre_lat, pre_lng        \n",
    "        else:\n",
    "            # display('호출')\n",
    "            lat, lng = get_lat_lng(address)\n",
    "            pre_addr = address\n",
    "            pre_lat, pre_lng = lat, lng                            \n",
    "        \n",
    "        # 값 세팅\n",
    "        df.at[i,'좌표Y'] = lat       \n",
    "        df.at[i,'좌표X'] = lng\n",
    "\n",
    "display(df)\n",
    "\n",
    "# # 결과 데이터프레임을 CSV 파일로 저장 \n",
    "df.to_csv('../outputFinal.csv', index=False) \n",
    "print(\"CSV 파일 저장이 완료되었습니다.\")\n",
    "'''"
   ]
  },
  {
   "cell_type": "code",
   "execution_count": 135,
   "metadata": {},
   "outputs": [
    {
     "data": {
      "text/plain": [
       "1128094"
      ]
     },
     "metadata": {},
     "output_type": "display_data"
    },
    {
     "data": {
      "text/plain": [
       "0"
      ]
     },
     "metadata": {},
     "output_type": "display_data"
    }
   ],
   "source": [
    "# 데이터 확인\n",
    "display(len(df))\n",
    "display(df['좌표X'].isna().sum())"
   ]
  }
 ],
 "metadata": {
  "kernelspec": {
   "display_name": "base",
   "language": "python",
   "name": "python3"
  },
  "language_info": {
   "codemirror_mode": {
    "name": "ipython",
    "version": 3
   },
   "file_extension": ".py",
   "mimetype": "text/x-python",
   "name": "python",
   "nbconvert_exporter": "python",
   "pygments_lexer": "ipython3",
   "version": "3.10.13"
  }
 },
 "nbformat": 4,
 "nbformat_minor": 2
}
