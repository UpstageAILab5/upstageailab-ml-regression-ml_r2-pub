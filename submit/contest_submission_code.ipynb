{
 "cells": [
  {
   "cell_type": "markdown",
   "metadata": {},
   "source": [
    "# **🏠 부동산 실거래가 code**\n",
    "> 부동산 실거래가 예측 대회 팀 2조입니다. 🎉\n",
    "\n",
    "## Contents\n",
    "- 목차"
   ]
  }
 ],
 "metadata": {
  "language_info": {
   "name": "python"
  }
 },
 "nbformat": 4,
 "nbformat_minor": 2
}
